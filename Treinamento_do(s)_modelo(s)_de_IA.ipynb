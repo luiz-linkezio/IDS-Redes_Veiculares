{
 "cells": [
  {
   "cell_type": "code",
   "execution_count": 47,
   "metadata": {},
   "outputs": [],
   "source": [
    "import numpy as np\n",
    "import pandas as pd\n",
    "import os\n",
    "import re\n",
    "import matplotlib.pyplot as plt\n",
    "import seaborn as sns\n",
    "from joblib import dump\n",
    "\n",
    "from sklearn.preprocessing import StandardScaler, MinMaxScaler\n",
    "\n",
    "from sklearn.model_selection import train_test_split\n",
    "\n",
    "from sklearn.metrics import roc_curve, roc_auc_score\n",
    "from sklearn.metrics import confusion_matrix\n",
    "\n",
    "from keras.callbacks import EarlyStopping\n",
    "from keras.models import Model, Sequential\n",
    "from keras.layers import Input, LSTM, RepeatVector, TimeDistributed, Dense, Dropout, BatchNormalization\n",
    "from keras.regularizers import l2\n",
    "from keras.optimizers import Adam\n",
    "from keras.losses import SparseCategoricalCrossentropy"
   ]
  },
  {
   "cell_type": "markdown",
   "metadata": {},
   "source": [
    "Definição da SEED:"
   ]
  },
  {
   "cell_type": "code",
   "execution_count": 2,
   "metadata": {},
   "outputs": [],
   "source": [
    "RANDOM_SEED = 42\n",
    "\n",
    "np.random.seed(RANDOM_SEED) # Numpy"
   ]
  },
  {
   "cell_type": "markdown",
   "metadata": {},
   "source": [
    "# Carregando os dados"
   ]
  },
  {
   "cell_type": "markdown",
   "metadata": {},
   "source": [
    "Os valores são números muito pequenos com muitas casas decimais, por isso é bom que o dataframe consiga representar isso também."
   ]
  },
  {
   "cell_type": "code",
   "execution_count": 3,
   "metadata": {},
   "outputs": [],
   "source": [
    "pd.set_option('display.float_format', '{:.20f}'.format)"
   ]
  },
  {
   "cell_type": "markdown",
   "metadata": {},
   "source": [
    "Carregando os dados:"
   ]
  },
  {
   "cell_type": "code",
   "execution_count": 4,
   "metadata": {},
   "outputs": [
    {
     "data": {
      "text/html": [
       "<div>\n",
       "<style scoped>\n",
       "    .dataframe tbody tr th:only-of-type {\n",
       "        vertical-align: middle;\n",
       "    }\n",
       "\n",
       "    .dataframe tbody tr th {\n",
       "        vertical-align: top;\n",
       "    }\n",
       "\n",
       "    .dataframe thead th {\n",
       "        text-align: right;\n",
       "    }\n",
       "</style>\n",
       "<table border=\"1\" class=\"dataframe\">\n",
       "  <thead>\n",
       "    <tr style=\"text-align: right;\">\n",
       "      <th></th>\n",
       "      <th>Timestamp</th>\n",
       "      <th>DLC</th>\n",
       "      <th>Arb ID</th>\n",
       "      <th>Byte 0</th>\n",
       "      <th>Byte 1</th>\n",
       "      <th>Byte 2</th>\n",
       "      <th>Byte 3</th>\n",
       "    </tr>\n",
       "  </thead>\n",
       "  <tbody>\n",
       "    <tr>\n",
       "      <th>0</th>\n",
       "      <td>0.00000000000000000000</td>\n",
       "      <td>3</td>\n",
       "      <td>193</td>\n",
       "      <td>0</td>\n",
       "      <td>0</td>\n",
       "      <td>0</td>\n",
       "      <td>-1</td>\n",
       "    </tr>\n",
       "    <tr>\n",
       "      <th>1</th>\n",
       "      <td>0.00012946128845210000</td>\n",
       "      <td>3</td>\n",
       "      <td>193</td>\n",
       "      <td>0</td>\n",
       "      <td>0</td>\n",
       "      <td>0</td>\n",
       "      <td>-1</td>\n",
       "    </tr>\n",
       "    <tr>\n",
       "      <th>2</th>\n",
       "      <td>0.00015544891357419999</td>\n",
       "      <td>3</td>\n",
       "      <td>193</td>\n",
       "      <td>0</td>\n",
       "      <td>0</td>\n",
       "      <td>0</td>\n",
       "      <td>-1</td>\n",
       "    </tr>\n",
       "    <tr>\n",
       "      <th>3</th>\n",
       "      <td>0.00015616416931149999</td>\n",
       "      <td>3</td>\n",
       "      <td>193</td>\n",
       "      <td>0</td>\n",
       "      <td>0</td>\n",
       "      <td>0</td>\n",
       "      <td>-1</td>\n",
       "    </tr>\n",
       "    <tr>\n",
       "      <th>4</th>\n",
       "      <td>0.00013208389282220000</td>\n",
       "      <td>2</td>\n",
       "      <td>194</td>\n",
       "      <td>24</td>\n",
       "      <td>0</td>\n",
       "      <td>-1</td>\n",
       "      <td>-1</td>\n",
       "    </tr>\n",
       "    <tr>\n",
       "      <th>...</th>\n",
       "      <td>...</td>\n",
       "      <td>...</td>\n",
       "      <td>...</td>\n",
       "      <td>...</td>\n",
       "      <td>...</td>\n",
       "      <td>...</td>\n",
       "      <td>...</td>\n",
       "    </tr>\n",
       "    <tr>\n",
       "      <th>2673812</th>\n",
       "      <td>0.00172662734985350001</td>\n",
       "      <td>1</td>\n",
       "      <td>165</td>\n",
       "      <td>88</td>\n",
       "      <td>-1</td>\n",
       "      <td>-1</td>\n",
       "      <td>-1</td>\n",
       "    </tr>\n",
       "    <tr>\n",
       "      <th>2673813</th>\n",
       "      <td>0.00108718872070310006</td>\n",
       "      <td>1</td>\n",
       "      <td>165</td>\n",
       "      <td>88</td>\n",
       "      <td>-1</td>\n",
       "      <td>-1</td>\n",
       "      <td>-1</td>\n",
       "    </tr>\n",
       "    <tr>\n",
       "      <th>2673814</th>\n",
       "      <td>0.00091290473937979998</td>\n",
       "      <td>1</td>\n",
       "      <td>165</td>\n",
       "      <td>88</td>\n",
       "      <td>-1</td>\n",
       "      <td>-1</td>\n",
       "      <td>-1</td>\n",
       "    </tr>\n",
       "    <tr>\n",
       "      <th>2673815</th>\n",
       "      <td>0.00008821487426757812</td>\n",
       "      <td>1</td>\n",
       "      <td>165</td>\n",
       "      <td>88</td>\n",
       "      <td>-1</td>\n",
       "      <td>-1</td>\n",
       "      <td>-1</td>\n",
       "    </tr>\n",
       "    <tr>\n",
       "      <th>2673816</th>\n",
       "      <td>0.00088882446289059995</td>\n",
       "      <td>1</td>\n",
       "      <td>165</td>\n",
       "      <td>88</td>\n",
       "      <td>-1</td>\n",
       "      <td>-1</td>\n",
       "      <td>-1</td>\n",
       "    </tr>\n",
       "  </tbody>\n",
       "</table>\n",
       "<p>2673817 rows × 7 columns</p>\n",
       "</div>"
      ],
      "text/plain": [
       "                     Timestamp  DLC  Arb ID  Byte 0  Byte 1  Byte 2  Byte 3\n",
       "0       0.00000000000000000000    3     193       0       0       0      -1\n",
       "1       0.00012946128845210000    3     193       0       0       0      -1\n",
       "2       0.00015544891357419999    3     193       0       0       0      -1\n",
       "3       0.00015616416931149999    3     193       0       0       0      -1\n",
       "4       0.00013208389282220000    2     194      24       0      -1      -1\n",
       "...                        ...  ...     ...     ...     ...     ...     ...\n",
       "2673812 0.00172662734985350001    1     165      88      -1      -1      -1\n",
       "2673813 0.00108718872070310006    1     165      88      -1      -1      -1\n",
       "2673814 0.00091290473937979998    1     165      88      -1      -1      -1\n",
       "2673815 0.00008821487426757812    1     165      88      -1      -1      -1\n",
       "2673816 0.00088882446289059995    1     165      88      -1      -1      -1\n",
       "\n",
       "[2673817 rows x 7 columns]"
      ]
     },
     "execution_count": 4,
     "metadata": {},
     "output_type": "execute_result"
    }
   ],
   "source": [
    "df_benign = pd.read_csv(\"data/dados benignos/mensagens_benignas.csv\")\n",
    "df_benign"
   ]
  },
  {
   "cell_type": "code",
   "execution_count": 5,
   "metadata": {},
   "outputs": [],
   "source": [
    "df_malicious_random_dos = pd.read_csv(\"data/ataques/mensagens_maliciosas_random_dos.csv\")\n",
    "df_malicious_spoofing_zero_payload = pd.read_csv(\"data/ataques/mensagens_maliciosas_spoofing_zero_payload.csv\")\n",
    "df_malicious_zero_dos = pd.read_csv(\"data/ataques/mensagens_maliciosas_zero_dos.csv\")"
   ]
  },
  {
   "cell_type": "code",
   "execution_count": 6,
   "metadata": {},
   "outputs": [
    {
     "data": {
      "text/html": [
       "<div>\n",
       "<style scoped>\n",
       "    .dataframe tbody tr th:only-of-type {\n",
       "        vertical-align: middle;\n",
       "    }\n",
       "\n",
       "    .dataframe tbody tr th {\n",
       "        vertical-align: top;\n",
       "    }\n",
       "\n",
       "    .dataframe thead th {\n",
       "        text-align: right;\n",
       "    }\n",
       "</style>\n",
       "<table border=\"1\" class=\"dataframe\">\n",
       "  <thead>\n",
       "    <tr style=\"text-align: right;\">\n",
       "      <th></th>\n",
       "      <th>Timestamp</th>\n",
       "      <th>DLC</th>\n",
       "      <th>Arb ID</th>\n",
       "      <th>Byte 0</th>\n",
       "      <th>Byte 1</th>\n",
       "      <th>Byte 2</th>\n",
       "      <th>Byte 3</th>\n",
       "    </tr>\n",
       "  </thead>\n",
       "  <tbody>\n",
       "    <tr>\n",
       "      <th>0</th>\n",
       "      <td>0.00000000000000000000</td>\n",
       "      <td>4</td>\n",
       "      <td>192</td>\n",
       "      <td>17</td>\n",
       "      <td>110</td>\n",
       "      <td>1</td>\n",
       "      <td>93</td>\n",
       "    </tr>\n",
       "    <tr>\n",
       "      <th>1</th>\n",
       "      <td>0.00037145614624020001</td>\n",
       "      <td>1</td>\n",
       "      <td>1061</td>\n",
       "      <td>225</td>\n",
       "      <td>-1</td>\n",
       "      <td>-1</td>\n",
       "      <td>-1</td>\n",
       "    </tr>\n",
       "    <tr>\n",
       "      <th>2</th>\n",
       "      <td>0.00169730186462400002</td>\n",
       "      <td>2</td>\n",
       "      <td>1412</td>\n",
       "      <td>198</td>\n",
       "      <td>237</td>\n",
       "      <td>-1</td>\n",
       "      <td>-1</td>\n",
       "    </tr>\n",
       "    <tr>\n",
       "      <th>3</th>\n",
       "      <td>0.00179910659790029999</td>\n",
       "      <td>1</td>\n",
       "      <td>2035</td>\n",
       "      <td>254</td>\n",
       "      <td>-1</td>\n",
       "      <td>-1</td>\n",
       "      <td>-1</td>\n",
       "    </tr>\n",
       "    <tr>\n",
       "      <th>4</th>\n",
       "      <td>0.00183224678039550001</td>\n",
       "      <td>3</td>\n",
       "      <td>544</td>\n",
       "      <td>66</td>\n",
       "      <td>102</td>\n",
       "      <td>79</td>\n",
       "      <td>-1</td>\n",
       "    </tr>\n",
       "    <tr>\n",
       "      <th>...</th>\n",
       "      <td>...</td>\n",
       "      <td>...</td>\n",
       "      <td>...</td>\n",
       "      <td>...</td>\n",
       "      <td>...</td>\n",
       "      <td>...</td>\n",
       "      <td>...</td>\n",
       "    </tr>\n",
       "    <tr>\n",
       "      <th>455997</th>\n",
       "      <td>0.00016474723815910000</td>\n",
       "      <td>4</td>\n",
       "      <td>192</td>\n",
       "      <td>207</td>\n",
       "      <td>106</td>\n",
       "      <td>1</td>\n",
       "      <td>92</td>\n",
       "    </tr>\n",
       "    <tr>\n",
       "      <th>455998</th>\n",
       "      <td>0.00016379356384270001</td>\n",
       "      <td>4</td>\n",
       "      <td>192</td>\n",
       "      <td>207</td>\n",
       "      <td>106</td>\n",
       "      <td>1</td>\n",
       "      <td>92</td>\n",
       "    </tr>\n",
       "    <tr>\n",
       "      <th>455999</th>\n",
       "      <td>0.00016403198242180000</td>\n",
       "      <td>4</td>\n",
       "      <td>192</td>\n",
       "      <td>207</td>\n",
       "      <td>106</td>\n",
       "      <td>1</td>\n",
       "      <td>92</td>\n",
       "    </tr>\n",
       "    <tr>\n",
       "      <th>456000</th>\n",
       "      <td>0.00016498565673819999</td>\n",
       "      <td>4</td>\n",
       "      <td>192</td>\n",
       "      <td>207</td>\n",
       "      <td>106</td>\n",
       "      <td>1</td>\n",
       "      <td>92</td>\n",
       "    </tr>\n",
       "    <tr>\n",
       "      <th>456001</th>\n",
       "      <td>0.00015091896057120000</td>\n",
       "      <td>3</td>\n",
       "      <td>193</td>\n",
       "      <td>176</td>\n",
       "      <td>6</td>\n",
       "      <td>251</td>\n",
       "      <td>-1</td>\n",
       "    </tr>\n",
       "  </tbody>\n",
       "</table>\n",
       "<p>456002 rows × 7 columns</p>\n",
       "</div>"
      ],
      "text/plain": [
       "                    Timestamp  DLC  Arb ID  Byte 0  Byte 1  Byte 2  Byte 3\n",
       "0      0.00000000000000000000    4     192      17     110       1      93\n",
       "1      0.00037145614624020001    1    1061     225      -1      -1      -1\n",
       "2      0.00169730186462400002    2    1412     198     237      -1      -1\n",
       "3      0.00179910659790029999    1    2035     254      -1      -1      -1\n",
       "4      0.00183224678039550001    3     544      66     102      79      -1\n",
       "...                       ...  ...     ...     ...     ...     ...     ...\n",
       "455997 0.00016474723815910000    4     192     207     106       1      92\n",
       "455998 0.00016379356384270001    4     192     207     106       1      92\n",
       "455999 0.00016403198242180000    4     192     207     106       1      92\n",
       "456000 0.00016498565673819999    4     192     207     106       1      92\n",
       "456001 0.00015091896057120000    3     193     176       6     251      -1\n",
       "\n",
       "[456002 rows x 7 columns]"
      ]
     },
     "execution_count": 6,
     "metadata": {},
     "output_type": "execute_result"
    }
   ],
   "source": [
    "df_malicious_random_dos"
   ]
  },
  {
   "cell_type": "code",
   "execution_count": 7,
   "metadata": {},
   "outputs": [
    {
     "data": {
      "text/html": [
       "<div>\n",
       "<style scoped>\n",
       "    .dataframe tbody tr th:only-of-type {\n",
       "        vertical-align: middle;\n",
       "    }\n",
       "\n",
       "    .dataframe tbody tr th {\n",
       "        vertical-align: top;\n",
       "    }\n",
       "\n",
       "    .dataframe thead th {\n",
       "        text-align: right;\n",
       "    }\n",
       "</style>\n",
       "<table border=\"1\" class=\"dataframe\">\n",
       "  <thead>\n",
       "    <tr style=\"text-align: right;\">\n",
       "      <th></th>\n",
       "      <th>Timestamp</th>\n",
       "      <th>DLC</th>\n",
       "      <th>Arb ID</th>\n",
       "      <th>Byte 0</th>\n",
       "      <th>Byte 1</th>\n",
       "      <th>Byte 2</th>\n",
       "      <th>Byte 3</th>\n",
       "    </tr>\n",
       "  </thead>\n",
       "  <tbody>\n",
       "    <tr>\n",
       "      <th>0</th>\n",
       "      <td>0.00000000000000000000</td>\n",
       "      <td>4</td>\n",
       "      <td>0</td>\n",
       "      <td>0</td>\n",
       "      <td>0</td>\n",
       "      <td>0</td>\n",
       "      <td>0</td>\n",
       "    </tr>\n",
       "    <tr>\n",
       "      <th>1</th>\n",
       "      <td>0.00161838531494139996</td>\n",
       "      <td>4</td>\n",
       "      <td>0</td>\n",
       "      <td>0</td>\n",
       "      <td>0</td>\n",
       "      <td>0</td>\n",
       "      <td>0</td>\n",
       "    </tr>\n",
       "    <tr>\n",
       "      <th>2</th>\n",
       "      <td>0.00169730186462400002</td>\n",
       "      <td>4</td>\n",
       "      <td>0</td>\n",
       "      <td>0</td>\n",
       "      <td>0</td>\n",
       "      <td>0</td>\n",
       "      <td>0</td>\n",
       "    </tr>\n",
       "    <tr>\n",
       "      <th>3</th>\n",
       "      <td>0.00061082839965819998</td>\n",
       "      <td>4</td>\n",
       "      <td>192</td>\n",
       "      <td>0</td>\n",
       "      <td>0</td>\n",
       "      <td>0</td>\n",
       "      <td>0</td>\n",
       "    </tr>\n",
       "    <tr>\n",
       "      <th>4</th>\n",
       "      <td>0.00175023078918450006</td>\n",
       "      <td>4</td>\n",
       "      <td>0</td>\n",
       "      <td>0</td>\n",
       "      <td>0</td>\n",
       "      <td>0</td>\n",
       "      <td>0</td>\n",
       "    </tr>\n",
       "    <tr>\n",
       "      <th>...</th>\n",
       "      <td>...</td>\n",
       "      <td>...</td>\n",
       "      <td>...</td>\n",
       "      <td>...</td>\n",
       "      <td>...</td>\n",
       "      <td>...</td>\n",
       "      <td>...</td>\n",
       "    </tr>\n",
       "    <tr>\n",
       "      <th>568457</th>\n",
       "      <td>0.00015544891357419999</td>\n",
       "      <td>3</td>\n",
       "      <td>193</td>\n",
       "      <td>0</td>\n",
       "      <td>0</td>\n",
       "      <td>0</td>\n",
       "      <td>-1</td>\n",
       "    </tr>\n",
       "    <tr>\n",
       "      <th>568458</th>\n",
       "      <td>0.00015711784362790001</td>\n",
       "      <td>3</td>\n",
       "      <td>193</td>\n",
       "      <td>0</td>\n",
       "      <td>0</td>\n",
       "      <td>0</td>\n",
       "      <td>-1</td>\n",
       "    </tr>\n",
       "    <tr>\n",
       "      <th>568459</th>\n",
       "      <td>0.00015830993652339999</td>\n",
       "      <td>3</td>\n",
       "      <td>193</td>\n",
       "      <td>0</td>\n",
       "      <td>0</td>\n",
       "      <td>0</td>\n",
       "      <td>-1</td>\n",
       "    </tr>\n",
       "    <tr>\n",
       "      <th>568460</th>\n",
       "      <td>0.00012922286987300001</td>\n",
       "      <td>2</td>\n",
       "      <td>194</td>\n",
       "      <td>0</td>\n",
       "      <td>0</td>\n",
       "      <td>-1</td>\n",
       "      <td>-1</td>\n",
       "    </tr>\n",
       "    <tr>\n",
       "      <th>568461</th>\n",
       "      <td>0.00013613700866690000</td>\n",
       "      <td>2</td>\n",
       "      <td>194</td>\n",
       "      <td>0</td>\n",
       "      <td>0</td>\n",
       "      <td>-1</td>\n",
       "      <td>-1</td>\n",
       "    </tr>\n",
       "  </tbody>\n",
       "</table>\n",
       "<p>568462 rows × 7 columns</p>\n",
       "</div>"
      ],
      "text/plain": [
       "                    Timestamp  DLC  Arb ID  Byte 0  Byte 1  Byte 2  Byte 3\n",
       "0      0.00000000000000000000    4       0       0       0       0       0\n",
       "1      0.00161838531494139996    4       0       0       0       0       0\n",
       "2      0.00169730186462400002    4       0       0       0       0       0\n",
       "3      0.00061082839965819998    4     192       0       0       0       0\n",
       "4      0.00175023078918450006    4       0       0       0       0       0\n",
       "...                       ...  ...     ...     ...     ...     ...     ...\n",
       "568457 0.00015544891357419999    3     193       0       0       0      -1\n",
       "568458 0.00015711784362790001    3     193       0       0       0      -1\n",
       "568459 0.00015830993652339999    3     193       0       0       0      -1\n",
       "568460 0.00012922286987300001    2     194       0       0      -1      -1\n",
       "568461 0.00013613700866690000    2     194       0       0      -1      -1\n",
       "\n",
       "[568462 rows x 7 columns]"
      ]
     },
     "execution_count": 7,
     "metadata": {},
     "output_type": "execute_result"
    }
   ],
   "source": [
    "df_malicious_spoofing_zero_payload"
   ]
  },
  {
   "cell_type": "code",
   "execution_count": 8,
   "metadata": {},
   "outputs": [
    {
     "data": {
      "text/html": [
       "<div>\n",
       "<style scoped>\n",
       "    .dataframe tbody tr th:only-of-type {\n",
       "        vertical-align: middle;\n",
       "    }\n",
       "\n",
       "    .dataframe tbody tr th {\n",
       "        vertical-align: top;\n",
       "    }\n",
       "\n",
       "    .dataframe thead th {\n",
       "        text-align: right;\n",
       "    }\n",
       "</style>\n",
       "<table border=\"1\" class=\"dataframe\">\n",
       "  <thead>\n",
       "    <tr style=\"text-align: right;\">\n",
       "      <th></th>\n",
       "      <th>Timestamp</th>\n",
       "      <th>DLC</th>\n",
       "      <th>Arb ID</th>\n",
       "      <th>Byte 0</th>\n",
       "      <th>Byte 1</th>\n",
       "      <th>Byte 2</th>\n",
       "      <th>Byte 3</th>\n",
       "    </tr>\n",
       "  </thead>\n",
       "  <tbody>\n",
       "    <tr>\n",
       "      <th>0</th>\n",
       "      <td>0.00000000000000000000</td>\n",
       "      <td>4</td>\n",
       "      <td>0</td>\n",
       "      <td>0</td>\n",
       "      <td>0</td>\n",
       "      <td>0</td>\n",
       "      <td>0</td>\n",
       "    </tr>\n",
       "    <tr>\n",
       "      <th>1</th>\n",
       "      <td>0.00115513801574700006</td>\n",
       "      <td>4</td>\n",
       "      <td>0</td>\n",
       "      <td>0</td>\n",
       "      <td>0</td>\n",
       "      <td>0</td>\n",
       "      <td>0</td>\n",
       "    </tr>\n",
       "    <tr>\n",
       "      <th>2</th>\n",
       "      <td>0.00147318840026850004</td>\n",
       "      <td>4</td>\n",
       "      <td>0</td>\n",
       "      <td>0</td>\n",
       "      <td>0</td>\n",
       "      <td>0</td>\n",
       "      <td>0</td>\n",
       "    </tr>\n",
       "    <tr>\n",
       "      <th>3</th>\n",
       "      <td>0.00123977661132810006</td>\n",
       "      <td>4</td>\n",
       "      <td>0</td>\n",
       "      <td>0</td>\n",
       "      <td>0</td>\n",
       "      <td>0</td>\n",
       "      <td>0</td>\n",
       "    </tr>\n",
       "    <tr>\n",
       "      <th>4</th>\n",
       "      <td>0.00169897079467769990</td>\n",
       "      <td>4</td>\n",
       "      <td>0</td>\n",
       "      <td>0</td>\n",
       "      <td>0</td>\n",
       "      <td>0</td>\n",
       "      <td>0</td>\n",
       "    </tr>\n",
       "    <tr>\n",
       "      <th>...</th>\n",
       "      <td>...</td>\n",
       "      <td>...</td>\n",
       "      <td>...</td>\n",
       "      <td>...</td>\n",
       "      <td>...</td>\n",
       "      <td>...</td>\n",
       "      <td>...</td>\n",
       "    </tr>\n",
       "    <tr>\n",
       "      <th>741977</th>\n",
       "      <td>0.00014257431030270001</td>\n",
       "      <td>2</td>\n",
       "      <td>194</td>\n",
       "      <td>236</td>\n",
       "      <td>255</td>\n",
       "      <td>-1</td>\n",
       "      <td>-1</td>\n",
       "    </tr>\n",
       "    <tr>\n",
       "      <th>741978</th>\n",
       "      <td>0.00012278556823730000</td>\n",
       "      <td>2</td>\n",
       "      <td>194</td>\n",
       "      <td>236</td>\n",
       "      <td>255</td>\n",
       "      <td>-1</td>\n",
       "      <td>-1</td>\n",
       "    </tr>\n",
       "    <tr>\n",
       "      <th>741979</th>\n",
       "      <td>0.00013160705566400000</td>\n",
       "      <td>2</td>\n",
       "      <td>194</td>\n",
       "      <td>236</td>\n",
       "      <td>255</td>\n",
       "      <td>-1</td>\n",
       "      <td>-1</td>\n",
       "    </tr>\n",
       "    <tr>\n",
       "      <th>741980</th>\n",
       "      <td>0.00016975402832030000</td>\n",
       "      <td>4</td>\n",
       "      <td>192</td>\n",
       "      <td>147</td>\n",
       "      <td>117</td>\n",
       "      <td>1</td>\n",
       "      <td>95</td>\n",
       "    </tr>\n",
       "    <tr>\n",
       "      <th>741981</th>\n",
       "      <td>0.00017046928405760000</td>\n",
       "      <td>4</td>\n",
       "      <td>192</td>\n",
       "      <td>147</td>\n",
       "      <td>117</td>\n",
       "      <td>1</td>\n",
       "      <td>95</td>\n",
       "    </tr>\n",
       "  </tbody>\n",
       "</table>\n",
       "<p>741982 rows × 7 columns</p>\n",
       "</div>"
      ],
      "text/plain": [
       "                    Timestamp  DLC  Arb ID  Byte 0  Byte 1  Byte 2  Byte 3\n",
       "0      0.00000000000000000000    4       0       0       0       0       0\n",
       "1      0.00115513801574700006    4       0       0       0       0       0\n",
       "2      0.00147318840026850004    4       0       0       0       0       0\n",
       "3      0.00123977661132810006    4       0       0       0       0       0\n",
       "4      0.00169897079467769990    4       0       0       0       0       0\n",
       "...                       ...  ...     ...     ...     ...     ...     ...\n",
       "741977 0.00014257431030270001    2     194     236     255      -1      -1\n",
       "741978 0.00012278556823730000    2     194     236     255      -1      -1\n",
       "741979 0.00013160705566400000    2     194     236     255      -1      -1\n",
       "741980 0.00016975402832030000    4     192     147     117       1      95\n",
       "741981 0.00017046928405760000    4     192     147     117       1      95\n",
       "\n",
       "[741982 rows x 7 columns]"
      ]
     },
     "execution_count": 8,
     "metadata": {},
     "output_type": "execute_result"
    }
   ],
   "source": [
    "df_malicious_zero_dos"
   ]
  },
  {
   "cell_type": "markdown",
   "metadata": {},
   "source": [
    "Manipualação da quantidade/proporção dos dados:"
   ]
  },
  {
   "cell_type": "code",
   "execution_count": 9,
   "metadata": {},
   "outputs": [],
   "source": [
    "# OPCIONAL!!!\n",
    "len_min = min(len(df_benign),len(df_malicious_random_dos),len(df_malicious_spoofing_zero_payload),len(df_malicious_zero_dos))\n",
    "NUM_OF_ATTACKS = 3\n",
    "\n",
    "df_benign = df_benign.head(len_min * NUM_OF_ATTACKS)\n",
    "df_malicious_random_dos = df_malicious_random_dos.head(len_min)\n",
    "df_malicious_spoofing_zero_payload = df_malicious_spoofing_zero_payload.head(len_min)\n",
    "df_malicious_zero_dos = df_malicious_zero_dos.head(len_min)"
   ]
  },
  {
   "cell_type": "code",
   "execution_count": 10,
   "metadata": {},
   "outputs": [],
   "source": [
    "del len_min"
   ]
  },
  {
   "cell_type": "markdown",
   "metadata": {},
   "source": [
    "# Tratando dados"
   ]
  },
  {
   "cell_type": "markdown",
   "metadata": {},
   "source": [
    "## Normalização dos dados"
   ]
  },
  {
   "cell_type": "markdown",
   "metadata": {},
   "source": [
    "Criação e uso do scaler:"
   ]
  },
  {
   "cell_type": "code",
   "execution_count": 11,
   "metadata": {},
   "outputs": [],
   "source": [
    "scaler = MinMaxScaler()\n",
    "\n",
    "scaler.fit(df_benign)\n",
    "\n",
    "df_benign_scaled = pd.DataFrame(scaler.transform(df_benign), columns=df_benign.columns, index=df_benign.index)\n",
    "df_malicious_random_dos_scaled = pd.DataFrame(scaler.transform(df_malicious_random_dos), columns=df_malicious_random_dos.columns, index=df_malicious_random_dos.index)\n",
    "df_malicious_spoofing_zero_payload_scaled = pd.DataFrame(scaler.transform(df_malicious_spoofing_zero_payload), columns=df_malicious_spoofing_zero_payload.columns, index=df_malicious_spoofing_zero_payload.index)\n",
    "df_malicious_zero_dos_scaled = pd.DataFrame(scaler.transform(df_malicious_zero_dos), columns=df_malicious_zero_dos.columns, index=df_malicious_zero_dos.index)"
   ]
  },
  {
   "cell_type": "code",
   "execution_count": 12,
   "metadata": {},
   "outputs": [],
   "source": [
    "del df_benign\n",
    "del df_malicious_random_dos\n",
    "del df_malicious_spoofing_zero_payload\n",
    "del df_malicious_zero_dos"
   ]
  },
  {
   "cell_type": "code",
   "execution_count": 13,
   "metadata": {},
   "outputs": [
    {
     "data": {
      "text/html": [
       "<div>\n",
       "<style scoped>\n",
       "    .dataframe tbody tr th:only-of-type {\n",
       "        vertical-align: middle;\n",
       "    }\n",
       "\n",
       "    .dataframe tbody tr th {\n",
       "        vertical-align: top;\n",
       "    }\n",
       "\n",
       "    .dataframe thead th {\n",
       "        text-align: right;\n",
       "    }\n",
       "</style>\n",
       "<table border=\"1\" class=\"dataframe\">\n",
       "  <thead>\n",
       "    <tr style=\"text-align: right;\">\n",
       "      <th></th>\n",
       "      <th>Timestamp</th>\n",
       "      <th>DLC</th>\n",
       "      <th>Arb ID</th>\n",
       "      <th>Byte 0</th>\n",
       "      <th>Byte 1</th>\n",
       "      <th>Byte 2</th>\n",
       "      <th>Byte 3</th>\n",
       "    </tr>\n",
       "  </thead>\n",
       "  <tbody>\n",
       "    <tr>\n",
       "      <th>0</th>\n",
       "      <td>0.00000000000000000000</td>\n",
       "      <td>0.28571428571428569843</td>\n",
       "      <td>0.99473684210526325256</td>\n",
       "      <td>0.00000000000000000000</td>\n",
       "      <td>0.00390625000000000000</td>\n",
       "      <td>0.00390625000000000000</td>\n",
       "      <td>0.00000000000000000000</td>\n",
       "    </tr>\n",
       "    <tr>\n",
       "      <th>1</th>\n",
       "      <td>0.00030808475678313944</td>\n",
       "      <td>0.28571428571428569843</td>\n",
       "      <td>0.99473684210526325256</td>\n",
       "      <td>0.00000000000000000000</td>\n",
       "      <td>0.00390625000000000000</td>\n",
       "      <td>0.00390625000000000000</td>\n",
       "      <td>0.00000000000000000000</td>\n",
       "    </tr>\n",
       "    <tr>\n",
       "      <th>2</th>\n",
       "      <td>0.00036992865823693891</td>\n",
       "      <td>0.28571428571428569843</td>\n",
       "      <td>0.99473684210526325256</td>\n",
       "      <td>0.00000000000000000000</td>\n",
       "      <td>0.00390625000000000000</td>\n",
       "      <td>0.00390625000000000000</td>\n",
       "      <td>0.00000000000000000000</td>\n",
       "    </tr>\n",
       "    <tr>\n",
       "      <th>3</th>\n",
       "      <td>0.00037163078396501207</td>\n",
       "      <td>0.28571428571428569843</td>\n",
       "      <td>0.99473684210526325256</td>\n",
       "      <td>0.00000000000000000000</td>\n",
       "      <td>0.00390625000000000000</td>\n",
       "      <td>0.00390625000000000000</td>\n",
       "      <td>0.00000000000000000000</td>\n",
       "    </tr>\n",
       "    <tr>\n",
       "      <th>4</th>\n",
       "      <td>0.00031432588445274093</td>\n",
       "      <td>0.14285714285714284921</td>\n",
       "      <td>1.00000000000000000000</td>\n",
       "      <td>0.09411764705882352811</td>\n",
       "      <td>0.00390625000000000000</td>\n",
       "      <td>0.00000000000000000000</td>\n",
       "      <td>0.00000000000000000000</td>\n",
       "    </tr>\n",
       "    <tr>\n",
       "      <th>...</th>\n",
       "      <td>...</td>\n",
       "      <td>...</td>\n",
       "      <td>...</td>\n",
       "      <td>...</td>\n",
       "      <td>...</td>\n",
       "      <td>...</td>\n",
       "      <td>...</td>\n",
       "    </tr>\n",
       "    <tr>\n",
       "      <th>1368001</th>\n",
       "      <td>0.00230013923388447568</td>\n",
       "      <td>0.00000000000000000000</td>\n",
       "      <td>0.84736842105263165958</td>\n",
       "      <td>0.39215686274509803377</td>\n",
       "      <td>0.00000000000000000000</td>\n",
       "      <td>0.00000000000000000000</td>\n",
       "      <td>0.00000000000000000000</td>\n",
       "    </tr>\n",
       "    <tr>\n",
       "      <th>1368002</th>\n",
       "      <td>0.00026099261163954499</td>\n",
       "      <td>0.00000000000000000000</td>\n",
       "      <td>0.84736842105263165958</td>\n",
       "      <td>0.39215686274509803377</td>\n",
       "      <td>0.00000000000000000000</td>\n",
       "      <td>0.00000000000000000000</td>\n",
       "      <td>0.00000000000000000000</td>\n",
       "    </tr>\n",
       "    <tr>\n",
       "      <th>1368003</th>\n",
       "      <td>0.00234779875427076077</td>\n",
       "      <td>0.00000000000000000000</td>\n",
       "      <td>0.84736842105263165958</td>\n",
       "      <td>0.39215686274509803377</td>\n",
       "      <td>0.00000000000000000000</td>\n",
       "      <td>0.00000000000000000000</td>\n",
       "      <td>0.00000000000000000000</td>\n",
       "    </tr>\n",
       "    <tr>\n",
       "      <th>1368004</th>\n",
       "      <td>0.00268198277221792661</td>\n",
       "      <td>0.00000000000000000000</td>\n",
       "      <td>0.84736842105263165958</td>\n",
       "      <td>0.39215686274509803377</td>\n",
       "      <td>0.00000000000000000000</td>\n",
       "      <td>0.00000000000000000000</td>\n",
       "      <td>0.00000000000000000000</td>\n",
       "    </tr>\n",
       "    <tr>\n",
       "      <th>1368005</th>\n",
       "      <td>0.00197900484651920405</td>\n",
       "      <td>0.00000000000000000000</td>\n",
       "      <td>0.84736842105263165958</td>\n",
       "      <td>0.39215686274509803377</td>\n",
       "      <td>0.00000000000000000000</td>\n",
       "      <td>0.00000000000000000000</td>\n",
       "      <td>0.00000000000000000000</td>\n",
       "    </tr>\n",
       "  </tbody>\n",
       "</table>\n",
       "<p>1368006 rows × 7 columns</p>\n",
       "</div>"
      ],
      "text/plain": [
       "                     Timestamp                    DLC                 Arb ID  \\\n",
       "0       0.00000000000000000000 0.28571428571428569843 0.99473684210526325256   \n",
       "1       0.00030808475678313944 0.28571428571428569843 0.99473684210526325256   \n",
       "2       0.00036992865823693891 0.28571428571428569843 0.99473684210526325256   \n",
       "3       0.00037163078396501207 0.28571428571428569843 0.99473684210526325256   \n",
       "4       0.00031432588445274093 0.14285714285714284921 1.00000000000000000000   \n",
       "...                        ...                    ...                    ...   \n",
       "1368001 0.00230013923388447568 0.00000000000000000000 0.84736842105263165958   \n",
       "1368002 0.00026099261163954499 0.00000000000000000000 0.84736842105263165958   \n",
       "1368003 0.00234779875427076077 0.00000000000000000000 0.84736842105263165958   \n",
       "1368004 0.00268198277221792661 0.00000000000000000000 0.84736842105263165958   \n",
       "1368005 0.00197900484651920405 0.00000000000000000000 0.84736842105263165958   \n",
       "\n",
       "                        Byte 0                 Byte 1                 Byte 2  \\\n",
       "0       0.00000000000000000000 0.00390625000000000000 0.00390625000000000000   \n",
       "1       0.00000000000000000000 0.00390625000000000000 0.00390625000000000000   \n",
       "2       0.00000000000000000000 0.00390625000000000000 0.00390625000000000000   \n",
       "3       0.00000000000000000000 0.00390625000000000000 0.00390625000000000000   \n",
       "4       0.09411764705882352811 0.00390625000000000000 0.00000000000000000000   \n",
       "...                        ...                    ...                    ...   \n",
       "1368001 0.39215686274509803377 0.00000000000000000000 0.00000000000000000000   \n",
       "1368002 0.39215686274509803377 0.00000000000000000000 0.00000000000000000000   \n",
       "1368003 0.39215686274509803377 0.00000000000000000000 0.00000000000000000000   \n",
       "1368004 0.39215686274509803377 0.00000000000000000000 0.00000000000000000000   \n",
       "1368005 0.39215686274509803377 0.00000000000000000000 0.00000000000000000000   \n",
       "\n",
       "                        Byte 3  \n",
       "0       0.00000000000000000000  \n",
       "1       0.00000000000000000000  \n",
       "2       0.00000000000000000000  \n",
       "3       0.00000000000000000000  \n",
       "4       0.00000000000000000000  \n",
       "...                        ...  \n",
       "1368001 0.00000000000000000000  \n",
       "1368002 0.00000000000000000000  \n",
       "1368003 0.00000000000000000000  \n",
       "1368004 0.00000000000000000000  \n",
       "1368005 0.00000000000000000000  \n",
       "\n",
       "[1368006 rows x 7 columns]"
      ]
     },
     "execution_count": 13,
     "metadata": {},
     "output_type": "execute_result"
    }
   ],
   "source": [
    "df_benign_scaled"
   ]
  },
  {
   "cell_type": "markdown",
   "metadata": {},
   "source": [
    "## Criando Labels"
   ]
  },
  {
   "cell_type": "code",
   "execution_count": 14,
   "metadata": {},
   "outputs": [],
   "source": [
    "list_labels_benign = [1] * len(df_benign_scaled)\n",
    "list_labels_random_dos = [-1] * len(df_malicious_random_dos_scaled)\n",
    "list_labels_spoofing_zero_payload = [-2] * len(df_malicious_spoofing_zero_payload_scaled)\n",
    "list_labels_zero_dos = [-3] * len(df_malicious_zero_dos_scaled)\n",
    "\n",
    "classifier_type = \"mc\""
   ]
  },
  {
   "cell_type": "markdown",
   "metadata": {},
   "source": [
    "## Criação de Janelas Temporais"
   ]
  },
  {
   "cell_type": "markdown",
   "metadata": {},
   "source": [
    "Criação da função de divisão dos dados em janelas:"
   ]
  },
  {
   "cell_type": "code",
   "execution_count": 15,
   "metadata": {},
   "outputs": [],
   "source": [
    "def create_slicing_windows(data, labels, time_step=1):\n",
    "    X, Y = [], []\n",
    "    for i in range(len(data) - time_step):\n",
    "        a = data[i:(i + time_step)]\n",
    "        X.append(a)\n",
    "        Y.append(labels[i + time_step])\n",
    "    return np.array(X), np.array(Y)"
   ]
  },
  {
   "cell_type": "markdown",
   "metadata": {},
   "source": [
    "Definição do tamanho da janela:"
   ]
  },
  {
   "cell_type": "code",
   "execution_count": 16,
   "metadata": {},
   "outputs": [],
   "source": [
    "WINDOW_SIZE = 150"
   ]
  },
  {
   "cell_type": "markdown",
   "metadata": {},
   "source": [
    "Criação de janelas deslizantes:"
   ]
  },
  {
   "cell_type": "code",
   "execution_count": 17,
   "metadata": {},
   "outputs": [],
   "source": [
    "benign_windows, benign_labels = create_slicing_windows(df_benign_scaled, list_labels_benign, WINDOW_SIZE)\n",
    "del df_benign_scaled, list_labels_benign\n",
    "\n",
    "malicious_random_dos_windows, malicious_random_dos_labels = create_slicing_windows(df_malicious_random_dos_scaled, list_labels_random_dos, WINDOW_SIZE)\n",
    "del df_malicious_random_dos_scaled, list_labels_random_dos\n",
    "\n",
    "malicious_spoofing_zero_payload_windows, malicious_spoofing_zero_payload_labels = create_slicing_windows(df_malicious_spoofing_zero_payload_scaled, list_labels_spoofing_zero_payload, WINDOW_SIZE)\n",
    "del df_malicious_spoofing_zero_payload_scaled, list_labels_spoofing_zero_payload\n",
    "\n",
    "malicious_zero_dos_windows, malicious_zero_dos_labels = create_slicing_windows(df_malicious_zero_dos_scaled, list_labels_zero_dos, WINDOW_SIZE)\n",
    "del df_malicious_zero_dos_scaled, list_labels_zero_dos"
   ]
  },
  {
   "cell_type": "code",
   "execution_count": 18,
   "metadata": {},
   "outputs": [
    {
     "data": {
      "text/plain": [
       "(1367856, 150)"
      ]
     },
     "execution_count": 18,
     "metadata": {},
     "output_type": "execute_result"
    }
   ],
   "source": [
    "len(benign_windows), len(benign_windows[0])"
   ]
  },
  {
   "cell_type": "code",
   "execution_count": 19,
   "metadata": {},
   "outputs": [
    {
     "data": {
      "text/plain": [
       "array([[[0.00000000e+00, 2.85714286e-01, 9.94736842e-01, ...,\n",
       "         3.90625000e-03, 3.90625000e-03, 0.00000000e+00],\n",
       "        [3.08084757e-04, 2.85714286e-01, 9.94736842e-01, ...,\n",
       "         3.90625000e-03, 3.90625000e-03, 0.00000000e+00],\n",
       "        [3.69928658e-04, 2.85714286e-01, 9.94736842e-01, ...,\n",
       "         3.90625000e-03, 3.90625000e-03, 0.00000000e+00],\n",
       "        ...,\n",
       "        [3.66524407e-04, 2.85714286e-01, 9.94736842e-01, ...,\n",
       "         3.90625000e-03, 3.90625000e-03, 0.00000000e+00],\n",
       "        [3.70496033e-04, 2.85714286e-01, 9.94736842e-01, ...,\n",
       "         3.90625000e-03, 3.90625000e-03, 0.00000000e+00],\n",
       "        [3.17162761e-04, 1.42857143e-01, 1.00000000e+00, ...,\n",
       "         3.90625000e-03, 0.00000000e+00, 0.00000000e+00]],\n",
       "\n",
       "       [[3.08084757e-04, 2.85714286e-01, 9.94736842e-01, ...,\n",
       "         3.90625000e-03, 3.90625000e-03, 0.00000000e+00],\n",
       "        [3.69928658e-04, 2.85714286e-01, 9.94736842e-01, ...,\n",
       "         3.90625000e-03, 3.90625000e-03, 0.00000000e+00],\n",
       "        [3.71630784e-04, 2.85714286e-01, 9.94736842e-01, ...,\n",
       "         3.90625000e-03, 3.90625000e-03, 0.00000000e+00],\n",
       "        ...,\n",
       "        [3.70496033e-04, 2.85714286e-01, 9.94736842e-01, ...,\n",
       "         3.90625000e-03, 3.90625000e-03, 0.00000000e+00],\n",
       "        [3.17162761e-04, 1.42857143e-01, 1.00000000e+00, ...,\n",
       "         3.90625000e-03, 0.00000000e+00, 0.00000000e+00],\n",
       "        [3.15460635e-04, 1.42857143e-01, 1.00000000e+00, ...,\n",
       "         3.90625000e-03, 0.00000000e+00, 0.00000000e+00]],\n",
       "\n",
       "       [[3.69928658e-04, 2.85714286e-01, 9.94736842e-01, ...,\n",
       "         3.90625000e-03, 3.90625000e-03, 0.00000000e+00],\n",
       "        [3.71630784e-04, 2.85714286e-01, 9.94736842e-01, ...,\n",
       "         3.90625000e-03, 3.90625000e-03, 0.00000000e+00],\n",
       "        [3.14325884e-04, 1.42857143e-01, 1.00000000e+00, ...,\n",
       "         3.90625000e-03, 0.00000000e+00, 0.00000000e+00],\n",
       "        ...,\n",
       "        [3.17162761e-04, 1.42857143e-01, 1.00000000e+00, ...,\n",
       "         3.90625000e-03, 0.00000000e+00, 0.00000000e+00],\n",
       "        [3.15460635e-04, 1.42857143e-01, 1.00000000e+00, ...,\n",
       "         3.90625000e-03, 0.00000000e+00, 0.00000000e+00],\n",
       "        [3.13758509e-04, 1.42857143e-01, 1.00000000e+00, ...,\n",
       "         3.90625000e-03, 0.00000000e+00, 0.00000000e+00]],\n",
       "\n",
       "       ...,\n",
       "\n",
       "       [[3.75602411e-04, 2.85714286e-01, 9.94736842e-01, ...,\n",
       "         1.28906250e-01, 1.05468750e-01, 0.00000000e+00],\n",
       "        [3.51772650e-04, 2.85714286e-01, 9.94736842e-01, ...,\n",
       "         1.28906250e-01, 1.05468750e-01, 0.00000000e+00],\n",
       "        [3.16595385e-04, 1.42857143e-01, 1.00000000e+00, ...,\n",
       "         3.90625000e-03, 0.00000000e+00, 0.00000000e+00],\n",
       "        ...,\n",
       "        [3.67659157e-03, 0.00000000e+00, 8.47368421e-01, ...,\n",
       "         0.00000000e+00, 0.00000000e+00, 0.00000000e+00],\n",
       "        [2.30013923e-03, 0.00000000e+00, 8.47368421e-01, ...,\n",
       "         0.00000000e+00, 0.00000000e+00, 0.00000000e+00],\n",
       "        [2.60992612e-04, 0.00000000e+00, 8.47368421e-01, ...,\n",
       "         0.00000000e+00, 0.00000000e+00, 0.00000000e+00]],\n",
       "\n",
       "       [[3.51772650e-04, 2.85714286e-01, 9.94736842e-01, ...,\n",
       "         1.28906250e-01, 1.05468750e-01, 0.00000000e+00],\n",
       "        [3.16595385e-04, 1.42857143e-01, 1.00000000e+00, ...,\n",
       "         3.90625000e-03, 0.00000000e+00, 0.00000000e+00],\n",
       "        [3.18297511e-04, 1.42857143e-01, 1.00000000e+00, ...,\n",
       "         3.90625000e-03, 0.00000000e+00, 0.00000000e+00],\n",
       "        ...,\n",
       "        [2.30013923e-03, 0.00000000e+00, 8.47368421e-01, ...,\n",
       "         0.00000000e+00, 0.00000000e+00, 0.00000000e+00],\n",
       "        [2.60992612e-04, 0.00000000e+00, 8.47368421e-01, ...,\n",
       "         0.00000000e+00, 0.00000000e+00, 0.00000000e+00],\n",
       "        [2.34779875e-03, 0.00000000e+00, 8.47368421e-01, ...,\n",
       "         0.00000000e+00, 0.00000000e+00, 0.00000000e+00]],\n",
       "\n",
       "       [[3.16595385e-04, 1.42857143e-01, 1.00000000e+00, ...,\n",
       "         3.90625000e-03, 0.00000000e+00, 0.00000000e+00],\n",
       "        [3.18297511e-04, 1.42857143e-01, 1.00000000e+00, ...,\n",
       "         3.90625000e-03, 0.00000000e+00, 0.00000000e+00],\n",
       "        [3.16595385e-04, 1.42857143e-01, 1.00000000e+00, ...,\n",
       "         3.90625000e-03, 0.00000000e+00, 0.00000000e+00],\n",
       "        ...,\n",
       "        [2.60992612e-04, 0.00000000e+00, 8.47368421e-01, ...,\n",
       "         0.00000000e+00, 0.00000000e+00, 0.00000000e+00],\n",
       "        [2.34779875e-03, 0.00000000e+00, 8.47368421e-01, ...,\n",
       "         0.00000000e+00, 0.00000000e+00, 0.00000000e+00],\n",
       "        [2.68198277e-03, 0.00000000e+00, 8.47368421e-01, ...,\n",
       "         0.00000000e+00, 0.00000000e+00, 0.00000000e+00]]])"
      ]
     },
     "execution_count": 19,
     "metadata": {},
     "output_type": "execute_result"
    }
   ],
   "source": [
    "benign_windows"
   ]
  },
  {
   "cell_type": "markdown",
   "metadata": {},
   "source": [
    "## Dividindo dados em Treino, Validação e Teste"
   ]
  },
  {
   "cell_type": "markdown",
   "metadata": {},
   "source": [
    "Quantidade de dados benignos dividido pelo total:"
   ]
  },
  {
   "cell_type": "code",
   "execution_count": 20,
   "metadata": {},
   "outputs": [
    {
     "data": {
      "text/plain": [
       "0.5000548363464078"
      ]
     },
     "execution_count": 20,
     "metadata": {},
     "output_type": "execute_result"
    }
   ],
   "source": [
    "len(benign_windows) / (len(benign_windows) + len(malicious_random_dos_windows) + len(malicious_spoofing_zero_payload_windows) + len(malicious_zero_dos_windows))"
   ]
  },
  {
   "cell_type": "markdown",
   "metadata": {},
   "source": [
    "Concatenação das janelas, em ordem:"
   ]
  },
  {
   "cell_type": "code",
   "execution_count": 21,
   "metadata": {},
   "outputs": [],
   "source": [
    "data = np.vstack((benign_windows, malicious_random_dos_windows, malicious_spoofing_zero_payload_windows, malicious_zero_dos_windows))"
   ]
  },
  {
   "cell_type": "code",
   "execution_count": 22,
   "metadata": {},
   "outputs": [],
   "source": [
    "data_labels = np.hstack((benign_labels, malicious_random_dos_labels, malicious_spoofing_zero_payload_labels, malicious_zero_dos_labels))"
   ]
  },
  {
   "cell_type": "code",
   "execution_count": 23,
   "metadata": {},
   "outputs": [],
   "source": [
    "del benign_windows\n",
    "del malicious_random_dos_windows\n",
    "del malicious_spoofing_zero_payload_windows\n",
    "del malicious_zero_dos_windows\n",
    "\n",
    "del benign_labels\n",
    "del malicious_random_dos_labels\n",
    "del malicious_spoofing_zero_payload_labels\n",
    "del malicious_zero_dos_labels"
   ]
  },
  {
   "cell_type": "markdown",
   "metadata": {},
   "source": [
    "Divisão em treino, validação e teste."
   ]
  },
  {
   "cell_type": "code",
   "execution_count": 24,
   "metadata": {},
   "outputs": [],
   "source": [
    "train_data, val_test_data, train_labels, val_test_labels = train_test_split(data, data_labels, test_size=0.25, random_state=RANDOM_SEED)"
   ]
  },
  {
   "cell_type": "code",
   "execution_count": 25,
   "metadata": {},
   "outputs": [],
   "source": [
    "val_data, test_data, val_labels, test_labels = train_test_split(val_test_data, val_test_labels, test_size=0.5, random_state=RANDOM_SEED)"
   ]
  },
  {
   "cell_type": "code",
   "execution_count": 26,
   "metadata": {},
   "outputs": [],
   "source": [
    "del val_test_data, val_test_labels"
   ]
  },
  {
   "cell_type": "markdown",
   "metadata": {},
   "source": [
    "Shape dos dados de treino:"
   ]
  },
  {
   "cell_type": "code",
   "execution_count": 27,
   "metadata": {},
   "outputs": [
    {
     "data": {
      "text/plain": [
       "(2051559, 150, 7)"
      ]
     },
     "execution_count": 27,
     "metadata": {},
     "output_type": "execute_result"
    }
   ],
   "source": [
    "train_data.shape"
   ]
  },
  {
   "cell_type": "markdown",
   "metadata": {},
   "source": [
    "# IAs"
   ]
  },
  {
   "cell_type": "markdown",
   "metadata": {},
   "source": [
    "## LSTM (supervisionado)"
   ]
  },
  {
   "cell_type": "markdown",
   "metadata": {},
   "source": [
    "Variável que define se é supervisionado ou não-supervisionado:"
   ]
  },
  {
   "cell_type": "code",
   "execution_count": null,
   "metadata": {},
   "outputs": [],
   "source": [
    "s_OR_ns = \"s\""
   ]
  },
  {
   "cell_type": "markdown",
   "metadata": {},
   "source": [
    "Quantidade de features, para o modelo lidar com as entradas:"
   ]
  },
  {
   "cell_type": "code",
   "execution_count": 28,
   "metadata": {},
   "outputs": [],
   "source": [
    "FEATURES_COUNT = train_data.shape[2] # Número de features dos dados"
   ]
  },
  {
   "cell_type": "markdown",
   "metadata": {},
   "source": [
    "Construção do modelo LSTM:"
   ]
  },
  {
   "cell_type": "code",
   "execution_count": 29,
   "metadata": {},
   "outputs": [],
   "source": [
    "# Construindo o modelo LSTM\n",
    "model = Sequential()\n",
    "model.add(LSTM(50, activation='tanh', input_shape=(WINDOW_SIZE, FEATURES_COUNT)))\n",
    "model.add(Dropout(0.1))\n",
    "model.add(BatchNormalization())\n",
    "model.add(Dense(1, kernel_regularizer=l2(0.0000001)))\n",
    "\n",
    "# Compilando o modelo\n",
    "model.compile(optimizer=Adam(learning_rate=0.004), loss='mse')\n",
    "#model.compile(optimizer=\"adam\", loss='mse')\n"
   ]
  },
  {
   "cell_type": "markdown",
   "metadata": {},
   "source": [
    "Definição da paciência:"
   ]
  },
  {
   "cell_type": "code",
   "execution_count": 30,
   "metadata": {},
   "outputs": [],
   "source": [
    "PATIENCE = 4"
   ]
  },
  {
   "cell_type": "markdown",
   "metadata": {},
   "source": [
    "Configuração do early stop:"
   ]
  },
  {
   "cell_type": "code",
   "execution_count": 31,
   "metadata": {},
   "outputs": [],
   "source": [
    "early_stopping = EarlyStopping(monitor='val_loss', patience= PATIENCE, restore_best_weights=True)"
   ]
  },
  {
   "cell_type": "markdown",
   "metadata": {},
   "source": [
    "Definição da quantidade de épocas e da quantidade de batchs:"
   ]
  },
  {
   "cell_type": "code",
   "execution_count": 32,
   "metadata": {},
   "outputs": [],
   "source": [
    "EPOCHS = 50\n",
    "BATCH_SIZE = 32 #padrão: batch_size=32"
   ]
  },
  {
   "cell_type": "markdown",
   "metadata": {},
   "source": [
    "**TREINAMENTO DO MODELO:**"
   ]
  },
  {
   "cell_type": "code",
   "execution_count": 33,
   "metadata": {},
   "outputs": [
    {
     "name": "stdout",
     "output_type": "stream",
     "text": [
      "Epoch 1/50\n",
      "64112/64112 [==============================] - 1706s 27ms/step - loss: 0.1486 - val_loss: 0.0047\n",
      "Epoch 2/50\n",
      "64112/64112 [==============================] - 1721s 27ms/step - loss: 0.1037 - val_loss: 0.0218\n",
      "Epoch 3/50\n",
      "64112/64112 [==============================] - 1566s 24ms/step - loss: 0.1049 - val_loss: 0.1397\n",
      "Epoch 4/50\n",
      "64112/64112 [==============================] - 1533s 24ms/step - loss: 0.1193 - val_loss: 0.0141\n",
      "Epoch 5/50\n",
      "64112/64112 [==============================] - 1460s 23ms/step - loss: 0.2733 - val_loss: 0.3517\n"
     ]
    }
   ],
   "source": [
    "# Treinando o modelo\n",
    "history = model.fit(train_data, train_labels, epochs=EPOCHS, batch_size=BATCH_SIZE, validation_data=(val_data, val_labels), callbacks=[early_stopping])"
   ]
  },
  {
   "cell_type": "code",
   "execution_count": 34,
   "metadata": {},
   "outputs": [
    {
     "name": "stdout",
     "output_type": "stream",
     "text": [
      "10686/10686 [==============================] - 102s 10ms/step - loss: 0.0046\n",
      "Test Loss: 0.004648508969694376\n"
     ]
    }
   ],
   "source": [
    "# Avaliando o modelo no conjunto de teste\n",
    "loss = model.evaluate(test_data, test_labels)\n",
    "print(\"Test Loss:\", loss)"
   ]
  },
  {
   "cell_type": "code",
   "execution_count": 35,
   "metadata": {},
   "outputs": [
    {
     "name": "stdout",
     "output_type": "stream",
     "text": [
      "10686/10686 [==============================] - 97s 9ms/step\n"
     ]
    }
   ],
   "source": [
    "predicts = model.predict(test_data)"
   ]
  },
  {
   "cell_type": "code",
   "execution_count": 36,
   "metadata": {},
   "outputs": [
    {
     "data": {
      "text/plain": [
       "array([[0.96336615],\n",
       "       [0.96444404],\n",
       "       [0.98727524],\n",
       "       ...,\n",
       "       [0.96839297],\n",
       "       [0.9697254 ],\n",
       "       [0.9950565 ]], dtype=float32)"
      ]
     },
     "execution_count": 36,
     "metadata": {},
     "output_type": "execute_result"
    }
   ],
   "source": [
    "predicts"
   ]
  },
  {
   "cell_type": "code",
   "execution_count": 37,
   "metadata": {},
   "outputs": [
    {
     "data": {
      "text/plain": [
       "0.4989135107786165"
      ]
     },
     "execution_count": 37,
     "metadata": {},
     "output_type": "execute_result"
    }
   ],
   "source": [
    "len(predicts[predicts > 0]) / (len(predicts[predicts < 0]) + len(predicts[predicts > 0]))"
   ]
  },
  {
   "cell_type": "code",
   "execution_count": 38,
   "metadata": {},
   "outputs": [
    {
     "data": {
      "text/plain": [
       "(171373, 170554)"
      ]
     },
     "execution_count": 38,
     "metadata": {},
     "output_type": "execute_result"
    }
   ],
   "source": [
    "len(test_labels[test_labels < 0]), len(test_labels[test_labels > 0])"
   ]
  },
  {
   "cell_type": "code",
   "execution_count": 39,
   "metadata": {},
   "outputs": [
    {
     "data": {
      "text/plain": [
       "(171335, 170592)"
      ]
     },
     "execution_count": 39,
     "metadata": {},
     "output_type": "execute_result"
    }
   ],
   "source": [
    "len(predicts[predicts < 0]), len(predicts[predicts > 0])"
   ]
  },
  {
   "cell_type": "code",
   "execution_count": 40,
   "metadata": {},
   "outputs": [
    {
     "data": {
      "text/plain": [
       "(0.9997782614530877, 1.0002228033350142)"
      ]
     },
     "execution_count": 40,
     "metadata": {},
     "output_type": "execute_result"
    }
   ],
   "source": [
    "len(predicts[predicts < 0]) / len(test_labels[test_labels < 0]), len(predicts[predicts > 0]) / len(test_labels[test_labels > 0])"
   ]
  },
  {
   "cell_type": "code",
   "execution_count": 41,
   "metadata": {},
   "outputs": [
    {
     "name": "stderr",
     "output_type": "stream",
     "text": [
      "c:\\Users\\henri\\AppData\\Local\\Programs\\Python\\Python311\\Lib\\site-packages\\keras\\src\\engine\\training.py:3079: UserWarning: You are saving your model as an HDF5 file via `model.save()`. This file format is considered legacy. We recommend using instead the native Keras format, e.g. `model.save('my_model.keras')`.\n",
      "  saving_api.save_model(\n"
     ]
    }
   ],
   "source": [
    "model.save(f'model_LSTM_{s_OR_ns}_{classifier_type}_ws{WINDOW_SIZE}_e{EPOCHS}_p{PATIENCE}_bs{BATCH_SIZE}.h5')"
   ]
  },
  {
   "cell_type": "code",
   "execution_count": 50,
   "metadata": {},
   "outputs": [],
   "source": [
    "s_OR_ns = \"s\"\n",
    "classifier_type = \"mc\""
   ]
  },
  {
   "cell_type": "code",
   "execution_count": 54,
   "metadata": {},
   "outputs": [
    {
     "data": {
      "text/plain": [
       "['scaler: model_LSTM_s_mc_ws150_e50_p4_bs32']"
      ]
     },
     "execution_count": 54,
     "metadata": {},
     "output_type": "execute_result"
    }
   ],
   "source": [
    "dump(scaler, f\"scaler: model_LSTM_{s_OR_ns}_{classifier_type}_ws{WINDOW_SIZE}_e{EPOCHS}_p{PATIENCE}_bs{BATCH_SIZE}\")"
   ]
  },
  {
   "cell_type": "code",
   "execution_count": null,
   "metadata": {},
   "outputs": [],
   "source": [
    "#del scaler\n",
    "#del history\n",
    "#del predicts\n",
    "#del loss"
   ]
  },
  {
   "cell_type": "markdown",
   "metadata": {},
   "source": [
    "## LSTM (não-supervisionado) (NÃO TERMINADO!!!)"
   ]
  },
  {
   "cell_type": "code",
   "execution_count": 42,
   "metadata": {},
   "outputs": [],
   "source": [
    "#FEATURES_COUNT = benign_windows.shape[2]"
   ]
  },
  {
   "cell_type": "code",
   "execution_count": 43,
   "metadata": {},
   "outputs": [],
   "source": [
    "#model = Sequential()\n",
    "#model.add(LSTM(50, activation='relu', input_shape=(WINDOW_SIZE, FEATURES_COUNT)))\n",
    "#model.add(RepeatVector(WINDOW_SIZE))\n",
    "#model.add(LSTM(50, activation='relu', return_sequences=True))\n",
    "#model.add(TimeDistributed(Dense(FEATURES_COUNT)))\n",
    "\n",
    "#model.compile(optimizer='adam', loss='mse')"
   ]
  },
  {
   "cell_type": "code",
   "execution_count": 44,
   "metadata": {},
   "outputs": [],
   "source": [
    "#model.fit(benign_windows, benign_windows, epochs=50, batch_size=32, validation_split=0.2)"
   ]
  },
  {
   "cell_type": "code",
   "execution_count": 45,
   "metadata": {},
   "outputs": [],
   "source": [
    "#predicts = model.predict(benign_windows)"
   ]
  },
  {
   "cell_type": "code",
   "execution_count": 46,
   "metadata": {},
   "outputs": [],
   "source": [
    "#len(predicts[predicts > 0]), len(predicts[predicts < 0])"
   ]
  }
 ],
 "metadata": {
  "kernelspec": {
   "display_name": "Python 3",
   "language": "python",
   "name": "python3"
  },
  "language_info": {
   "codemirror_mode": {
    "name": "ipython",
    "version": 3
   },
   "file_extension": ".py",
   "mimetype": "text/x-python",
   "name": "python",
   "nbconvert_exporter": "python",
   "pygments_lexer": "ipython3",
   "version": "3.11.5"
  }
 },
 "nbformat": 4,
 "nbformat_minor": 2
}
