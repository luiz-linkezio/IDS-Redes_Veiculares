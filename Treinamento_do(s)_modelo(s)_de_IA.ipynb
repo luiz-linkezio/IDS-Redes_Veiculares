{
 "cells": [
  {
   "cell_type": "code",
   "execution_count": 1,
   "metadata": {},
   "outputs": [],
   "source": [
    "import numpy as np\n",
    "\n",
    "import pandas as pd\n",
    "\n",
    "from tqdm import tqdm\n",
    "\n",
    "import seaborn as sns\n",
    "\n",
    "from joblib import dump#, load\n",
    "\n",
    "import pickle\n",
    "\n",
    "import matplotlib.pyplot as plt\n",
    "\n",
    "from sklearn.metrics import confusion_matrix, roc_auc_score, roc_curve, precision_recall_curve\n",
    "from sklearn.preprocessing import MinMaxScaler#, StandardScaler\n",
    "from sklearn.model_selection import train_test_split\n",
    "\n",
    "from keras.callbacks import EarlyStopping\n",
    "from keras.models import Model, Sequential#, load_model\n",
    "from keras.layers import Input, LSTM, RepeatVector, Dense, Dropout, BatchNormalization\n",
    "from keras.regularizers import l2\n",
    "from keras.optimizers import Adam"
   ]
  },
  {
   "cell_type": "markdown",
   "metadata": {},
   "source": [
    "Definindo o tema do seaborn:"
   ]
  },
  {
   "cell_type": "code",
   "execution_count": 2,
   "metadata": {},
   "outputs": [],
   "source": [
    "sns.set_theme()"
   ]
  },
  {
   "cell_type": "markdown",
   "metadata": {},
   "source": [
    "Definição da SEED:"
   ]
  },
  {
   "cell_type": "code",
   "execution_count": 3,
   "metadata": {},
   "outputs": [],
   "source": [
    "RANDOM_SEED = 42\n",
    "\n",
    "np.random.seed(RANDOM_SEED) # Numpy"
   ]
  },
  {
   "cell_type": "markdown",
   "metadata": {},
   "source": [
    "# Carregando os dados"
   ]
  },
  {
   "cell_type": "markdown",
   "metadata": {},
   "source": [
    "Os valores são números muito pequenos com muitas casas decimais, por isso é bom que o dataframe consiga representar isso também."
   ]
  },
  {
   "cell_type": "code",
   "execution_count": 4,
   "metadata": {},
   "outputs": [],
   "source": [
    "pd.set_option('display.float_format', '{:.20f}'.format)"
   ]
  },
  {
   "cell_type": "markdown",
   "metadata": {},
   "source": [
    "Carregando os dados:"
   ]
  },
  {
   "cell_type": "code",
   "execution_count": 5,
   "metadata": {},
   "outputs": [],
   "source": [
    "df_benign = pd.read_csv(\"data/dados benignos/mensagens_benignas.csv\")\n",
    "df_benign_2 = pd.read_csv(\"data/dados benignos/mensagens_benignas_2.csv\")\n",
    "df_benign = pd.concat([df_benign, df_benign_2], axis=0)\n",
    "\n",
    "del df_benign_2"
   ]
  },
  {
   "cell_type": "code",
   "execution_count": 6,
   "metadata": {},
   "outputs": [],
   "source": [
    "df_malicious_random_dos = pd.read_csv(\"data/ataques/mensagens_maliciosas_random_dos.csv\")\n",
    "df_malicious_spoofing_zero_payload = pd.read_csv(\"data/ataques/mensagens_maliciosas_spoofing_zero_payload.csv\")\n",
    "df_malicious_zero_dos = pd.read_csv(\"data/ataques/mensagens_maliciosas_zero_dos.csv\")"
   ]
  },
  {
   "cell_type": "code",
   "execution_count": 7,
   "metadata": {},
   "outputs": [
    {
     "data": {
      "text/html": [
       "<div>\n",
       "<style scoped>\n",
       "    .dataframe tbody tr th:only-of-type {\n",
       "        vertical-align: middle;\n",
       "    }\n",
       "\n",
       "    .dataframe tbody tr th {\n",
       "        vertical-align: top;\n",
       "    }\n",
       "\n",
       "    .dataframe thead th {\n",
       "        text-align: right;\n",
       "    }\n",
       "</style>\n",
       "<table border=\"1\" class=\"dataframe\">\n",
       "  <thead>\n",
       "    <tr style=\"text-align: right;\">\n",
       "      <th></th>\n",
       "      <th>Timestamp</th>\n",
       "      <th>DLC</th>\n",
       "      <th>Arb ID</th>\n",
       "      <th>Byte 0</th>\n",
       "      <th>Byte 1</th>\n",
       "      <th>Byte 2</th>\n",
       "      <th>Byte 3</th>\n",
       "    </tr>\n",
       "  </thead>\n",
       "  <tbody>\n",
       "    <tr>\n",
       "      <th>0</th>\n",
       "      <td>0.00000000000000000000</td>\n",
       "      <td>3</td>\n",
       "      <td>193</td>\n",
       "      <td>0</td>\n",
       "      <td>0</td>\n",
       "      <td>0</td>\n",
       "      <td>-1</td>\n",
       "    </tr>\n",
       "    <tr>\n",
       "      <th>1</th>\n",
       "      <td>0.00012946128845210000</td>\n",
       "      <td>3</td>\n",
       "      <td>193</td>\n",
       "      <td>0</td>\n",
       "      <td>0</td>\n",
       "      <td>0</td>\n",
       "      <td>-1</td>\n",
       "    </tr>\n",
       "    <tr>\n",
       "      <th>2</th>\n",
       "      <td>0.00015544891357419999</td>\n",
       "      <td>3</td>\n",
       "      <td>193</td>\n",
       "      <td>0</td>\n",
       "      <td>0</td>\n",
       "      <td>0</td>\n",
       "      <td>-1</td>\n",
       "    </tr>\n",
       "    <tr>\n",
       "      <th>3</th>\n",
       "      <td>0.00015616416931149999</td>\n",
       "      <td>3</td>\n",
       "      <td>193</td>\n",
       "      <td>0</td>\n",
       "      <td>0</td>\n",
       "      <td>0</td>\n",
       "      <td>-1</td>\n",
       "    </tr>\n",
       "    <tr>\n",
       "      <th>4</th>\n",
       "      <td>0.00013208389282220000</td>\n",
       "      <td>2</td>\n",
       "      <td>194</td>\n",
       "      <td>24</td>\n",
       "      <td>0</td>\n",
       "      <td>-1</td>\n",
       "      <td>-1</td>\n",
       "    </tr>\n",
       "    <tr>\n",
       "      <th>...</th>\n",
       "      <td>...</td>\n",
       "      <td>...</td>\n",
       "      <td>...</td>\n",
       "      <td>...</td>\n",
       "      <td>...</td>\n",
       "      <td>...</td>\n",
       "      <td>...</td>\n",
       "    </tr>\n",
       "    <tr>\n",
       "      <th>943319</th>\n",
       "      <td>0.00013184547424310001</td>\n",
       "      <td>2</td>\n",
       "      <td>194</td>\n",
       "      <td>253</td>\n",
       "      <td>255</td>\n",
       "      <td>-1</td>\n",
       "      <td>-1</td>\n",
       "    </tr>\n",
       "    <tr>\n",
       "      <th>943320</th>\n",
       "      <td>0.00016784667968750000</td>\n",
       "      <td>4</td>\n",
       "      <td>192</td>\n",
       "      <td>160</td>\n",
       "      <td>134</td>\n",
       "      <td>1</td>\n",
       "      <td>100</td>\n",
       "    </tr>\n",
       "    <tr>\n",
       "      <th>943321</th>\n",
       "      <td>0.00016760826110829999</td>\n",
       "      <td>4</td>\n",
       "      <td>192</td>\n",
       "      <td>160</td>\n",
       "      <td>134</td>\n",
       "      <td>1</td>\n",
       "      <td>100</td>\n",
       "    </tr>\n",
       "    <tr>\n",
       "      <th>943322</th>\n",
       "      <td>0.00016283988952629999</td>\n",
       "      <td>4</td>\n",
       "      <td>192</td>\n",
       "      <td>160</td>\n",
       "      <td>134</td>\n",
       "      <td>1</td>\n",
       "      <td>100</td>\n",
       "    </tr>\n",
       "    <tr>\n",
       "      <th>943323</th>\n",
       "      <td>0.00016498565673819999</td>\n",
       "      <td>4</td>\n",
       "      <td>192</td>\n",
       "      <td>160</td>\n",
       "      <td>134</td>\n",
       "      <td>1</td>\n",
       "      <td>100</td>\n",
       "    </tr>\n",
       "  </tbody>\n",
       "</table>\n",
       "<p>3617141 rows × 7 columns</p>\n",
       "</div>"
      ],
      "text/plain": [
       "                    Timestamp  DLC  Arb ID  Byte 0  Byte 1  Byte 2  Byte 3\n",
       "0      0.00000000000000000000    3     193       0       0       0      -1\n",
       "1      0.00012946128845210000    3     193       0       0       0      -1\n",
       "2      0.00015544891357419999    3     193       0       0       0      -1\n",
       "3      0.00015616416931149999    3     193       0       0       0      -1\n",
       "4      0.00013208389282220000    2     194      24       0      -1      -1\n",
       "...                       ...  ...     ...     ...     ...     ...     ...\n",
       "943319 0.00013184547424310001    2     194     253     255      -1      -1\n",
       "943320 0.00016784667968750000    4     192     160     134       1     100\n",
       "943321 0.00016760826110829999    4     192     160     134       1     100\n",
       "943322 0.00016283988952629999    4     192     160     134       1     100\n",
       "943323 0.00016498565673819999    4     192     160     134       1     100\n",
       "\n",
       "[3617141 rows x 7 columns]"
      ]
     },
     "execution_count": 7,
     "metadata": {},
     "output_type": "execute_result"
    }
   ],
   "source": [
    "df_benign"
   ]
  },
  {
   "cell_type": "code",
   "execution_count": 8,
   "metadata": {},
   "outputs": [
    {
     "data": {
      "text/html": [
       "<div>\n",
       "<style scoped>\n",
       "    .dataframe tbody tr th:only-of-type {\n",
       "        vertical-align: middle;\n",
       "    }\n",
       "\n",
       "    .dataframe tbody tr th {\n",
       "        vertical-align: top;\n",
       "    }\n",
       "\n",
       "    .dataframe thead th {\n",
       "        text-align: right;\n",
       "    }\n",
       "</style>\n",
       "<table border=\"1\" class=\"dataframe\">\n",
       "  <thead>\n",
       "    <tr style=\"text-align: right;\">\n",
       "      <th></th>\n",
       "      <th>Timestamp</th>\n",
       "      <th>DLC</th>\n",
       "      <th>Arb ID</th>\n",
       "      <th>Byte 0</th>\n",
       "      <th>Byte 1</th>\n",
       "      <th>Byte 2</th>\n",
       "      <th>Byte 3</th>\n",
       "    </tr>\n",
       "  </thead>\n",
       "  <tbody>\n",
       "    <tr>\n",
       "      <th>0</th>\n",
       "      <td>0.00000000000000000000</td>\n",
       "      <td>4</td>\n",
       "      <td>192</td>\n",
       "      <td>17</td>\n",
       "      <td>110</td>\n",
       "      <td>1</td>\n",
       "      <td>93</td>\n",
       "    </tr>\n",
       "    <tr>\n",
       "      <th>1</th>\n",
       "      <td>0.00037145614624020001</td>\n",
       "      <td>1</td>\n",
       "      <td>1061</td>\n",
       "      <td>225</td>\n",
       "      <td>-1</td>\n",
       "      <td>-1</td>\n",
       "      <td>-1</td>\n",
       "    </tr>\n",
       "    <tr>\n",
       "      <th>2</th>\n",
       "      <td>0.00169730186462400002</td>\n",
       "      <td>2</td>\n",
       "      <td>1412</td>\n",
       "      <td>198</td>\n",
       "      <td>237</td>\n",
       "      <td>-1</td>\n",
       "      <td>-1</td>\n",
       "    </tr>\n",
       "    <tr>\n",
       "      <th>3</th>\n",
       "      <td>0.00179910659790029999</td>\n",
       "      <td>1</td>\n",
       "      <td>2035</td>\n",
       "      <td>254</td>\n",
       "      <td>-1</td>\n",
       "      <td>-1</td>\n",
       "      <td>-1</td>\n",
       "    </tr>\n",
       "    <tr>\n",
       "      <th>4</th>\n",
       "      <td>0.00183224678039550001</td>\n",
       "      <td>3</td>\n",
       "      <td>544</td>\n",
       "      <td>66</td>\n",
       "      <td>102</td>\n",
       "      <td>79</td>\n",
       "      <td>-1</td>\n",
       "    </tr>\n",
       "    <tr>\n",
       "      <th>...</th>\n",
       "      <td>...</td>\n",
       "      <td>...</td>\n",
       "      <td>...</td>\n",
       "      <td>...</td>\n",
       "      <td>...</td>\n",
       "      <td>...</td>\n",
       "      <td>...</td>\n",
       "    </tr>\n",
       "    <tr>\n",
       "      <th>455997</th>\n",
       "      <td>0.00016474723815910000</td>\n",
       "      <td>4</td>\n",
       "      <td>192</td>\n",
       "      <td>207</td>\n",
       "      <td>106</td>\n",
       "      <td>1</td>\n",
       "      <td>92</td>\n",
       "    </tr>\n",
       "    <tr>\n",
       "      <th>455998</th>\n",
       "      <td>0.00016379356384270001</td>\n",
       "      <td>4</td>\n",
       "      <td>192</td>\n",
       "      <td>207</td>\n",
       "      <td>106</td>\n",
       "      <td>1</td>\n",
       "      <td>92</td>\n",
       "    </tr>\n",
       "    <tr>\n",
       "      <th>455999</th>\n",
       "      <td>0.00016403198242180000</td>\n",
       "      <td>4</td>\n",
       "      <td>192</td>\n",
       "      <td>207</td>\n",
       "      <td>106</td>\n",
       "      <td>1</td>\n",
       "      <td>92</td>\n",
       "    </tr>\n",
       "    <tr>\n",
       "      <th>456000</th>\n",
       "      <td>0.00016498565673819999</td>\n",
       "      <td>4</td>\n",
       "      <td>192</td>\n",
       "      <td>207</td>\n",
       "      <td>106</td>\n",
       "      <td>1</td>\n",
       "      <td>92</td>\n",
       "    </tr>\n",
       "    <tr>\n",
       "      <th>456001</th>\n",
       "      <td>0.00015091896057120000</td>\n",
       "      <td>3</td>\n",
       "      <td>193</td>\n",
       "      <td>176</td>\n",
       "      <td>6</td>\n",
       "      <td>251</td>\n",
       "      <td>-1</td>\n",
       "    </tr>\n",
       "  </tbody>\n",
       "</table>\n",
       "<p>456002 rows × 7 columns</p>\n",
       "</div>"
      ],
      "text/plain": [
       "                    Timestamp  DLC  Arb ID  Byte 0  Byte 1  Byte 2  Byte 3\n",
       "0      0.00000000000000000000    4     192      17     110       1      93\n",
       "1      0.00037145614624020001    1    1061     225      -1      -1      -1\n",
       "2      0.00169730186462400002    2    1412     198     237      -1      -1\n",
       "3      0.00179910659790029999    1    2035     254      -1      -1      -1\n",
       "4      0.00183224678039550001    3     544      66     102      79      -1\n",
       "...                       ...  ...     ...     ...     ...     ...     ...\n",
       "455997 0.00016474723815910000    4     192     207     106       1      92\n",
       "455998 0.00016379356384270001    4     192     207     106       1      92\n",
       "455999 0.00016403198242180000    4     192     207     106       1      92\n",
       "456000 0.00016498565673819999    4     192     207     106       1      92\n",
       "456001 0.00015091896057120000    3     193     176       6     251      -1\n",
       "\n",
       "[456002 rows x 7 columns]"
      ]
     },
     "execution_count": 8,
     "metadata": {},
     "output_type": "execute_result"
    }
   ],
   "source": [
    "df_malicious_random_dos"
   ]
  },
  {
   "cell_type": "code",
   "execution_count": 9,
   "metadata": {},
   "outputs": [
    {
     "data": {
      "text/html": [
       "<div>\n",
       "<style scoped>\n",
       "    .dataframe tbody tr th:only-of-type {\n",
       "        vertical-align: middle;\n",
       "    }\n",
       "\n",
       "    .dataframe tbody tr th {\n",
       "        vertical-align: top;\n",
       "    }\n",
       "\n",
       "    .dataframe thead th {\n",
       "        text-align: right;\n",
       "    }\n",
       "</style>\n",
       "<table border=\"1\" class=\"dataframe\">\n",
       "  <thead>\n",
       "    <tr style=\"text-align: right;\">\n",
       "      <th></th>\n",
       "      <th>Timestamp</th>\n",
       "      <th>DLC</th>\n",
       "      <th>Arb ID</th>\n",
       "      <th>Byte 0</th>\n",
       "      <th>Byte 1</th>\n",
       "      <th>Byte 2</th>\n",
       "      <th>Byte 3</th>\n",
       "    </tr>\n",
       "  </thead>\n",
       "  <tbody>\n",
       "    <tr>\n",
       "      <th>0</th>\n",
       "      <td>0.00000000000000000000</td>\n",
       "      <td>4</td>\n",
       "      <td>0</td>\n",
       "      <td>0</td>\n",
       "      <td>0</td>\n",
       "      <td>0</td>\n",
       "      <td>0</td>\n",
       "    </tr>\n",
       "    <tr>\n",
       "      <th>1</th>\n",
       "      <td>0.00161838531494139996</td>\n",
       "      <td>4</td>\n",
       "      <td>0</td>\n",
       "      <td>0</td>\n",
       "      <td>0</td>\n",
       "      <td>0</td>\n",
       "      <td>0</td>\n",
       "    </tr>\n",
       "    <tr>\n",
       "      <th>2</th>\n",
       "      <td>0.00169730186462400002</td>\n",
       "      <td>4</td>\n",
       "      <td>0</td>\n",
       "      <td>0</td>\n",
       "      <td>0</td>\n",
       "      <td>0</td>\n",
       "      <td>0</td>\n",
       "    </tr>\n",
       "    <tr>\n",
       "      <th>3</th>\n",
       "      <td>0.00061082839965819998</td>\n",
       "      <td>4</td>\n",
       "      <td>192</td>\n",
       "      <td>0</td>\n",
       "      <td>0</td>\n",
       "      <td>0</td>\n",
       "      <td>0</td>\n",
       "    </tr>\n",
       "    <tr>\n",
       "      <th>4</th>\n",
       "      <td>0.00175023078918450006</td>\n",
       "      <td>4</td>\n",
       "      <td>0</td>\n",
       "      <td>0</td>\n",
       "      <td>0</td>\n",
       "      <td>0</td>\n",
       "      <td>0</td>\n",
       "    </tr>\n",
       "    <tr>\n",
       "      <th>...</th>\n",
       "      <td>...</td>\n",
       "      <td>...</td>\n",
       "      <td>...</td>\n",
       "      <td>...</td>\n",
       "      <td>...</td>\n",
       "      <td>...</td>\n",
       "      <td>...</td>\n",
       "    </tr>\n",
       "    <tr>\n",
       "      <th>568457</th>\n",
       "      <td>0.00015544891357419999</td>\n",
       "      <td>3</td>\n",
       "      <td>193</td>\n",
       "      <td>0</td>\n",
       "      <td>0</td>\n",
       "      <td>0</td>\n",
       "      <td>-1</td>\n",
       "    </tr>\n",
       "    <tr>\n",
       "      <th>568458</th>\n",
       "      <td>0.00015711784362790001</td>\n",
       "      <td>3</td>\n",
       "      <td>193</td>\n",
       "      <td>0</td>\n",
       "      <td>0</td>\n",
       "      <td>0</td>\n",
       "      <td>-1</td>\n",
       "    </tr>\n",
       "    <tr>\n",
       "      <th>568459</th>\n",
       "      <td>0.00015830993652339999</td>\n",
       "      <td>3</td>\n",
       "      <td>193</td>\n",
       "      <td>0</td>\n",
       "      <td>0</td>\n",
       "      <td>0</td>\n",
       "      <td>-1</td>\n",
       "    </tr>\n",
       "    <tr>\n",
       "      <th>568460</th>\n",
       "      <td>0.00012922286987300001</td>\n",
       "      <td>2</td>\n",
       "      <td>194</td>\n",
       "      <td>0</td>\n",
       "      <td>0</td>\n",
       "      <td>-1</td>\n",
       "      <td>-1</td>\n",
       "    </tr>\n",
       "    <tr>\n",
       "      <th>568461</th>\n",
       "      <td>0.00013613700866690000</td>\n",
       "      <td>2</td>\n",
       "      <td>194</td>\n",
       "      <td>0</td>\n",
       "      <td>0</td>\n",
       "      <td>-1</td>\n",
       "      <td>-1</td>\n",
       "    </tr>\n",
       "  </tbody>\n",
       "</table>\n",
       "<p>568462 rows × 7 columns</p>\n",
       "</div>"
      ],
      "text/plain": [
       "                    Timestamp  DLC  Arb ID  Byte 0  Byte 1  Byte 2  Byte 3\n",
       "0      0.00000000000000000000    4       0       0       0       0       0\n",
       "1      0.00161838531494139996    4       0       0       0       0       0\n",
       "2      0.00169730186462400002    4       0       0       0       0       0\n",
       "3      0.00061082839965819998    4     192       0       0       0       0\n",
       "4      0.00175023078918450006    4       0       0       0       0       0\n",
       "...                       ...  ...     ...     ...     ...     ...     ...\n",
       "568457 0.00015544891357419999    3     193       0       0       0      -1\n",
       "568458 0.00015711784362790001    3     193       0       0       0      -1\n",
       "568459 0.00015830993652339999    3     193       0       0       0      -1\n",
       "568460 0.00012922286987300001    2     194       0       0      -1      -1\n",
       "568461 0.00013613700866690000    2     194       0       0      -1      -1\n",
       "\n",
       "[568462 rows x 7 columns]"
      ]
     },
     "execution_count": 9,
     "metadata": {},
     "output_type": "execute_result"
    }
   ],
   "source": [
    "df_malicious_spoofing_zero_payload"
   ]
  },
  {
   "cell_type": "code",
   "execution_count": 10,
   "metadata": {},
   "outputs": [
    {
     "data": {
      "text/html": [
       "<div>\n",
       "<style scoped>\n",
       "    .dataframe tbody tr th:only-of-type {\n",
       "        vertical-align: middle;\n",
       "    }\n",
       "\n",
       "    .dataframe tbody tr th {\n",
       "        vertical-align: top;\n",
       "    }\n",
       "\n",
       "    .dataframe thead th {\n",
       "        text-align: right;\n",
       "    }\n",
       "</style>\n",
       "<table border=\"1\" class=\"dataframe\">\n",
       "  <thead>\n",
       "    <tr style=\"text-align: right;\">\n",
       "      <th></th>\n",
       "      <th>Timestamp</th>\n",
       "      <th>DLC</th>\n",
       "      <th>Arb ID</th>\n",
       "      <th>Byte 0</th>\n",
       "      <th>Byte 1</th>\n",
       "      <th>Byte 2</th>\n",
       "      <th>Byte 3</th>\n",
       "    </tr>\n",
       "  </thead>\n",
       "  <tbody>\n",
       "    <tr>\n",
       "      <th>0</th>\n",
       "      <td>0.00000000000000000000</td>\n",
       "      <td>4</td>\n",
       "      <td>0</td>\n",
       "      <td>0</td>\n",
       "      <td>0</td>\n",
       "      <td>0</td>\n",
       "      <td>0</td>\n",
       "    </tr>\n",
       "    <tr>\n",
       "      <th>1</th>\n",
       "      <td>0.00115513801574700006</td>\n",
       "      <td>4</td>\n",
       "      <td>0</td>\n",
       "      <td>0</td>\n",
       "      <td>0</td>\n",
       "      <td>0</td>\n",
       "      <td>0</td>\n",
       "    </tr>\n",
       "    <tr>\n",
       "      <th>2</th>\n",
       "      <td>0.00147318840026850004</td>\n",
       "      <td>4</td>\n",
       "      <td>0</td>\n",
       "      <td>0</td>\n",
       "      <td>0</td>\n",
       "      <td>0</td>\n",
       "      <td>0</td>\n",
       "    </tr>\n",
       "    <tr>\n",
       "      <th>3</th>\n",
       "      <td>0.00123977661132810006</td>\n",
       "      <td>4</td>\n",
       "      <td>0</td>\n",
       "      <td>0</td>\n",
       "      <td>0</td>\n",
       "      <td>0</td>\n",
       "      <td>0</td>\n",
       "    </tr>\n",
       "    <tr>\n",
       "      <th>4</th>\n",
       "      <td>0.00169897079467769990</td>\n",
       "      <td>4</td>\n",
       "      <td>0</td>\n",
       "      <td>0</td>\n",
       "      <td>0</td>\n",
       "      <td>0</td>\n",
       "      <td>0</td>\n",
       "    </tr>\n",
       "    <tr>\n",
       "      <th>...</th>\n",
       "      <td>...</td>\n",
       "      <td>...</td>\n",
       "      <td>...</td>\n",
       "      <td>...</td>\n",
       "      <td>...</td>\n",
       "      <td>...</td>\n",
       "      <td>...</td>\n",
       "    </tr>\n",
       "    <tr>\n",
       "      <th>741977</th>\n",
       "      <td>0.00014257431030270001</td>\n",
       "      <td>2</td>\n",
       "      <td>194</td>\n",
       "      <td>236</td>\n",
       "      <td>255</td>\n",
       "      <td>-1</td>\n",
       "      <td>-1</td>\n",
       "    </tr>\n",
       "    <tr>\n",
       "      <th>741978</th>\n",
       "      <td>0.00012278556823730000</td>\n",
       "      <td>2</td>\n",
       "      <td>194</td>\n",
       "      <td>236</td>\n",
       "      <td>255</td>\n",
       "      <td>-1</td>\n",
       "      <td>-1</td>\n",
       "    </tr>\n",
       "    <tr>\n",
       "      <th>741979</th>\n",
       "      <td>0.00013160705566400000</td>\n",
       "      <td>2</td>\n",
       "      <td>194</td>\n",
       "      <td>236</td>\n",
       "      <td>255</td>\n",
       "      <td>-1</td>\n",
       "      <td>-1</td>\n",
       "    </tr>\n",
       "    <tr>\n",
       "      <th>741980</th>\n",
       "      <td>0.00016975402832030000</td>\n",
       "      <td>4</td>\n",
       "      <td>192</td>\n",
       "      <td>147</td>\n",
       "      <td>117</td>\n",
       "      <td>1</td>\n",
       "      <td>95</td>\n",
       "    </tr>\n",
       "    <tr>\n",
       "      <th>741981</th>\n",
       "      <td>0.00017046928405760000</td>\n",
       "      <td>4</td>\n",
       "      <td>192</td>\n",
       "      <td>147</td>\n",
       "      <td>117</td>\n",
       "      <td>1</td>\n",
       "      <td>95</td>\n",
       "    </tr>\n",
       "  </tbody>\n",
       "</table>\n",
       "<p>741982 rows × 7 columns</p>\n",
       "</div>"
      ],
      "text/plain": [
       "                    Timestamp  DLC  Arb ID  Byte 0  Byte 1  Byte 2  Byte 3\n",
       "0      0.00000000000000000000    4       0       0       0       0       0\n",
       "1      0.00115513801574700006    4       0       0       0       0       0\n",
       "2      0.00147318840026850004    4       0       0       0       0       0\n",
       "3      0.00123977661132810006    4       0       0       0       0       0\n",
       "4      0.00169897079467769990    4       0       0       0       0       0\n",
       "...                       ...  ...     ...     ...     ...     ...     ...\n",
       "741977 0.00014257431030270001    2     194     236     255      -1      -1\n",
       "741978 0.00012278556823730000    2     194     236     255      -1      -1\n",
       "741979 0.00013160705566400000    2     194     236     255      -1      -1\n",
       "741980 0.00016975402832030000    4     192     147     117       1      95\n",
       "741981 0.00017046928405760000    4     192     147     117       1      95\n",
       "\n",
       "[741982 rows x 7 columns]"
      ]
     },
     "execution_count": 10,
     "metadata": {},
     "output_type": "execute_result"
    }
   ],
   "source": [
    "df_malicious_zero_dos"
   ]
  },
  {
   "cell_type": "markdown",
   "metadata": {},
   "source": [
    "Manipualação da quantidade/proporção dos dados:"
   ]
  },
  {
   "cell_type": "code",
   "execution_count": 11,
   "metadata": {},
   "outputs": [],
   "source": [
    "# OPCIONAL!!!\n",
    "len_min = min(len(df_benign),len(df_malicious_random_dos),len(df_malicious_spoofing_zero_payload),len(df_malicious_zero_dos))\n",
    "NUM_OF_ATTACKS = 3\n",
    "\n",
    "#len_min = int(len_min / 40)\n",
    "\n",
    "#df_benign = df_benign.head(len_min * NUM_OF_ATTACKS)\n",
    "df_malicious_random_dos = df_malicious_random_dos.head(len_min)\n",
    "df_malicious_spoofing_zero_payload = df_malicious_spoofing_zero_payload.head(len_min)\n",
    "df_malicious_zero_dos = df_malicious_zero_dos.head(len_min)"
   ]
  },
  {
   "cell_type": "code",
   "execution_count": 12,
   "metadata": {},
   "outputs": [],
   "source": [
    "del len_min"
   ]
  },
  {
   "cell_type": "markdown",
   "metadata": {},
   "source": [
    "# Tratando dados"
   ]
  },
  {
   "cell_type": "markdown",
   "metadata": {},
   "source": [
    "## Normalização dos dados"
   ]
  },
  {
   "cell_type": "markdown",
   "metadata": {},
   "source": [
    "Criação e uso do scaler:"
   ]
  },
  {
   "cell_type": "code",
   "execution_count": 13,
   "metadata": {},
   "outputs": [],
   "source": [
    "scaler = MinMaxScaler()\n",
    "\n",
    "scaler.fit(df_benign)\n",
    "\n",
    "df_benign_scaled = pd.DataFrame(scaler.transform(df_benign), columns=df_benign.columns, index=df_benign.index)\n",
    "df_malicious_random_dos_scaled = pd.DataFrame(scaler.transform(df_malicious_random_dos), columns=df_malicious_random_dos.columns, index=df_malicious_random_dos.index)\n",
    "df_malicious_spoofing_zero_payload_scaled = pd.DataFrame(scaler.transform(df_malicious_spoofing_zero_payload), columns=df_malicious_spoofing_zero_payload.columns, index=df_malicious_spoofing_zero_payload.index)\n",
    "df_malicious_zero_dos_scaled = pd.DataFrame(scaler.transform(df_malicious_zero_dos), columns=df_malicious_zero_dos.columns, index=df_malicious_zero_dos.index)"
   ]
  },
  {
   "cell_type": "code",
   "execution_count": 14,
   "metadata": {},
   "outputs": [],
   "source": [
    "del df_benign\n",
    "del df_malicious_random_dos\n",
    "del df_malicious_spoofing_zero_payload\n",
    "del df_malicious_zero_dos"
   ]
  },
  {
   "cell_type": "code",
   "execution_count": 15,
   "metadata": {},
   "outputs": [
    {
     "data": {
      "text/html": [
       "<div>\n",
       "<style scoped>\n",
       "    .dataframe tbody tr th:only-of-type {\n",
       "        vertical-align: middle;\n",
       "    }\n",
       "\n",
       "    .dataframe tbody tr th {\n",
       "        vertical-align: top;\n",
       "    }\n",
       "\n",
       "    .dataframe thead th {\n",
       "        text-align: right;\n",
       "    }\n",
       "</style>\n",
       "<table border=\"1\" class=\"dataframe\">\n",
       "  <thead>\n",
       "    <tr style=\"text-align: right;\">\n",
       "      <th></th>\n",
       "      <th>Timestamp</th>\n",
       "      <th>DLC</th>\n",
       "      <th>Arb ID</th>\n",
       "      <th>Byte 0</th>\n",
       "      <th>Byte 1</th>\n",
       "      <th>Byte 2</th>\n",
       "      <th>Byte 3</th>\n",
       "    </tr>\n",
       "  </thead>\n",
       "  <tbody>\n",
       "    <tr>\n",
       "      <th>0</th>\n",
       "      <td>0.00000000000000000000</td>\n",
       "      <td>0.28571428571428569843</td>\n",
       "      <td>0.99473684210526325256</td>\n",
       "      <td>0.00000000000000000000</td>\n",
       "      <td>0.00390625000000000000</td>\n",
       "      <td>0.00390625000000000000</td>\n",
       "      <td>0.00000000000000000000</td>\n",
       "    </tr>\n",
       "    <tr>\n",
       "      <th>1</th>\n",
       "      <td>0.00016294733620110546</td>\n",
       "      <td>0.28571428571428569843</td>\n",
       "      <td>0.99473684210526325256</td>\n",
       "      <td>0.00000000000000000000</td>\n",
       "      <td>0.00390625000000000000</td>\n",
       "      <td>0.00390625000000000000</td>\n",
       "      <td>0.00000000000000000000</td>\n",
       "    </tr>\n",
       "    <tr>\n",
       "      <th>2</th>\n",
       "      <td>0.00019565683831150588</td>\n",
       "      <td>0.28571428571428569843</td>\n",
       "      <td>0.99473684210526325256</td>\n",
       "      <td>0.00000000000000000000</td>\n",
       "      <td>0.00390625000000000000</td>\n",
       "      <td>0.00390625000000000000</td>\n",
       "      <td>0.00000000000000000000</td>\n",
       "    </tr>\n",
       "    <tr>\n",
       "      <th>3</th>\n",
       "      <td>0.00019655709983747329</td>\n",
       "      <td>0.28571428571428569843</td>\n",
       "      <td>0.99473684210526325256</td>\n",
       "      <td>0.00000000000000000000</td>\n",
       "      <td>0.00390625000000000000</td>\n",
       "      <td>0.00390625000000000000</td>\n",
       "      <td>0.00000000000000000000</td>\n",
       "    </tr>\n",
       "    <tr>\n",
       "      <th>4</th>\n",
       "      <td>0.00016624829512965259</td>\n",
       "      <td>0.14285714285714284921</td>\n",
       "      <td>1.00000000000000000000</td>\n",
       "      <td>0.09411764705882352811</td>\n",
       "      <td>0.00390625000000000000</td>\n",
       "      <td>0.00000000000000000000</td>\n",
       "      <td>0.00000000000000000000</td>\n",
       "    </tr>\n",
       "    <tr>\n",
       "      <th>...</th>\n",
       "      <td>...</td>\n",
       "      <td>...</td>\n",
       "      <td>...</td>\n",
       "      <td>...</td>\n",
       "      <td>...</td>\n",
       "      <td>...</td>\n",
       "      <td>...</td>\n",
       "    </tr>\n",
       "    <tr>\n",
       "      <th>943319</th>\n",
       "      <td>0.00016594820795433012</td>\n",
       "      <td>0.14285714285714284921</td>\n",
       "      <td>1.00000000000000000000</td>\n",
       "      <td>0.99215686274509806708</td>\n",
       "      <td>1.00000000000000000000</td>\n",
       "      <td>0.00000000000000000000</td>\n",
       "      <td>0.00000000000000000000</td>\n",
       "    </tr>\n",
       "    <tr>\n",
       "      <th>943320</th>\n",
       "      <td>0.00021126137142839994</td>\n",
       "      <td>0.42857142857142854764</td>\n",
       "      <td>0.98947368421052639409</td>\n",
       "      <td>0.62745098039215685404</td>\n",
       "      <td>0.52734375000000000000</td>\n",
       "      <td>0.00781250000000000000</td>\n",
       "      <td>1.00000000000000000000</td>\n",
       "    </tr>\n",
       "    <tr>\n",
       "      <th>943321</th>\n",
       "      <td>0.00021096128425295160</td>\n",
       "      <td>0.42857142857142854764</td>\n",
       "      <td>0.98947368421052639409</td>\n",
       "      <td>0.62745098039215685404</td>\n",
       "      <td>0.52734375000000000000</td>\n",
       "      <td>0.00781250000000000000</td>\n",
       "      <td>1.00000000000000000000</td>\n",
       "    </tr>\n",
       "    <tr>\n",
       "      <th>943322</th>\n",
       "      <td>0.00020495954074650229</td>\n",
       "      <td>0.42857142857142854764</td>\n",
       "      <td>0.98947368421052639409</td>\n",
       "      <td>0.62745098039215685404</td>\n",
       "      <td>0.52734375000000000000</td>\n",
       "      <td>0.00781250000000000000</td>\n",
       "      <td>1.00000000000000000000</td>\n",
       "    </tr>\n",
       "    <tr>\n",
       "      <th>943323</th>\n",
       "      <td>0.00020766032532440449</td>\n",
       "      <td>0.42857142857142854764</td>\n",
       "      <td>0.98947368421052639409</td>\n",
       "      <td>0.62745098039215685404</td>\n",
       "      <td>0.52734375000000000000</td>\n",
       "      <td>0.00781250000000000000</td>\n",
       "      <td>1.00000000000000000000</td>\n",
       "    </tr>\n",
       "  </tbody>\n",
       "</table>\n",
       "<p>3617141 rows × 7 columns</p>\n",
       "</div>"
      ],
      "text/plain": [
       "                    Timestamp                    DLC                 Arb ID  \\\n",
       "0      0.00000000000000000000 0.28571428571428569843 0.99473684210526325256   \n",
       "1      0.00016294733620110546 0.28571428571428569843 0.99473684210526325256   \n",
       "2      0.00019565683831150588 0.28571428571428569843 0.99473684210526325256   \n",
       "3      0.00019655709983747329 0.28571428571428569843 0.99473684210526325256   \n",
       "4      0.00016624829512965259 0.14285714285714284921 1.00000000000000000000   \n",
       "...                       ...                    ...                    ...   \n",
       "943319 0.00016594820795433012 0.14285714285714284921 1.00000000000000000000   \n",
       "943320 0.00021126137142839994 0.42857142857142854764 0.98947368421052639409   \n",
       "943321 0.00021096128425295160 0.42857142857142854764 0.98947368421052639409   \n",
       "943322 0.00020495954074650229 0.42857142857142854764 0.98947368421052639409   \n",
       "943323 0.00020766032532440449 0.42857142857142854764 0.98947368421052639409   \n",
       "\n",
       "                       Byte 0                 Byte 1                 Byte 2  \\\n",
       "0      0.00000000000000000000 0.00390625000000000000 0.00390625000000000000   \n",
       "1      0.00000000000000000000 0.00390625000000000000 0.00390625000000000000   \n",
       "2      0.00000000000000000000 0.00390625000000000000 0.00390625000000000000   \n",
       "3      0.00000000000000000000 0.00390625000000000000 0.00390625000000000000   \n",
       "4      0.09411764705882352811 0.00390625000000000000 0.00000000000000000000   \n",
       "...                       ...                    ...                    ...   \n",
       "943319 0.99215686274509806708 1.00000000000000000000 0.00000000000000000000   \n",
       "943320 0.62745098039215685404 0.52734375000000000000 0.00781250000000000000   \n",
       "943321 0.62745098039215685404 0.52734375000000000000 0.00781250000000000000   \n",
       "943322 0.62745098039215685404 0.52734375000000000000 0.00781250000000000000   \n",
       "943323 0.62745098039215685404 0.52734375000000000000 0.00781250000000000000   \n",
       "\n",
       "                       Byte 3  \n",
       "0      0.00000000000000000000  \n",
       "1      0.00000000000000000000  \n",
       "2      0.00000000000000000000  \n",
       "3      0.00000000000000000000  \n",
       "4      0.00000000000000000000  \n",
       "...                       ...  \n",
       "943319 0.00000000000000000000  \n",
       "943320 1.00000000000000000000  \n",
       "943321 1.00000000000000000000  \n",
       "943322 1.00000000000000000000  \n",
       "943323 1.00000000000000000000  \n",
       "\n",
       "[3617141 rows x 7 columns]"
      ]
     },
     "execution_count": 15,
     "metadata": {},
     "output_type": "execute_result"
    }
   ],
   "source": [
    "df_benign_scaled"
   ]
  },
  {
   "cell_type": "markdown",
   "metadata": {},
   "source": [
    "## Criação de Labels"
   ]
  },
  {
   "cell_type": "code",
   "execution_count": 16,
   "metadata": {},
   "outputs": [],
   "source": [
    "list_labels_benign = [1] * len(df_benign_scaled)\n",
    "list_labels_random_dos = [-1] * len(df_malicious_random_dos_scaled)\n",
    "list_labels_spoofing_zero_payload = [-1] * len(df_malicious_spoofing_zero_payload_scaled)\n",
    "list_labels_zero_dos = [-1] * len(df_malicious_zero_dos_scaled)\n",
    "\n",
    "classifier_type = \"bc\""
   ]
  },
  {
   "cell_type": "markdown",
   "metadata": {},
   "source": [
    "## Criação de Janelas Temporais"
   ]
  },
  {
   "cell_type": "markdown",
   "metadata": {},
   "source": [
    "### Criação de Janelas Deslizantes"
   ]
  },
  {
   "cell_type": "markdown",
   "metadata": {},
   "source": [
    "Criação da função de divisão dos dados em janelas:"
   ]
  },
  {
   "cell_type": "code",
   "execution_count": 17,
   "metadata": {},
   "outputs": [],
   "source": [
    "def create_slicing_windows(data, labels, time_step=1):\n",
    "    X, Y = [], []\n",
    "    for i in range(len(data) - time_step):\n",
    "        a = data[i:(i + time_step)]\n",
    "        X.append(a)\n",
    "        Y.append(labels[i + time_step])\n",
    "    return np.array(X), np.array(Y)"
   ]
  },
  {
   "cell_type": "markdown",
   "metadata": {},
   "source": [
    "Definição do tamanho da janela:"
   ]
  },
  {
   "cell_type": "code",
   "execution_count": 18,
   "metadata": {},
   "outputs": [],
   "source": [
    "WINDOW_SIZE = 150"
   ]
  },
  {
   "cell_type": "markdown",
   "metadata": {},
   "source": [
    "Criação das janelas deslizantes:"
   ]
  },
  {
   "cell_type": "code",
   "execution_count": 19,
   "metadata": {},
   "outputs": [],
   "source": [
    "benign_windows, benign_labels = create_slicing_windows(df_benign_scaled, list_labels_benign, WINDOW_SIZE)\n",
    "del df_benign_scaled, list_labels_benign\n",
    "\n",
    "malicious_random_dos_windows, malicious_random_dos_labels = create_slicing_windows(df_malicious_random_dos_scaled, list_labels_random_dos, WINDOW_SIZE)\n",
    "del df_malicious_random_dos_scaled, list_labels_random_dos\n",
    "\n",
    "malicious_spoofing_zero_payload_windows, malicious_spoofing_zero_payload_labels = create_slicing_windows(df_malicious_spoofing_zero_payload_scaled, list_labels_spoofing_zero_payload, WINDOW_SIZE)\n",
    "del df_malicious_spoofing_zero_payload_scaled, list_labels_spoofing_zero_payload\n",
    "\n",
    "malicious_zero_dos_windows, malicious_zero_dos_labels = create_slicing_windows(df_malicious_zero_dos_scaled, list_labels_zero_dos, WINDOW_SIZE)\n",
    "del df_malicious_zero_dos_scaled, list_labels_zero_dos"
   ]
  },
  {
   "cell_type": "code",
   "execution_count": 20,
   "metadata": {},
   "outputs": [
    {
     "data": {
      "text/plain": [
       "(3616991, 150)"
      ]
     },
     "execution_count": 20,
     "metadata": {},
     "output_type": "execute_result"
    }
   ],
   "source": [
    "len(benign_windows), len(benign_windows[0])"
   ]
  },
  {
   "cell_type": "code",
   "execution_count": 21,
   "metadata": {},
   "outputs": [
    {
     "data": {
      "text/plain": [
       "array([[[0.00000000e+00, 2.85714286e-01, 9.94736842e-01, ...,\n",
       "         3.90625000e-03, 3.90625000e-03, 0.00000000e+00],\n",
       "        [1.62947336e-04, 2.85714286e-01, 9.94736842e-01, ...,\n",
       "         3.90625000e-03, 3.90625000e-03, 0.00000000e+00],\n",
       "        [1.95656838e-04, 2.85714286e-01, 9.94736842e-01, ...,\n",
       "         3.90625000e-03, 3.90625000e-03, 0.00000000e+00],\n",
       "        ...,\n",
       "        [1.93856315e-04, 2.85714286e-01, 9.94736842e-01, ...,\n",
       "         3.90625000e-03, 3.90625000e-03, 0.00000000e+00],\n",
       "        [1.95956925e-04, 2.85714286e-01, 9.94736842e-01, ...,\n",
       "         3.90625000e-03, 3.90625000e-03, 0.00000000e+00],\n",
       "        [1.67748731e-04, 1.42857143e-01, 1.00000000e+00, ...,\n",
       "         3.90625000e-03, 0.00000000e+00, 0.00000000e+00]],\n",
       "\n",
       "       [[1.62947336e-04, 2.85714286e-01, 9.94736842e-01, ...,\n",
       "         3.90625000e-03, 3.90625000e-03, 0.00000000e+00],\n",
       "        [1.95656838e-04, 2.85714286e-01, 9.94736842e-01, ...,\n",
       "         3.90625000e-03, 3.90625000e-03, 0.00000000e+00],\n",
       "        [1.96557100e-04, 2.85714286e-01, 9.94736842e-01, ...,\n",
       "         3.90625000e-03, 3.90625000e-03, 0.00000000e+00],\n",
       "        ...,\n",
       "        [1.95956925e-04, 2.85714286e-01, 9.94736842e-01, ...,\n",
       "         3.90625000e-03, 3.90625000e-03, 0.00000000e+00],\n",
       "        [1.67748731e-04, 1.42857143e-01, 1.00000000e+00, ...,\n",
       "         3.90625000e-03, 0.00000000e+00, 0.00000000e+00],\n",
       "        [1.66848469e-04, 1.42857143e-01, 1.00000000e+00, ...,\n",
       "         3.90625000e-03, 0.00000000e+00, 0.00000000e+00]],\n",
       "\n",
       "       [[1.95656838e-04, 2.85714286e-01, 9.94736842e-01, ...,\n",
       "         3.90625000e-03, 3.90625000e-03, 0.00000000e+00],\n",
       "        [1.96557100e-04, 2.85714286e-01, 9.94736842e-01, ...,\n",
       "         3.90625000e-03, 3.90625000e-03, 0.00000000e+00],\n",
       "        [1.66248295e-04, 1.42857143e-01, 1.00000000e+00, ...,\n",
       "         3.90625000e-03, 0.00000000e+00, 0.00000000e+00],\n",
       "        ...,\n",
       "        [1.67748731e-04, 1.42857143e-01, 1.00000000e+00, ...,\n",
       "         3.90625000e-03, 0.00000000e+00, 0.00000000e+00],\n",
       "        [1.66848469e-04, 1.42857143e-01, 1.00000000e+00, ...,\n",
       "         3.90625000e-03, 0.00000000e+00, 0.00000000e+00],\n",
       "        [1.65948208e-04, 1.42857143e-01, 1.00000000e+00, ...,\n",
       "         3.90625000e-03, 0.00000000e+00, 0.00000000e+00]],\n",
       "\n",
       "       ...,\n",
       "\n",
       "       [[1.66248295e-04, 2.85714286e-01, 9.94736842e-01, ...,\n",
       "         3.90625000e-03, 3.90625000e-03, 0.00000000e+00],\n",
       "        [1.83053177e-04, 1.42857143e-01, 1.00000000e+00, ...,\n",
       "         1.00000000e+00, 0.00000000e+00, 0.00000000e+00],\n",
       "        [1.62947336e-04, 1.42857143e-01, 1.00000000e+00, ...,\n",
       "         1.00000000e+00, 0.00000000e+00, 0.00000000e+00],\n",
       "        ...,\n",
       "        [1.63247423e-04, 1.42857143e-01, 1.00000000e+00, ...,\n",
       "         1.00000000e+00, 0.00000000e+00, 0.00000000e+00],\n",
       "        [1.65948208e-04, 1.42857143e-01, 1.00000000e+00, ...,\n",
       "         1.00000000e+00, 0.00000000e+00, 0.00000000e+00],\n",
       "        [2.11261371e-04, 4.28571429e-01, 9.89473684e-01, ...,\n",
       "         5.27343750e-01, 7.81250000e-03, 1.00000000e+00]],\n",
       "\n",
       "       [[1.83053177e-04, 1.42857143e-01, 1.00000000e+00, ...,\n",
       "         1.00000000e+00, 0.00000000e+00, 0.00000000e+00],\n",
       "        [1.62947336e-04, 1.42857143e-01, 1.00000000e+00, ...,\n",
       "         1.00000000e+00, 0.00000000e+00, 0.00000000e+00],\n",
       "        [1.71349777e-04, 1.42857143e-01, 1.00000000e+00, ...,\n",
       "         1.00000000e+00, 0.00000000e+00, 0.00000000e+00],\n",
       "        ...,\n",
       "        [1.65948208e-04, 1.42857143e-01, 1.00000000e+00, ...,\n",
       "         1.00000000e+00, 0.00000000e+00, 0.00000000e+00],\n",
       "        [2.11261371e-04, 4.28571429e-01, 9.89473684e-01, ...,\n",
       "         5.27343750e-01, 7.81250000e-03, 1.00000000e+00],\n",
       "        [2.10961284e-04, 4.28571429e-01, 9.89473684e-01, ...,\n",
       "         5.27343750e-01, 7.81250000e-03, 1.00000000e+00]],\n",
       "\n",
       "       [[1.62947336e-04, 1.42857143e-01, 1.00000000e+00, ...,\n",
       "         1.00000000e+00, 0.00000000e+00, 0.00000000e+00],\n",
       "        [1.71349777e-04, 1.42857143e-01, 1.00000000e+00, ...,\n",
       "         1.00000000e+00, 0.00000000e+00, 0.00000000e+00],\n",
       "        [1.58145941e-04, 1.42857143e-01, 1.00000000e+00, ...,\n",
       "         1.00000000e+00, 0.00000000e+00, 0.00000000e+00],\n",
       "        ...,\n",
       "        [2.11261371e-04, 4.28571429e-01, 9.89473684e-01, ...,\n",
       "         5.27343750e-01, 7.81250000e-03, 1.00000000e+00],\n",
       "        [2.10961284e-04, 4.28571429e-01, 9.89473684e-01, ...,\n",
       "         5.27343750e-01, 7.81250000e-03, 1.00000000e+00],\n",
       "        [2.04959541e-04, 4.28571429e-01, 9.89473684e-01, ...,\n",
       "         5.27343750e-01, 7.81250000e-03, 1.00000000e+00]]])"
      ]
     },
     "execution_count": 21,
     "metadata": {},
     "output_type": "execute_result"
    }
   ],
   "source": [
    "benign_windows"
   ]
  },
  {
   "cell_type": "markdown",
   "metadata": {},
   "source": [
    "## Dividindo dados em Treino, Validação e Teste"
   ]
  },
  {
   "cell_type": "markdown",
   "metadata": {},
   "source": [
    "Quantidade de dados benignos dividido pelo total:"
   ]
  },
  {
   "cell_type": "code",
   "execution_count": null,
   "metadata": {},
   "outputs": [],
   "source": [
    "len(benign_windows) / (len(benign_windows) + len(malicious_random_dos_windows) + len(malicious_spoofing_zero_payload_windows) + len(malicious_zero_dos_windows))"
   ]
  },
  {
   "cell_type": "markdown",
   "metadata": {},
   "source": [
    "Concatenação das janelas, em ordem:"
   ]
  },
  {
   "cell_type": "code",
   "execution_count": null,
   "metadata": {},
   "outputs": [],
   "source": [
    "data = np.vstack((benign_windows, malicious_random_dos_windows, malicious_spoofing_zero_payload_windows, malicious_zero_dos_windows))"
   ]
  },
  {
   "cell_type": "code",
   "execution_count": 22,
   "metadata": {},
   "outputs": [],
   "source": [
    "data_malicious = np.vstack((malicious_random_dos_windows, malicious_spoofing_zero_payload_windows, malicious_zero_dos_windows))"
   ]
  },
  {
   "cell_type": "code",
   "execution_count": null,
   "metadata": {},
   "outputs": [],
   "source": [
    "data_labels = np.hstack((benign_labels, malicious_random_dos_labels, malicious_spoofing_zero_payload_labels, malicious_zero_dos_labels))"
   ]
  },
  {
   "cell_type": "code",
   "execution_count": 23,
   "metadata": {},
   "outputs": [],
   "source": [
    "data_malicious_labels = np.hstack((malicious_random_dos_labels, malicious_spoofing_zero_payload_labels, malicious_zero_dos_labels))"
   ]
  },
  {
   "cell_type": "code",
   "execution_count": 24,
   "metadata": {},
   "outputs": [],
   "source": [
    "del malicious_random_dos_windows\n",
    "del malicious_spoofing_zero_payload_windows\n",
    "del malicious_zero_dos_windows\n",
    "del malicious_random_dos_labels\n",
    "del malicious_spoofing_zero_payload_labels\n",
    "del malicious_zero_dos_labels\n",
    "del benign_labels"
   ]
  },
  {
   "cell_type": "markdown",
   "metadata": {},
   "source": [
    "### Divisão em treino, validação e teste."
   ]
  },
  {
   "cell_type": "markdown",
   "metadata": {},
   "source": [
    "#### Abordagem supervisionada:"
   ]
  },
  {
   "cell_type": "code",
   "execution_count": null,
   "metadata": {},
   "outputs": [],
   "source": [
    "train_data, val_test_data, train_labels, val_test_labels = train_test_split(data, data_labels, test_size=0.25, random_state=RANDOM_SEED)"
   ]
  },
  {
   "cell_type": "code",
   "execution_count": null,
   "metadata": {},
   "outputs": [],
   "source": [
    "val_data, test_data, val_labels, test_labels = train_test_split(val_test_data, val_test_labels, test_size=0.5, random_state=RANDOM_SEED)"
   ]
  },
  {
   "cell_type": "code",
   "execution_count": null,
   "metadata": {},
   "outputs": [],
   "source": [
    "del data, data_labels\n",
    "del val_test_data, val_test_labels"
   ]
  },
  {
   "cell_type": "markdown",
   "metadata": {},
   "source": [
    "#### Abordagem não-supervisionada:"
   ]
  },
  {
   "cell_type": "code",
   "execution_count": null,
   "metadata": {},
   "outputs": [],
   "source": [
    "train_data_2 = benign_windows[:int((len(benign_windows) // 1.05))]"
   ]
  },
  {
   "cell_type": "code",
   "execution_count": 26,
   "metadata": {},
   "outputs": [],
   "source": [
    "test_data_2 = np.vstack((data_malicious, benign_windows[int((len(benign_windows) // 1.05)):]))"
   ]
  },
  {
   "cell_type": "code",
   "execution_count": null,
   "metadata": {},
   "outputs": [],
   "source": [
    "malicious_proportion = len(data_malicious) / (len(data_malicious) + len(benign_windows[int((len(benign_windows) // 1.05)):]))\n",
    "malicious_proportion"
   ]
  },
  {
   "cell_type": "code",
   "execution_count": 55,
   "metadata": {},
   "outputs": [],
   "source": [
    "benign_labels = [1] * int(len(benign_windows) - (len(benign_windows) // 1.05))\n",
    "\n",
    "test_data_2_labels = np.hstack((data_malicious_labels, benign_labels))"
   ]
  },
  {
   "cell_type": "code",
   "execution_count": 57,
   "metadata": {},
   "outputs": [],
   "source": [
    "del data_malicious\n",
    "del benign_windows\n",
    "del benign_labels\n",
    "del data_malicious_labels"
   ]
  },
  {
   "cell_type": "markdown",
   "metadata": {},
   "source": [
    "### Shape dos dados de treino:"
   ]
  },
  {
   "cell_type": "code",
   "execution_count": null,
   "metadata": {},
   "outputs": [],
   "source": [
    "train_data.shape"
   ]
  },
  {
   "cell_type": "code",
   "execution_count": null,
   "metadata": {},
   "outputs": [],
   "source": [
    "train_data_2.shape"
   ]
  },
  {
   "cell_type": "markdown",
   "metadata": {},
   "source": [
    "# IAs"
   ]
  },
  {
   "cell_type": "markdown",
   "metadata": {},
   "source": [
    "## LSTM (supervisionado)"
   ]
  },
  {
   "cell_type": "markdown",
   "metadata": {},
   "source": [
    "Variável que define se é supervisionado ou não-supervisionado:"
   ]
  },
  {
   "cell_type": "code",
   "execution_count": null,
   "metadata": {},
   "outputs": [],
   "source": [
    "s_OR_ns = \"s\""
   ]
  },
  {
   "cell_type": "markdown",
   "metadata": {},
   "source": [
    "Quantidade de features, para o modelo lidar com as entradas:"
   ]
  },
  {
   "cell_type": "code",
   "execution_count": null,
   "metadata": {},
   "outputs": [],
   "source": [
    "FEATURES_COUNT = train_data.shape[2] # Número de features dos dados"
   ]
  },
  {
   "cell_type": "markdown",
   "metadata": {},
   "source": [
    "Construção do modelo LSTM:"
   ]
  },
  {
   "cell_type": "code",
   "execution_count": null,
   "metadata": {},
   "outputs": [],
   "source": [
    "# Construindo o modelo LSTM\n",
    "model = Sequential()\n",
    "model.add(LSTM(50, activation='tanh', input_shape=(WINDOW_SIZE, FEATURES_COUNT)))\n",
    "model.add(Dropout(0.1))\n",
    "model.add(BatchNormalization())\n",
    "model.add(Dense(1, kernel_regularizer=l2(0.0000001)))\n",
    "\n",
    "# Compilando o modelo\n",
    "model.compile(optimizer=Adam(learning_rate=0.004), loss='mse')\n",
    "#model.compile(optimizer=\"adam\", loss='mse')"
   ]
  },
  {
   "cell_type": "markdown",
   "metadata": {},
   "source": [
    "Definição da paciência:"
   ]
  },
  {
   "cell_type": "code",
   "execution_count": null,
   "metadata": {},
   "outputs": [],
   "source": [
    "PATIENCE = 4"
   ]
  },
  {
   "cell_type": "markdown",
   "metadata": {},
   "source": [
    "Configuração do early stop:"
   ]
  },
  {
   "cell_type": "code",
   "execution_count": null,
   "metadata": {},
   "outputs": [],
   "source": [
    "early_stopping = EarlyStopping(monitor='val_loss', patience=PATIENCE, restore_best_weights=True)"
   ]
  },
  {
   "cell_type": "markdown",
   "metadata": {},
   "source": [
    "Definição da quantidade de épocas e da quantidade de batchs:"
   ]
  },
  {
   "cell_type": "code",
   "execution_count": null,
   "metadata": {},
   "outputs": [],
   "source": [
    "EPOCHS = 50\n",
    "BATCH_SIZE = 32 #padrão: batch_size=32"
   ]
  },
  {
   "cell_type": "markdown",
   "metadata": {},
   "source": [
    "**TREINAMENTO DO MODELO:**"
   ]
  },
  {
   "cell_type": "code",
   "execution_count": null,
   "metadata": {},
   "outputs": [],
   "source": [
    "# Treinando o modelo\n",
    "history = model.fit(train_data, train_labels, epochs=EPOCHS, batch_size=BATCH_SIZE, validation_data=(val_data, val_labels), callbacks=[early_stopping])"
   ]
  },
  {
   "cell_type": "code",
   "execution_count": null,
   "metadata": {},
   "outputs": [],
   "source": [
    "del train_data, train_labels\n",
    "del val_data, val_labels"
   ]
  },
  {
   "cell_type": "code",
   "execution_count": null,
   "metadata": {},
   "outputs": [],
   "source": [
    "# Avaliando o modelo no conjunto de teste\n",
    "loss = model.evaluate(test_data, test_labels)\n",
    "print(\"Test Loss:\", loss)"
   ]
  },
  {
   "cell_type": "code",
   "execution_count": null,
   "metadata": {},
   "outputs": [],
   "source": [
    "predicts = model.predict(test_data)\n",
    "predicts"
   ]
  },
  {
   "cell_type": "markdown",
   "metadata": {},
   "source": [
    "Transformando as predições em uma numpy array unidimensional:"
   ]
  },
  {
   "cell_type": "code",
   "execution_count": null,
   "metadata": {},
   "outputs": [],
   "source": [
    "predicts_1d = np.array([predict[0] for predict in predicts])\n",
    "predicts_1d"
   ]
  },
  {
   "cell_type": "code",
   "execution_count": null,
   "metadata": {},
   "outputs": [],
   "source": [
    "def plot_precision_recall_curve(y_true, y_score):\n",
    "    precision, recall, _ = precision_recall_curve(y_true, y_score)\n",
    "    plt.plot(recall, precision, marker='.')\n",
    "    plt.xlabel('Recall')\n",
    "    plt.ylabel('Precision')\n",
    "    plt.title('Precision-Recall Curve')\n",
    "    plt.show()"
   ]
  },
  {
   "cell_type": "code",
   "execution_count": null,
   "metadata": {},
   "outputs": [],
   "source": [
    "plot_precision_recall_curve(test_labels, predicts_1d)"
   ]
  },
  {
   "cell_type": "code",
   "execution_count": null,
   "metadata": {},
   "outputs": [],
   "source": [
    "def plot_roc_curve(y_true, y_score, max_fpr=1.0):\n",
    "  fpr, tpr, thresholds = roc_curve(y_true, y_score)\n",
    "  aucroc = roc_auc_score(y_true, y_score)\n",
    "  plt.plot(100*fpr[fpr < max_fpr], 100*tpr[fpr < max_fpr], label=f'ROC Curve (AUC = {aucroc:.4f})')\n",
    "  plt.xlim(-2,102)\n",
    "  plt.xlabel('FPR (%)')\n",
    "  plt.ylabel('TPR (%)')\n",
    "  plt.legend()\n",
    "  plt.title('ROC Curve and AUCROC')"
   ]
  },
  {
   "cell_type": "code",
   "execution_count": null,
   "metadata": {},
   "outputs": [],
   "source": [
    "plot_roc_curve(test_labels, predicts_1d)"
   ]
  },
  {
   "cell_type": "markdown",
   "metadata": {},
   "source": [
    "Transformando todos os valores de predições acima de 0 em 1, enquanto os outros recebem a função round(), ou seja, serão arredondados pro número inteiro mais próximo. Após isso, os números que forem iguais a 0, serão transformados em -1. É como se todo mundo igual ou menor que 0, fosse malicioso, mas 0 não é um valor malicioso de label, é mais como se fosse um threshold, então nada deve ser igual a 0. Esse problema é minimizado em classificações binárias."
   ]
  },
  {
   "cell_type": "code",
   "execution_count": null,
   "metadata": {},
   "outputs": [],
   "source": [
    "predicts_1d = np.where(predicts_1d > 0, 1, np.round(predicts_1d))\n",
    "predicts_1d = np.where(predicts_1d == 0, -1, predicts_1d)\n",
    "predicts_1d"
   ]
  },
  {
   "cell_type": "code",
   "execution_count": null,
   "metadata": {},
   "outputs": [],
   "source": [
    "def plot_confusion_matrix(y_true, y_pred):\n",
    "  cm = confusion_matrix(y_true, y_pred)\n",
    "  group_counts = [f'{value:.0f}' for value in confusion_matrix(y_true, y_pred).ravel()]\n",
    "  group_percentages = [f'{value*100:.2f}%' for value in confusion_matrix(y_true, y_pred).ravel()/np.sum(cm)]\n",
    "  labels = [f'{v1}\\n{v2}' for v1, v2 in zip(group_counts, group_percentages)]\n",
    "  labels = np.array(labels).reshape(2,2)\n",
    "  sns.heatmap(cm, annot=labels, cmap='Oranges', xticklabels=['Predicted Benign', 'Predicted Malicious'], yticklabels=['Actual Benign', 'Actual Malicious'], fmt='')\n",
    "  return"
   ]
  },
  {
   "cell_type": "code",
   "execution_count": null,
   "metadata": {},
   "outputs": [],
   "source": [
    "plot_confusion_matrix(test_labels, predicts_1d)"
   ]
  },
  {
   "cell_type": "code",
   "execution_count": null,
   "metadata": {},
   "outputs": [],
   "source": [
    "def get_overall_metrics(y_true, y_pred):\n",
    "  tn, fp, fn, tp = confusion_matrix(y_true, y_pred).ravel()\n",
    "  acc = (tp+tn)/(tp+tn+fp+fn)\n",
    "  tpr = tp/(tp+fn)\n",
    "  fpr = fp/(fp+tn)\n",
    "  precision = tp/(tp+fp)\n",
    "  f1 = (2*tpr*precision)/(tpr+precision)\n",
    "  return {'acc':acc,'tpr':tpr,'fpr':fpr,'precision':precision,'f1-score':f1}"
   ]
  },
  {
   "cell_type": "code",
   "execution_count": null,
   "metadata": {},
   "outputs": [],
   "source": [
    "get_overall_metrics(test_labels, predicts_1d)"
   ]
  },
  {
   "cell_type": "code",
   "execution_count": null,
   "metadata": {},
   "outputs": [],
   "source": [
    "del test_data, test_labels"
   ]
  },
  {
   "cell_type": "markdown",
   "metadata": {},
   "source": [
    "Salvando modelo com diferentes bibliotecas:"
   ]
  },
  {
   "cell_type": "code",
   "execution_count": null,
   "metadata": {},
   "outputs": [],
   "source": [
    "model.save(f'models/model_LSTM_{s_OR_ns}_{classifier_type}_ws{WINDOW_SIZE}.keras')"
   ]
  },
  {
   "cell_type": "code",
   "execution_count": null,
   "metadata": {},
   "outputs": [],
   "source": [
    "with open(f'models/model_LSTM_{s_OR_ns}_{classifier_type}_ws{WINDOW_SIZE}.pkl', 'wb') as arquivo:\n",
    "    pickle.dump(model, arquivo)"
   ]
  },
  {
   "cell_type": "code",
   "execution_count": null,
   "metadata": {},
   "outputs": [],
   "source": [
    "dump(model, f\"models/model_LSTM_{s_OR_ns}_{classifier_type}_ws{WINDOW_SIZE}.joblib\")"
   ]
  },
  {
   "cell_type": "code",
   "execution_count": null,
   "metadata": {},
   "outputs": [],
   "source": [
    "dump(scaler, f\"models/scalers/scaler_model_LSTM_{s_OR_ns}_{classifier_type}_ws{WINDOW_SIZE}\")"
   ]
  },
  {
   "cell_type": "code",
   "execution_count": null,
   "metadata": {},
   "outputs": [],
   "source": [
    "del history\n",
    "del loss\n",
    "del predicts\n",
    "del predicts_1d"
   ]
  },
  {
   "cell_type": "markdown",
   "metadata": {},
   "source": [
    "## LSTM (não-supervisionado)"
   ]
  },
  {
   "cell_type": "code",
   "execution_count": 58,
   "metadata": {},
   "outputs": [],
   "source": [
    "s_OR_ns = \"ns\"\n",
    "classifier_type = \"bc\""
   ]
  },
  {
   "cell_type": "code",
   "execution_count": null,
   "metadata": {},
   "outputs": [],
   "source": [
    "FEATURES_COUNT = train_data_2.shape[2]"
   ]
  },
  {
   "cell_type": "code",
   "execution_count": null,
   "metadata": {},
   "outputs": [],
   "source": [
    "# Construindo o modelo Autoencoder LSTM\n",
    "inputs = Input(shape=(WINDOW_SIZE, FEATURES_COUNT))\n",
    "encoded = LSTM(50, activation='tanh', return_sequences=False)(inputs)  # Codificador\n",
    "decoded = RepeatVector(WINDOW_SIZE)(encoded)  # Decodificador\n",
    "decoded = LSTM(FEATURES_COUNT, return_sequences=True)(decoded)\n",
    "\n",
    "# Adicionando Dropout e Normalização em Batch\n",
    "decoded = Dropout(0.1)(decoded)\n",
    "decoded = BatchNormalization()(decoded)\n",
    "\n",
    "# Camada de saída\n",
    "outputs = Dense(FEATURES_COUNT, kernel_regularizer=l2(0.0000001))(decoded)\n",
    "\n",
    "# Compilando o modelo\n",
    "model = Model(inputs, outputs)\n",
    "model.compile(optimizer=Adam(learning_rate=0.004), loss='mse')"
   ]
  },
  {
   "cell_type": "code",
   "execution_count": null,
   "metadata": {},
   "outputs": [],
   "source": [
    "PATIENCE = 4"
   ]
  },
  {
   "cell_type": "code",
   "execution_count": null,
   "metadata": {},
   "outputs": [],
   "source": [
    "early_stopping = EarlyStopping(monitor='val_loss', patience=PATIENCE, restore_best_weights=True)"
   ]
  },
  {
   "cell_type": "code",
   "execution_count": null,
   "metadata": {},
   "outputs": [],
   "source": [
    "EPOCHS = 50\n",
    "BATCH_SIZE = 32#padrão: batch_size=32"
   ]
  },
  {
   "cell_type": "markdown",
   "metadata": {},
   "source": [
    "**TREINAMENTO DO MODELO:**"
   ]
  },
  {
   "cell_type": "code",
   "execution_count": null,
   "metadata": {},
   "outputs": [],
   "source": [
    "history = model.fit(train_data_2, train_data_2, epochs=EPOCHS, batch_size=BATCH_SIZE, validation_split=0.2, callbacks=[early_stopping])"
   ]
  },
  {
   "cell_type": "code",
   "execution_count": null,
   "metadata": {},
   "outputs": [],
   "source": [
    "del train_data_2"
   ]
  },
  {
   "cell_type": "code",
   "execution_count": 59,
   "metadata": {},
   "outputs": [
    {
     "name": "stderr",
     "output_type": "stream",
     "text": [
      "<>:3: SyntaxWarning: invalid escape sequence '\\m'\n",
      "<>:3: SyntaxWarning: invalid escape sequence '\\m'\n",
      "C:\\Users\\henri\\AppData\\Local\\Temp\\ipykernel_41600\\2791679937.py:3: SyntaxWarning: invalid escape sequence '\\m'\n",
      "  model = load_model(\"models\\model_LSTM_ns_bc_ws150_tX.keras\")\n"
     ]
    }
   ],
   "source": [
    "from keras.models import load_model\n",
    "\n",
    "model = load_model(\"models\\model_LSTM_ns_bc_ws150_tX.keras\")"
   ]
  },
  {
   "cell_type": "code",
   "execution_count": 60,
   "metadata": {},
   "outputs": [
    {
     "name": "stdout",
     "output_type": "stream",
     "text": [
      "\u001b[1m48119/48119\u001b[0m \u001b[32m━━━━━━━━━━━━━━━━━━━━\u001b[0m\u001b[37m\u001b[0m \u001b[1m495s\u001b[0m 10ms/step\n"
     ]
    },
    {
     "data": {
      "text/plain": [
       "array([[[5.90628304e-04, 1.50434390e-01, 9.27782714e-01, ...,\n",
       "         1.31968826e-01, 5.61843887e-02, 1.55984402e-01],\n",
       "        [5.13666368e-04, 1.45465046e-01, 9.23169434e-01, ...,\n",
       "         1.33518860e-01, 6.32943213e-02, 1.50651649e-01],\n",
       "        [5.84012771e-04, 1.53445005e-01, 9.28535998e-01, ...,\n",
       "         1.17618948e-01, 3.47976759e-02, 1.62395433e-01],\n",
       "        ...,\n",
       "        [5.16742235e-04, 1.45863742e-01, 9.23590422e-01, ...,\n",
       "         1.34396687e-01, 6.47550672e-02, 1.50414571e-01],\n",
       "        [5.97250531e-04, 1.55171916e-01, 9.29720759e-01, ...,\n",
       "         1.20352745e-01, 3.66742089e-02, 1.64031416e-01],\n",
       "        [5.16742235e-04, 1.45863742e-01, 9.23590422e-01, ...,\n",
       "         1.34396687e-01, 6.47550672e-02, 1.50414571e-01]],\n",
       "\n",
       "       [[6.03202323e-04, 1.51705578e-01, 9.28880751e-01, ...,\n",
       "         1.33786842e-01, 5.86598702e-02, 1.56007975e-01],\n",
       "        [5.14083367e-04, 1.45655766e-01, 9.23188508e-01, ...,\n",
       "         1.32683381e-01, 6.18058443e-02, 1.51207820e-01],\n",
       "        [5.87164366e-04, 1.54004753e-01, 9.28909004e-01, ...,\n",
       "         1.16589524e-01, 3.34473364e-02, 1.62802696e-01],\n",
       "        ...,\n",
       "        [5.18991845e-04, 1.46314144e-01, 9.23815906e-01, ...,\n",
       "         1.34054124e-01, 6.37845993e-02, 1.51104480e-01],\n",
       "        [6.10068848e-04, 1.57157093e-01, 9.31016505e-01, ...,\n",
       "         1.20809585e-01, 3.58605385e-02, 1.65950462e-01],\n",
       "        [5.18991845e-04, 1.46314144e-01, 9.23815906e-01, ...,\n",
       "         1.34054124e-01, 6.37845993e-02, 1.51104480e-01]],\n",
       "\n",
       "       [[6.03388646e-04, 1.52142525e-01, 9.29018378e-01, ...,\n",
       "         1.32988229e-01, 5.68642728e-02, 1.57016054e-01],\n",
       "        [5.14241750e-04, 1.45724192e-01, 9.23222840e-01, ...,\n",
       "         1.32501975e-01, 6.15644678e-02, 1.51275158e-01],\n",
       "        [5.87896153e-04, 1.54294714e-01, 9.29042876e-01, ...,\n",
       "         1.16154365e-01, 3.26160230e-02, 1.63240433e-01],\n",
       "        ...,\n",
       "        [5.19150344e-04, 1.46381095e-01, 9.23846543e-01, ...,\n",
       "         1.33888036e-01, 6.35432154e-02, 1.51185080e-01],\n",
       "        [6.09994575e-04, 1.57360956e-01, 9.31082606e-01, ...,\n",
       "         1.20184183e-01, 3.48326936e-02, 1.66346565e-01],\n",
       "        [5.19150344e-04, 1.46381095e-01, 9.23846543e-01, ...,\n",
       "         1.33888036e-01, 6.35432154e-02, 1.51185080e-01]],\n",
       "\n",
       "       ...,\n",
       "\n",
       "       [[5.80713444e-04, 1.48318350e-01, 9.26032007e-01, ...,\n",
       "         1.44773602e-01, 6.59682602e-02, 1.58868879e-01],\n",
       "        [5.11641498e-04, 1.43688679e-01, 9.22376037e-01, ...,\n",
       "         1.41841307e-01, 7.36159831e-02, 1.48835123e-01],\n",
       "        [5.72722754e-04, 1.46484017e-01, 9.24897075e-01, ...,\n",
       "         1.47726238e-01, 6.92768916e-02, 1.58019036e-01],\n",
       "        ...,\n",
       "        [5.13234932e-04, 1.43498167e-01, 9.22184587e-01, ...,\n",
       "         1.45132095e-01, 7.63274729e-02, 1.49483576e-01],\n",
       "        [5.69543219e-04, 1.44045249e-01, 9.23687518e-01, ...,\n",
       "         1.58579558e-01, 8.21632221e-02, 1.56071335e-01],\n",
       "        [5.13234932e-04, 1.43498167e-01, 9.22184587e-01, ...,\n",
       "         1.45132095e-01, 7.63274729e-02, 1.49483576e-01]],\n",
       "\n",
       "       [[5.79197716e-04, 1.48583993e-01, 9.26099539e-01, ...,\n",
       "         1.41962126e-01, 6.27252162e-02, 1.59145683e-01],\n",
       "        [5.11716935e-04, 1.43837780e-01, 9.22447562e-01, ...,\n",
       "         1.40981033e-01, 7.26282746e-02, 1.48942217e-01],\n",
       "        [5.72875841e-04, 1.47144258e-01, 9.25197303e-01, ...,\n",
       "         1.44243836e-01, 6.51741996e-02, 1.58571780e-01],\n",
       "        ...,\n",
       "        [5.13604435e-04, 1.43553883e-01, 9.22203898e-01, ...,\n",
       "         1.45092562e-01, 7.61455819e-02, 1.49622217e-01],\n",
       "        [5.70292235e-04, 1.44489631e-01, 9.23899770e-01, ...,\n",
       "         1.57061875e-01, 8.02171677e-02, 1.56519711e-01],\n",
       "        [5.13604435e-04, 1.43553883e-01, 9.22203898e-01, ...,\n",
       "         1.45092562e-01, 7.61455819e-02, 1.49622217e-01]],\n",
       "\n",
       "       [[5.78337116e-04, 1.48475572e-01, 9.26028013e-01, ...,\n",
       "         1.41600981e-01, 6.24219030e-02, 1.59021527e-01],\n",
       "        [5.11881837e-04, 1.43857941e-01, 9.22452986e-01, ...,\n",
       "         1.41015619e-01, 7.25939572e-02, 1.49009749e-01],\n",
       "        [5.72908553e-04, 1.47095069e-01, 9.25179422e-01, ...,\n",
       "         1.44308940e-01, 6.52494133e-02, 1.58540636e-01],\n",
       "        ...,\n",
       "        [5.13957464e-04, 1.43567115e-01, 9.22197640e-01, ...,\n",
       "         1.45425320e-01, 7.63489455e-02, 1.49759993e-01],\n",
       "        [5.70811215e-04, 1.44359484e-01, 9.23857331e-01, ...,\n",
       "         1.58106133e-01, 8.13436136e-02, 1.56465814e-01],\n",
       "        [5.13957464e-04, 1.43567115e-01, 9.22197640e-01, ...,\n",
       "         1.45425320e-01, 7.63489529e-02, 1.49759993e-01]]], dtype=float32)"
      ]
     },
     "execution_count": 60,
     "metadata": {},
     "output_type": "execute_result"
    }
   ],
   "source": [
    "predicts = model.predict(test_data_2)\n",
    "predicts"
   ]
  },
  {
   "cell_type": "code",
   "execution_count": 61,
   "metadata": {},
   "outputs": [],
   "source": [
    "def mean_square_error(original_data, predicted_data, threshold=0.5):\n",
    "    \"\"\"\n",
    "    Função para classificar as amostras como benignas (1) ou malignas (-1) com base no erro de reconstrução.\n",
    "\n",
    "    Parâmetros:\n",
    "        original_data (numpy.array): Os dados originais.\n",
    "        predicted_data (numpy.array): As previsões geradas pelo modelo autoencoder.\n",
    "        threshold (float): O limiar de decisão para classificar as amostras.\n",
    "\n",
    "    Retorna:\n",
    "        numpy.array: Um array de classificação binária para cada amostra.\n",
    "    \"\"\"\n",
    "    # Calcula o erro de reconstrução (MSE) para cada amostra\n",
    "    reconstruction_errors = np.mean(np.square(original_data - predicted_data), axis=(1, 2))\n",
    "\n",
    "    # Classifica as amostras com base no limiar\n",
    "    classifications = np.where(reconstruction_errors < threshold, 1, -1)\n",
    "\n",
    "    #del reconstruction_errors\n",
    "\n",
    "    return classifications, reconstruction_errors"
   ]
  },
  {
   "cell_type": "code",
   "execution_count": 62,
   "metadata": {},
   "outputs": [],
   "source": [
    "def mean_absolute_error(original_data, reconstructed_data, threshold=0.5):\n",
    "    \n",
    "    \"\"\"\n",
    "    Calcula o Erro Absoluto Médio (MAE) entre os dados originais e reconstruídos.\n",
    "\n",
    "    Args:\n",
    "    - original_data: array NumPy contendo os dados originais.\n",
    "    - reconstructed_data: array NumPy contendo os dados reconstruídos pelo modelo.\n",
    "\n",
    "    Returns:\n",
    "    - mae: o Erro Absoluto Médio entre os dados originais e reconstruídos.\n",
    "    \"\"\"\n",
    "\n",
    "\n",
    "    # Calcula a diferença absoluta entre os dados originais e reconstruídos\n",
    "    # Calcula o MAE como a média da diferença absoluta\n",
    "    mae = np.mean((np.abs(original_data - reconstructed_data)), axis=(1, 2))\n",
    "\n",
    "    classifications = np.where(mae < threshold, 1, -1)\n",
    "\n",
    "    del mae\n",
    "\n",
    "    return classifications"
   ]
  },
  {
   "cell_type": "code",
   "execution_count": 63,
   "metadata": {},
   "outputs": [],
   "source": [
    "def find_best_threshold_mse(original_data, predicted_data, proportion, threshold=0.5):\n",
    "\n",
    "    reconstruction_errors = np.mean(np.square(original_data - predicted_data), axis=(1, 2))\n",
    "\n",
    "    classifications = np.where(reconstruction_errors < threshold, 1, -1)\n",
    "\n",
    "    del reconstruction_errors\n",
    "\n",
    "    proportion_predicted = len(classifications[classifications == -1]) / len(classifications)\n",
    "\n",
    "    del classifications\n",
    "\n",
    "    print(f\"Threshold: {threshold}, Proportion_predicted: {proportion_predicted}\")\n",
    "\n",
    "    if proportion_predicted < proportion:\n",
    "        del proportion_predicted\n",
    "        return find_best_threshold_mse(original_data, predicted_data, proportion, 0.9*threshold)\n",
    "    elif proportion_predicted > proportion:\n",
    "        del proportion_predicted\n",
    "        return find_best_threshold_mse(original_data, predicted_data, proportion, 1.1*threshold)\n",
    "    else:\n",
    "        del proportion_predicted\n",
    "        return threshold"
   ]
  },
  {
   "cell_type": "code",
   "execution_count": 64,
   "metadata": {},
   "outputs": [],
   "source": [
    "def find_best_threshold(y_true, y_scores):\n",
    "    \"\"\"\n",
    "    Encontra o melhor threshold baseado na proporção correta entre dados malignos e benignos.\n",
    "\n",
    "    Parameters:\n",
    "    y_true (np.array): Array de valores verdadeiros (-1 para benigno, 1 para maligno)\n",
    "    y_scores (np.array): Array de scores preditos pelo modelo\n",
    "\n",
    "    Returns:\n",
    "    float: Melhor threshold encontrado\n",
    "    \"\"\"\n",
    "    \n",
    "    # Certificar que os inputs são arrays numpy\n",
    "    y_true = np.array(y_true)\n",
    "    y_scores = np.array(y_scores)\n",
    "    \n",
    "    # Ordenar os scores e calcular possíveis thresholds\n",
    "    thresholds = np.sort(y_scores)\n",
    "    \n",
    "    # Inicializar variáveis para acompanhar o melhor threshold e melhor acurácia ponderada\n",
    "    best_threshold = None\n",
    "    best_weighted_accuracy = -np.inf\n",
    "    \n",
    "    # Calcular proporção dos dados malignos e benignos\n",
    "    prop_malignos = np.sum(y_true == 1) / len(y_true)\n",
    "    prop_benignos = np.sum(y_true == -1) / len(y_true)\n",
    "    \n",
    "    for threshold in tqdm(thresholds):\n",
    "        # Calcular predições baseadas no threshold atual\n",
    "        y_pred = np.where(y_scores >= threshold, 1, -1)\n",
    "        \n",
    "        # Calcular acurácia ponderada\n",
    "        accuracy_malignos = np.sum((y_true == 1) & (y_pred == 1)) / np.sum(y_true == 1)\n",
    "        accuracy_benignos = np.sum((y_true == -1) & (y_pred == -1)) / np.sum(y_true == -1)\n",
    "        \n",
    "        weighted_accuracy = prop_malignos * accuracy_malignos + prop_benignos * accuracy_benignos\n",
    "        \n",
    "        # Atualizar melhor threshold se a acurácia ponderada atual for melhor\n",
    "        if weighted_accuracy > best_weighted_accuracy:\n",
    "            best_weighted_accuracy = weighted_accuracy\n",
    "            best_threshold = threshold\n",
    "    \n",
    "    return best_threshold"
   ]
  },
  {
   "cell_type": "code",
   "execution_count": 65,
   "metadata": {},
   "outputs": [],
   "source": [
    "classifications_mse, reconstruction_errors = mean_square_error(test_data_2, predicts)"
   ]
  },
  {
   "cell_type": "code",
   "execution_count": 66,
   "metadata": {},
   "outputs": [
    {
     "name": "stderr",
     "output_type": "stream",
     "text": [
      "100%|██████████| 1539794/1539794 [2:56:42<00:00, 145.23it/s]  \n"
     ]
    }
   ],
   "source": [
    "#THRESHOLD = find_best_threshold_mse(test_data_2, predicts, malicious_proportion, 0.04415)\n",
    "THRESHOLD = find_best_threshold(test_data_2_labels, reconstruction_errors)"
   ]
  },
  {
   "cell_type": "markdown",
   "metadata": {},
   "source": [
    "6451"
   ]
  },
  {
   "cell_type": "code",
   "execution_count": 83,
   "metadata": {},
   "outputs": [
    {
     "data": {
      "text/plain": [
       "array([1.21189877, 1.21080016, 1.19135854, ..., 0.11128967, 0.11210935,\n",
       "       0.11195218])"
      ]
     },
     "execution_count": 83,
     "metadata": {},
     "output_type": "execute_result"
    }
   ],
   "source": [
    "reconstruction_errors"
   ]
  },
  {
   "cell_type": "code",
   "execution_count": 82,
   "metadata": {},
   "outputs": [
    {
     "name": "stdout",
     "output_type": "stream",
     "text": [
      "6541.580257623417\n"
     ]
    }
   ],
   "source": [
    "print(THRESHOLD)"
   ]
  },
  {
   "cell_type": "code",
   "execution_count": 67,
   "metadata": {},
   "outputs": [],
   "source": [
    "classifications_mse, reconstruction_errors = mean_square_error(test_data_2, predicts, THRESHOLD)"
   ]
  },
  {
   "cell_type": "code",
   "execution_count": 68,
   "metadata": {},
   "outputs": [
    {
     "ename": "NameError",
     "evalue": "name 'malicious_proportion' is not defined",
     "output_type": "error",
     "traceback": [
      "\u001b[1;31m---------------------------------------------------------------------------\u001b[0m",
      "\u001b[1;31mNameError\u001b[0m                                 Traceback (most recent call last)",
      "Cell \u001b[1;32mIn[68], line 1\u001b[0m\n\u001b[1;32m----> 1\u001b[0m \u001b[38;5;28mlen\u001b[39m(classifications_mse[classifications_mse \u001b[38;5;241m==\u001b[39m \u001b[38;5;241m-\u001b[39m\u001b[38;5;241m1\u001b[39m]) \u001b[38;5;241m/\u001b[39m \u001b[38;5;28mlen\u001b[39m(classifications_mse), \u001b[43mmalicious_proportion\u001b[49m\n",
      "\u001b[1;31mNameError\u001b[0m: name 'malicious_proportion' is not defined"
     ]
    }
   ],
   "source": [
    "len(classifications_mse[classifications_mse == -1]) / len(classifications_mse), malicious_proportion"
   ]
  },
  {
   "cell_type": "code",
   "execution_count": 73,
   "metadata": {},
   "outputs": [
    {
     "data": {
      "text/plain": [
       "array([1, 1, 1, ..., 1, 1, 1])"
      ]
     },
     "execution_count": 73,
     "metadata": {},
     "output_type": "execute_result"
    }
   ],
   "source": [
    "reconstruction_errors_rounded = np.where(reconstruction_errors > THRESHOLD, -1, 1)\n",
    "reconstruction_errors_rounded"
   ]
  },
  {
   "cell_type": "code",
   "execution_count": 74,
   "metadata": {},
   "outputs": [],
   "source": [
    "def plot_roc_curve(y_true, y_score, max_fpr=1.0):\n",
    "  fpr, tpr, thresholds = roc_curve(y_true, y_score)\n",
    "  aucroc = roc_auc_score(y_true, y_score)\n",
    "  plt.plot(100*fpr[fpr < max_fpr], 100*tpr[fpr < max_fpr], label=f'ROC Curve (AUC = {aucroc:.4f})')\n",
    "  plt.xlim(-2,102)\n",
    "  plt.xlabel('FPR (%)')\n",
    "  plt.ylabel('TPR (%)')\n",
    "  plt.legend()\n",
    "  plt.title('ROC Curve and AUCROC')"
   ]
  },
  {
   "cell_type": "code",
   "execution_count": 75,
   "metadata": {},
   "outputs": [
    {
     "data": {
      "image/png": "[encoded data removed]",
      "text/plain": [
       "<Figure size 640x480 with 1 Axes>"
      ]
     },
     "metadata": {},
     "output_type": "display_data"
    }
   ],
   "source": [
    "plot_roc_curve(test_data_2_labels, 1/reconstruction_errors)"
   ]
  },
  {
   "cell_type": "code",
   "execution_count": 76,
   "metadata": {},
   "outputs": [],
   "source": [
    "def plot_precision_recall_curve(y_true, y_score):\n",
    "    precision, recall, _ = precision_recall_curve(y_true, y_score)\n",
    "    plt.plot(recall, precision, marker='.')\n",
    "    plt.xlabel('Recall')\n",
    "    plt.ylabel('Precision')\n",
    "    plt.title('Precision-Recall Curve')\n",
    "    plt.show()"
   ]
  },
  {
   "cell_type": "code",
   "execution_count": 77,
   "metadata": {},
   "outputs": [
    {
     "data": {
      "image/png": "[encoded data removed]",
      "text/plain": [
       "<Figure size 640x480 with 1 Axes>"
      ]
     },
     "metadata": {},
     "output_type": "display_data"
    }
   ],
   "source": [
    "plot_precision_recall_curve(test_data_2_labels, 1/reconstruction_errors)"
   ]
  },
  {
   "cell_type": "code",
   "execution_count": 78,
   "metadata": {},
   "outputs": [],
   "source": [
    "def plot_confusion_matrix(y_true, y_pred):\n",
    "  cm = confusion_matrix(y_true, y_pred)\n",
    "  group_counts = [f'{value:.0f}' for value in confusion_matrix(y_true, y_pred).ravel()]\n",
    "  group_percentages = [f'{value*100:.2f}%' for value in confusion_matrix(y_true, y_pred).ravel()/np.sum(cm)]\n",
    "  labels = [f'{v1}\\n{v2}' for v1, v2 in zip(group_counts, group_percentages)]\n",
    "  labels = np.array(labels).reshape(2,2)\n",
    "  sns.heatmap(cm, annot=labels, cmap='Oranges', xticklabels=['Predicted Benign', 'Predicted Malicious'], yticklabels=['Actual Benign', 'Actual Malicious'], fmt='')\n",
    "  return"
   ]
  },
  {
   "cell_type": "code",
   "execution_count": 79,
   "metadata": {},
   "outputs": [
    {
     "data": {
      "image/png": "[encoded data removed]",
      "text/plain": [
       "<Figure size 640x480 with 2 Axes>"
      ]
     },
     "metadata": {},
     "output_type": "display_data"
    }
   ],
   "source": [
    "plot_confusion_matrix(test_data_2_labels, reconstruction_errors_rounded)"
   ]
  },
  {
   "cell_type": "code",
   "execution_count": 80,
   "metadata": {},
   "outputs": [],
   "source": [
    "def get_overall_metrics(y_true, y_pred):\n",
    "  tn, fp, fn, tp = confusion_matrix(y_true, y_pred).ravel()\n",
    "  acc = (tp+tn)/(tp+tn+fp+fn)\n",
    "  tpr = tp/(tp+fn)\n",
    "  fpr = fp/(fp+tn)\n",
    "  precision = tp/(tp+fp)\n",
    "  f1 = (2*tpr*precision)/(tpr+precision)\n",
    "  return {'acc':acc,'tpr':tpr,'fpr':fpr,'precision':precision,'f1-score':f1}"
   ]
  },
  {
   "cell_type": "code",
   "execution_count": 81,
   "metadata": {},
   "outputs": [
    {
     "data": {
      "text/plain": [
       "{'acc': 0.1118578199421481,\n",
       " 'tpr': 1.0,\n",
       " 'fpr': 1.0,\n",
       " 'precision': 0.1118578199421481,\n",
       " 'f1-score': 0.20120885590923535}"
      ]
     },
     "execution_count": 81,
     "metadata": {},
     "output_type": "execute_result"
    }
   ],
   "source": [
    "get_overall_metrics(test_data_2_labels, reconstruction_errors_rounded)"
   ]
  },
  {
   "cell_type": "markdown",
   "metadata": {},
   "source": [
    "Salvando modelo com diferentes bibliotecas:"
   ]
  },
  {
   "cell_type": "code",
   "execution_count": null,
   "metadata": {},
   "outputs": [],
   "source": [
    "THRESHOLD = str(THRESHOLD).replace(\".\",\",\")"
   ]
  },
  {
   "cell_type": "code",
   "execution_count": null,
   "metadata": {},
   "outputs": [],
   "source": [
    "model.save(f'models/model_LSTM_{s_OR_ns}_{classifier_type}_ws{WINDOW_SIZE}_t{THRESHOLD}.keras')"
   ]
  },
  {
   "cell_type": "code",
   "execution_count": null,
   "metadata": {},
   "outputs": [],
   "source": [
    "with open(f'models/model_LSTM_{s_OR_ns}_{classifier_type}_ws{WINDOW_SIZE}_t{THRESHOLD}.pkl', 'wb') as arquivo:\n",
    "    pickle.dump(model, arquivo)"
   ]
  },
  {
   "cell_type": "code",
   "execution_count": null,
   "metadata": {},
   "outputs": [],
   "source": [
    "dump(model, f\"models/model_LSTM_{s_OR_ns}_{classifier_type}_ws{WINDOW_SIZE}_t{THRESHOLD}.joblib\")"
   ]
  },
  {
   "cell_type": "code",
   "execution_count": null,
   "metadata": {},
   "outputs": [],
   "source": [
    "dump(scaler, f\"models/scalers/scaler_model_LSTM_{s_OR_ns}_{classifier_type}_ws{WINDOW_SIZE}_t{THRESHOLD}\")"
   ]
  },
  {
   "cell_type": "markdown",
   "metadata": {},
   "source": [
    "# Extras"
   ]
  },
  {
   "cell_type": "code",
   "execution_count": null,
   "metadata": {},
   "outputs": [],
   "source": [
    "import sys\n",
    "import pandas as pd\n",
    "\n",
    "# Função para obter o tamanho das variáveis\n",
    "def get_memory_usage():\n",
    "    var_memory = [(var, sys.getsizeof(globals()[var])) for var in globals() if not var.startswith(\"_\") and not callable(globals()[var])]\n",
    "    return pd.DataFrame(var_memory, columns=['Variable', 'Memory_Bytes']).sort_values(by='Memory_Bytes', ascending=False)\n",
    "\n",
    "# Obter e mostrar o uso de memória\n",
    "memory_usage_df = get_memory_usage()\n",
    "print(memory_usage_df)"
   ]
  }
 ],
 "metadata": {
  "kernelspec": {
   "display_name": "Python 3",
   "language": "python",
   "name": "python3"
  },
  "language_info": {
   "codemirror_mode": {
    "name": "ipython",
    "version": 3
   },
   "file_extension": ".py",
   "mimetype": "text/x-python",
   "name": "python",
   "nbconvert_exporter": "python",
   "pygments_lexer": "ipython3",
   "version": "3.12.3"
  }
 },
 "nbformat": 4,
 "nbformat_minor": 2
}
