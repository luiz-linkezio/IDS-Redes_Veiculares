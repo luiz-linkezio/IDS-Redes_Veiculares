{
 "cells": [
  {
   "cell_type": "code",
   "execution_count": 1,
   "metadata": {},
   "outputs": [],
   "source": [
    "import numpy as np\n",
    "\n",
    "import pandas as pd\n",
    "\n",
    "import seaborn as sns\n",
    "\n",
    "from joblib import dump\n",
    "\n",
    "import matplotlib.pyplot as plt\n",
    "\n",
    "from sklearn.metrics import confusion_matrix, roc_auc_score, roc_curve, precision_recall_curve\n",
    "from sklearn.preprocessing import MinMaxScaler#, StandardScaler\n",
    "from sklearn.model_selection import train_test_split\n",
    "\n",
    "from keras.callbacks import EarlyStopping\n",
    "from keras.models import Model, Sequential\n",
    "from keras.layers import Input, LSTM, RepeatVector, Dense, Dropout, BatchNormalization\n",
    "from keras.regularizers import l2\n",
    "from keras.optimizers import Adam"
   ]
  },
  {
   "cell_type": "markdown",
   "metadata": {},
   "source": [
    "Definindo o tema do seaborn:"
   ]
  },
  {
   "cell_type": "code",
   "execution_count": 2,
   "metadata": {},
   "outputs": [],
   "source": [
    "sns.set_theme()"
   ]
  },
  {
   "cell_type": "markdown",
   "metadata": {},
   "source": [
    "Definição da SEED:"
   ]
  },
  {
   "cell_type": "code",
   "execution_count": 3,
   "metadata": {},
   "outputs": [],
   "source": [
    "RANDOM_SEED = 42\n",
    "\n",
    "np.random.seed(RANDOM_SEED) # Numpy"
   ]
  },
  {
   "cell_type": "markdown",
   "metadata": {},
   "source": [
    "# Carregando os dados"
   ]
  },
  {
   "cell_type": "markdown",
   "metadata": {},
   "source": [
    "Os valores são números muito pequenos com muitas casas decimais, por isso é bom que o dataframe consiga representar isso também."
   ]
  },
  {
   "cell_type": "code",
   "execution_count": 4,
   "metadata": {},
   "outputs": [],
   "source": [
    "pd.set_option('display.float_format', '{:.20f}'.format)"
   ]
  },
  {
   "cell_type": "markdown",
   "metadata": {},
   "source": [
    "Carregando os dados:"
   ]
  },
  {
   "cell_type": "code",
   "execution_count": 5,
   "metadata": {},
   "outputs": [
    {
     "data": {
      "text/html": [
       "<div>\n",
       "<style scoped>\n",
       "    .dataframe tbody tr th:only-of-type {\n",
       "        vertical-align: middle;\n",
       "    }\n",
       "\n",
       "    .dataframe tbody tr th {\n",
       "        vertical-align: top;\n",
       "    }\n",
       "\n",
       "    .dataframe thead th {\n",
       "        text-align: right;\n",
       "    }\n",
       "</style>\n",
       "<table border=\"1\" class=\"dataframe\">\n",
       "  <thead>\n",
       "    <tr style=\"text-align: right;\">\n",
       "      <th></th>\n",
       "      <th>Timestamp</th>\n",
       "      <th>DLC</th>\n",
       "      <th>Arb ID</th>\n",
       "      <th>Byte 0</th>\n",
       "      <th>Byte 1</th>\n",
       "      <th>Byte 2</th>\n",
       "      <th>Byte 3</th>\n",
       "    </tr>\n",
       "  </thead>\n",
       "  <tbody>\n",
       "    <tr>\n",
       "      <th>0</th>\n",
       "      <td>0.00000000000000000000</td>\n",
       "      <td>3</td>\n",
       "      <td>193</td>\n",
       "      <td>0</td>\n",
       "      <td>0</td>\n",
       "      <td>0</td>\n",
       "      <td>-1</td>\n",
       "    </tr>\n",
       "    <tr>\n",
       "      <th>1</th>\n",
       "      <td>0.00012946128845210000</td>\n",
       "      <td>3</td>\n",
       "      <td>193</td>\n",
       "      <td>0</td>\n",
       "      <td>0</td>\n",
       "      <td>0</td>\n",
       "      <td>-1</td>\n",
       "    </tr>\n",
       "    <tr>\n",
       "      <th>2</th>\n",
       "      <td>0.00015544891357419999</td>\n",
       "      <td>3</td>\n",
       "      <td>193</td>\n",
       "      <td>0</td>\n",
       "      <td>0</td>\n",
       "      <td>0</td>\n",
       "      <td>-1</td>\n",
       "    </tr>\n",
       "    <tr>\n",
       "      <th>3</th>\n",
       "      <td>0.00015616416931149999</td>\n",
       "      <td>3</td>\n",
       "      <td>193</td>\n",
       "      <td>0</td>\n",
       "      <td>0</td>\n",
       "      <td>0</td>\n",
       "      <td>-1</td>\n",
       "    </tr>\n",
       "    <tr>\n",
       "      <th>4</th>\n",
       "      <td>0.00013208389282220000</td>\n",
       "      <td>2</td>\n",
       "      <td>194</td>\n",
       "      <td>24</td>\n",
       "      <td>0</td>\n",
       "      <td>-1</td>\n",
       "      <td>-1</td>\n",
       "    </tr>\n",
       "    <tr>\n",
       "      <th>...</th>\n",
       "      <td>...</td>\n",
       "      <td>...</td>\n",
       "      <td>...</td>\n",
       "      <td>...</td>\n",
       "      <td>...</td>\n",
       "      <td>...</td>\n",
       "      <td>...</td>\n",
       "    </tr>\n",
       "    <tr>\n",
       "      <th>2673812</th>\n",
       "      <td>0.00172662734985350001</td>\n",
       "      <td>1</td>\n",
       "      <td>165</td>\n",
       "      <td>88</td>\n",
       "      <td>-1</td>\n",
       "      <td>-1</td>\n",
       "      <td>-1</td>\n",
       "    </tr>\n",
       "    <tr>\n",
       "      <th>2673813</th>\n",
       "      <td>0.00108718872070310006</td>\n",
       "      <td>1</td>\n",
       "      <td>165</td>\n",
       "      <td>88</td>\n",
       "      <td>-1</td>\n",
       "      <td>-1</td>\n",
       "      <td>-1</td>\n",
       "    </tr>\n",
       "    <tr>\n",
       "      <th>2673814</th>\n",
       "      <td>0.00091290473937979998</td>\n",
       "      <td>1</td>\n",
       "      <td>165</td>\n",
       "      <td>88</td>\n",
       "      <td>-1</td>\n",
       "      <td>-1</td>\n",
       "      <td>-1</td>\n",
       "    </tr>\n",
       "    <tr>\n",
       "      <th>2673815</th>\n",
       "      <td>0.00008821487426757812</td>\n",
       "      <td>1</td>\n",
       "      <td>165</td>\n",
       "      <td>88</td>\n",
       "      <td>-1</td>\n",
       "      <td>-1</td>\n",
       "      <td>-1</td>\n",
       "    </tr>\n",
       "    <tr>\n",
       "      <th>2673816</th>\n",
       "      <td>0.00088882446289059995</td>\n",
       "      <td>1</td>\n",
       "      <td>165</td>\n",
       "      <td>88</td>\n",
       "      <td>-1</td>\n",
       "      <td>-1</td>\n",
       "      <td>-1</td>\n",
       "    </tr>\n",
       "  </tbody>\n",
       "</table>\n",
       "<p>2673817 rows × 7 columns</p>\n",
       "</div>"
      ],
      "text/plain": [
       "                     Timestamp  DLC  Arb ID  Byte 0  Byte 1  Byte 2  Byte 3\n",
       "0       0.00000000000000000000    3     193       0       0       0      -1\n",
       "1       0.00012946128845210000    3     193       0       0       0      -1\n",
       "2       0.00015544891357419999    3     193       0       0       0      -1\n",
       "3       0.00015616416931149999    3     193       0       0       0      -1\n",
       "4       0.00013208389282220000    2     194      24       0      -1      -1\n",
       "...                        ...  ...     ...     ...     ...     ...     ...\n",
       "2673812 0.00172662734985350001    1     165      88      -1      -1      -1\n",
       "2673813 0.00108718872070310006    1     165      88      -1      -1      -1\n",
       "2673814 0.00091290473937979998    1     165      88      -1      -1      -1\n",
       "2673815 0.00008821487426757812    1     165      88      -1      -1      -1\n",
       "2673816 0.00088882446289059995    1     165      88      -1      -1      -1\n",
       "\n",
       "[2673817 rows x 7 columns]"
      ]
     },
     "execution_count": 5,
     "metadata": {},
     "output_type": "execute_result"
    }
   ],
   "source": [
    "df_benign = pd.read_csv(\"data/dados benignos/mensagens_benignas.csv\")\n",
    "df_benign"
   ]
  },
  {
   "cell_type": "code",
   "execution_count": 6,
   "metadata": {},
   "outputs": [],
   "source": [
    "df_malicious_random_dos = pd.read_csv(\"data/ataques/mensagens_maliciosas_random_dos.csv\")\n",
    "df_malicious_spoofing_zero_payload = pd.read_csv(\"data/ataques/mensagens_maliciosas_spoofing_zero_payload.csv\")\n",
    "df_malicious_zero_dos = pd.read_csv(\"data/ataques/mensagens_maliciosas_zero_dos.csv\")"
   ]
  },
  {
   "cell_type": "code",
   "execution_count": 7,
   "metadata": {},
   "outputs": [
    {
     "data": {
      "text/html": [
       "<div>\n",
       "<style scoped>\n",
       "    .dataframe tbody tr th:only-of-type {\n",
       "        vertical-align: middle;\n",
       "    }\n",
       "\n",
       "    .dataframe tbody tr th {\n",
       "        vertical-align: top;\n",
       "    }\n",
       "\n",
       "    .dataframe thead th {\n",
       "        text-align: right;\n",
       "    }\n",
       "</style>\n",
       "<table border=\"1\" class=\"dataframe\">\n",
       "  <thead>\n",
       "    <tr style=\"text-align: right;\">\n",
       "      <th></th>\n",
       "      <th>Timestamp</th>\n",
       "      <th>DLC</th>\n",
       "      <th>Arb ID</th>\n",
       "      <th>Byte 0</th>\n",
       "      <th>Byte 1</th>\n",
       "      <th>Byte 2</th>\n",
       "      <th>Byte 3</th>\n",
       "    </tr>\n",
       "  </thead>\n",
       "  <tbody>\n",
       "    <tr>\n",
       "      <th>0</th>\n",
       "      <td>0.00000000000000000000</td>\n",
       "      <td>4</td>\n",
       "      <td>192</td>\n",
       "      <td>17</td>\n",
       "      <td>110</td>\n",
       "      <td>1</td>\n",
       "      <td>93</td>\n",
       "    </tr>\n",
       "    <tr>\n",
       "      <th>1</th>\n",
       "      <td>0.00037145614624020001</td>\n",
       "      <td>1</td>\n",
       "      <td>1061</td>\n",
       "      <td>225</td>\n",
       "      <td>-1</td>\n",
       "      <td>-1</td>\n",
       "      <td>-1</td>\n",
       "    </tr>\n",
       "    <tr>\n",
       "      <th>2</th>\n",
       "      <td>0.00169730186462400002</td>\n",
       "      <td>2</td>\n",
       "      <td>1412</td>\n",
       "      <td>198</td>\n",
       "      <td>237</td>\n",
       "      <td>-1</td>\n",
       "      <td>-1</td>\n",
       "    </tr>\n",
       "    <tr>\n",
       "      <th>3</th>\n",
       "      <td>0.00179910659790029999</td>\n",
       "      <td>1</td>\n",
       "      <td>2035</td>\n",
       "      <td>254</td>\n",
       "      <td>-1</td>\n",
       "      <td>-1</td>\n",
       "      <td>-1</td>\n",
       "    </tr>\n",
       "    <tr>\n",
       "      <th>4</th>\n",
       "      <td>0.00183224678039550001</td>\n",
       "      <td>3</td>\n",
       "      <td>544</td>\n",
       "      <td>66</td>\n",
       "      <td>102</td>\n",
       "      <td>79</td>\n",
       "      <td>-1</td>\n",
       "    </tr>\n",
       "    <tr>\n",
       "      <th>...</th>\n",
       "      <td>...</td>\n",
       "      <td>...</td>\n",
       "      <td>...</td>\n",
       "      <td>...</td>\n",
       "      <td>...</td>\n",
       "      <td>...</td>\n",
       "      <td>...</td>\n",
       "    </tr>\n",
       "    <tr>\n",
       "      <th>455997</th>\n",
       "      <td>0.00016474723815910000</td>\n",
       "      <td>4</td>\n",
       "      <td>192</td>\n",
       "      <td>207</td>\n",
       "      <td>106</td>\n",
       "      <td>1</td>\n",
       "      <td>92</td>\n",
       "    </tr>\n",
       "    <tr>\n",
       "      <th>455998</th>\n",
       "      <td>0.00016379356384270001</td>\n",
       "      <td>4</td>\n",
       "      <td>192</td>\n",
       "      <td>207</td>\n",
       "      <td>106</td>\n",
       "      <td>1</td>\n",
       "      <td>92</td>\n",
       "    </tr>\n",
       "    <tr>\n",
       "      <th>455999</th>\n",
       "      <td>0.00016403198242180000</td>\n",
       "      <td>4</td>\n",
       "      <td>192</td>\n",
       "      <td>207</td>\n",
       "      <td>106</td>\n",
       "      <td>1</td>\n",
       "      <td>92</td>\n",
       "    </tr>\n",
       "    <tr>\n",
       "      <th>456000</th>\n",
       "      <td>0.00016498565673819999</td>\n",
       "      <td>4</td>\n",
       "      <td>192</td>\n",
       "      <td>207</td>\n",
       "      <td>106</td>\n",
       "      <td>1</td>\n",
       "      <td>92</td>\n",
       "    </tr>\n",
       "    <tr>\n",
       "      <th>456001</th>\n",
       "      <td>0.00015091896057120000</td>\n",
       "      <td>3</td>\n",
       "      <td>193</td>\n",
       "      <td>176</td>\n",
       "      <td>6</td>\n",
       "      <td>251</td>\n",
       "      <td>-1</td>\n",
       "    </tr>\n",
       "  </tbody>\n",
       "</table>\n",
       "<p>456002 rows × 7 columns</p>\n",
       "</div>"
      ],
      "text/plain": [
       "                    Timestamp  DLC  Arb ID  Byte 0  Byte 1  Byte 2  Byte 3\n",
       "0      0.00000000000000000000    4     192      17     110       1      93\n",
       "1      0.00037145614624020001    1    1061     225      -1      -1      -1\n",
       "2      0.00169730186462400002    2    1412     198     237      -1      -1\n",
       "3      0.00179910659790029999    1    2035     254      -1      -1      -1\n",
       "4      0.00183224678039550001    3     544      66     102      79      -1\n",
       "...                       ...  ...     ...     ...     ...     ...     ...\n",
       "455997 0.00016474723815910000    4     192     207     106       1      92\n",
       "455998 0.00016379356384270001    4     192     207     106       1      92\n",
       "455999 0.00016403198242180000    4     192     207     106       1      92\n",
       "456000 0.00016498565673819999    4     192     207     106       1      92\n",
       "456001 0.00015091896057120000    3     193     176       6     251      -1\n",
       "\n",
       "[456002 rows x 7 columns]"
      ]
     },
     "execution_count": 7,
     "metadata": {},
     "output_type": "execute_result"
    }
   ],
   "source": [
    "df_malicious_random_dos"
   ]
  },
  {
   "cell_type": "code",
   "execution_count": 8,
   "metadata": {},
   "outputs": [
    {
     "data": {
      "text/html": [
       "<div>\n",
       "<style scoped>\n",
       "    .dataframe tbody tr th:only-of-type {\n",
       "        vertical-align: middle;\n",
       "    }\n",
       "\n",
       "    .dataframe tbody tr th {\n",
       "        vertical-align: top;\n",
       "    }\n",
       "\n",
       "    .dataframe thead th {\n",
       "        text-align: right;\n",
       "    }\n",
       "</style>\n",
       "<table border=\"1\" class=\"dataframe\">\n",
       "  <thead>\n",
       "    <tr style=\"text-align: right;\">\n",
       "      <th></th>\n",
       "      <th>Timestamp</th>\n",
       "      <th>DLC</th>\n",
       "      <th>Arb ID</th>\n",
       "      <th>Byte 0</th>\n",
       "      <th>Byte 1</th>\n",
       "      <th>Byte 2</th>\n",
       "      <th>Byte 3</th>\n",
       "    </tr>\n",
       "  </thead>\n",
       "  <tbody>\n",
       "    <tr>\n",
       "      <th>0</th>\n",
       "      <td>0.00000000000000000000</td>\n",
       "      <td>4</td>\n",
       "      <td>0</td>\n",
       "      <td>0</td>\n",
       "      <td>0</td>\n",
       "      <td>0</td>\n",
       "      <td>0</td>\n",
       "    </tr>\n",
       "    <tr>\n",
       "      <th>1</th>\n",
       "      <td>0.00161838531494139996</td>\n",
       "      <td>4</td>\n",
       "      <td>0</td>\n",
       "      <td>0</td>\n",
       "      <td>0</td>\n",
       "      <td>0</td>\n",
       "      <td>0</td>\n",
       "    </tr>\n",
       "    <tr>\n",
       "      <th>2</th>\n",
       "      <td>0.00169730186462400002</td>\n",
       "      <td>4</td>\n",
       "      <td>0</td>\n",
       "      <td>0</td>\n",
       "      <td>0</td>\n",
       "      <td>0</td>\n",
       "      <td>0</td>\n",
       "    </tr>\n",
       "    <tr>\n",
       "      <th>3</th>\n",
       "      <td>0.00061082839965819998</td>\n",
       "      <td>4</td>\n",
       "      <td>192</td>\n",
       "      <td>0</td>\n",
       "      <td>0</td>\n",
       "      <td>0</td>\n",
       "      <td>0</td>\n",
       "    </tr>\n",
       "    <tr>\n",
       "      <th>4</th>\n",
       "      <td>0.00175023078918450006</td>\n",
       "      <td>4</td>\n",
       "      <td>0</td>\n",
       "      <td>0</td>\n",
       "      <td>0</td>\n",
       "      <td>0</td>\n",
       "      <td>0</td>\n",
       "    </tr>\n",
       "    <tr>\n",
       "      <th>...</th>\n",
       "      <td>...</td>\n",
       "      <td>...</td>\n",
       "      <td>...</td>\n",
       "      <td>...</td>\n",
       "      <td>...</td>\n",
       "      <td>...</td>\n",
       "      <td>...</td>\n",
       "    </tr>\n",
       "    <tr>\n",
       "      <th>568457</th>\n",
       "      <td>0.00015544891357419999</td>\n",
       "      <td>3</td>\n",
       "      <td>193</td>\n",
       "      <td>0</td>\n",
       "      <td>0</td>\n",
       "      <td>0</td>\n",
       "      <td>-1</td>\n",
       "    </tr>\n",
       "    <tr>\n",
       "      <th>568458</th>\n",
       "      <td>0.00015711784362790001</td>\n",
       "      <td>3</td>\n",
       "      <td>193</td>\n",
       "      <td>0</td>\n",
       "      <td>0</td>\n",
       "      <td>0</td>\n",
       "      <td>-1</td>\n",
       "    </tr>\n",
       "    <tr>\n",
       "      <th>568459</th>\n",
       "      <td>0.00015830993652339999</td>\n",
       "      <td>3</td>\n",
       "      <td>193</td>\n",
       "      <td>0</td>\n",
       "      <td>0</td>\n",
       "      <td>0</td>\n",
       "      <td>-1</td>\n",
       "    </tr>\n",
       "    <tr>\n",
       "      <th>568460</th>\n",
       "      <td>0.00012922286987300001</td>\n",
       "      <td>2</td>\n",
       "      <td>194</td>\n",
       "      <td>0</td>\n",
       "      <td>0</td>\n",
       "      <td>-1</td>\n",
       "      <td>-1</td>\n",
       "    </tr>\n",
       "    <tr>\n",
       "      <th>568461</th>\n",
       "      <td>0.00013613700866690000</td>\n",
       "      <td>2</td>\n",
       "      <td>194</td>\n",
       "      <td>0</td>\n",
       "      <td>0</td>\n",
       "      <td>-1</td>\n",
       "      <td>-1</td>\n",
       "    </tr>\n",
       "  </tbody>\n",
       "</table>\n",
       "<p>568462 rows × 7 columns</p>\n",
       "</div>"
      ],
      "text/plain": [
       "                    Timestamp  DLC  Arb ID  Byte 0  Byte 1  Byte 2  Byte 3\n",
       "0      0.00000000000000000000    4       0       0       0       0       0\n",
       "1      0.00161838531494139996    4       0       0       0       0       0\n",
       "2      0.00169730186462400002    4       0       0       0       0       0\n",
       "3      0.00061082839965819998    4     192       0       0       0       0\n",
       "4      0.00175023078918450006    4       0       0       0       0       0\n",
       "...                       ...  ...     ...     ...     ...     ...     ...\n",
       "568457 0.00015544891357419999    3     193       0       0       0      -1\n",
       "568458 0.00015711784362790001    3     193       0       0       0      -1\n",
       "568459 0.00015830993652339999    3     193       0       0       0      -1\n",
       "568460 0.00012922286987300001    2     194       0       0      -1      -1\n",
       "568461 0.00013613700866690000    2     194       0       0      -1      -1\n",
       "\n",
       "[568462 rows x 7 columns]"
      ]
     },
     "execution_count": 8,
     "metadata": {},
     "output_type": "execute_result"
    }
   ],
   "source": [
    "df_malicious_spoofing_zero_payload"
   ]
  },
  {
   "cell_type": "code",
   "execution_count": 9,
   "metadata": {},
   "outputs": [
    {
     "data": {
      "text/html": [
       "<div>\n",
       "<style scoped>\n",
       "    .dataframe tbody tr th:only-of-type {\n",
       "        vertical-align: middle;\n",
       "    }\n",
       "\n",
       "    .dataframe tbody tr th {\n",
       "        vertical-align: top;\n",
       "    }\n",
       "\n",
       "    .dataframe thead th {\n",
       "        text-align: right;\n",
       "    }\n",
       "</style>\n",
       "<table border=\"1\" class=\"dataframe\">\n",
       "  <thead>\n",
       "    <tr style=\"text-align: right;\">\n",
       "      <th></th>\n",
       "      <th>Timestamp</th>\n",
       "      <th>DLC</th>\n",
       "      <th>Arb ID</th>\n",
       "      <th>Byte 0</th>\n",
       "      <th>Byte 1</th>\n",
       "      <th>Byte 2</th>\n",
       "      <th>Byte 3</th>\n",
       "    </tr>\n",
       "  </thead>\n",
       "  <tbody>\n",
       "    <tr>\n",
       "      <th>0</th>\n",
       "      <td>0.00000000000000000000</td>\n",
       "      <td>4</td>\n",
       "      <td>0</td>\n",
       "      <td>0</td>\n",
       "      <td>0</td>\n",
       "      <td>0</td>\n",
       "      <td>0</td>\n",
       "    </tr>\n",
       "    <tr>\n",
       "      <th>1</th>\n",
       "      <td>0.00115513801574700006</td>\n",
       "      <td>4</td>\n",
       "      <td>0</td>\n",
       "      <td>0</td>\n",
       "      <td>0</td>\n",
       "      <td>0</td>\n",
       "      <td>0</td>\n",
       "    </tr>\n",
       "    <tr>\n",
       "      <th>2</th>\n",
       "      <td>0.00147318840026850004</td>\n",
       "      <td>4</td>\n",
       "      <td>0</td>\n",
       "      <td>0</td>\n",
       "      <td>0</td>\n",
       "      <td>0</td>\n",
       "      <td>0</td>\n",
       "    </tr>\n",
       "    <tr>\n",
       "      <th>3</th>\n",
       "      <td>0.00123977661132810006</td>\n",
       "      <td>4</td>\n",
       "      <td>0</td>\n",
       "      <td>0</td>\n",
       "      <td>0</td>\n",
       "      <td>0</td>\n",
       "      <td>0</td>\n",
       "    </tr>\n",
       "    <tr>\n",
       "      <th>4</th>\n",
       "      <td>0.00169897079467769990</td>\n",
       "      <td>4</td>\n",
       "      <td>0</td>\n",
       "      <td>0</td>\n",
       "      <td>0</td>\n",
       "      <td>0</td>\n",
       "      <td>0</td>\n",
       "    </tr>\n",
       "    <tr>\n",
       "      <th>...</th>\n",
       "      <td>...</td>\n",
       "      <td>...</td>\n",
       "      <td>...</td>\n",
       "      <td>...</td>\n",
       "      <td>...</td>\n",
       "      <td>...</td>\n",
       "      <td>...</td>\n",
       "    </tr>\n",
       "    <tr>\n",
       "      <th>741977</th>\n",
       "      <td>0.00014257431030270001</td>\n",
       "      <td>2</td>\n",
       "      <td>194</td>\n",
       "      <td>236</td>\n",
       "      <td>255</td>\n",
       "      <td>-1</td>\n",
       "      <td>-1</td>\n",
       "    </tr>\n",
       "    <tr>\n",
       "      <th>741978</th>\n",
       "      <td>0.00012278556823730000</td>\n",
       "      <td>2</td>\n",
       "      <td>194</td>\n",
       "      <td>236</td>\n",
       "      <td>255</td>\n",
       "      <td>-1</td>\n",
       "      <td>-1</td>\n",
       "    </tr>\n",
       "    <tr>\n",
       "      <th>741979</th>\n",
       "      <td>0.00013160705566400000</td>\n",
       "      <td>2</td>\n",
       "      <td>194</td>\n",
       "      <td>236</td>\n",
       "      <td>255</td>\n",
       "      <td>-1</td>\n",
       "      <td>-1</td>\n",
       "    </tr>\n",
       "    <tr>\n",
       "      <th>741980</th>\n",
       "      <td>0.00016975402832030000</td>\n",
       "      <td>4</td>\n",
       "      <td>192</td>\n",
       "      <td>147</td>\n",
       "      <td>117</td>\n",
       "      <td>1</td>\n",
       "      <td>95</td>\n",
       "    </tr>\n",
       "    <tr>\n",
       "      <th>741981</th>\n",
       "      <td>0.00017046928405760000</td>\n",
       "      <td>4</td>\n",
       "      <td>192</td>\n",
       "      <td>147</td>\n",
       "      <td>117</td>\n",
       "      <td>1</td>\n",
       "      <td>95</td>\n",
       "    </tr>\n",
       "  </tbody>\n",
       "</table>\n",
       "<p>741982 rows × 7 columns</p>\n",
       "</div>"
      ],
      "text/plain": [
       "                    Timestamp  DLC  Arb ID  Byte 0  Byte 1  Byte 2  Byte 3\n",
       "0      0.00000000000000000000    4       0       0       0       0       0\n",
       "1      0.00115513801574700006    4       0       0       0       0       0\n",
       "2      0.00147318840026850004    4       0       0       0       0       0\n",
       "3      0.00123977661132810006    4       0       0       0       0       0\n",
       "4      0.00169897079467769990    4       0       0       0       0       0\n",
       "...                       ...  ...     ...     ...     ...     ...     ...\n",
       "741977 0.00014257431030270001    2     194     236     255      -1      -1\n",
       "741978 0.00012278556823730000    2     194     236     255      -1      -1\n",
       "741979 0.00013160705566400000    2     194     236     255      -1      -1\n",
       "741980 0.00016975402832030000    4     192     147     117       1      95\n",
       "741981 0.00017046928405760000    4     192     147     117       1      95\n",
       "\n",
       "[741982 rows x 7 columns]"
      ]
     },
     "execution_count": 9,
     "metadata": {},
     "output_type": "execute_result"
    }
   ],
   "source": [
    "df_malicious_zero_dos"
   ]
  },
  {
   "cell_type": "markdown",
   "metadata": {},
   "source": [
    "Manipualação da quantidade/proporção dos dados:"
   ]
  },
  {
   "cell_type": "code",
   "execution_count": 10,
   "metadata": {},
   "outputs": [],
   "source": [
    "# OPCIONAL!!!\n",
    "len_min = min(len(df_benign),len(df_malicious_random_dos),len(df_malicious_spoofing_zero_payload),len(df_malicious_zero_dos))\n",
    "NUM_OF_ATTACKS = 3\n",
    "\n",
    "len_min = int(len_min / 80)\n",
    "\n",
    "df_benign = df_benign.head(len_min * NUM_OF_ATTACKS)\n",
    "df_malicious_random_dos = df_malicious_random_dos.head(len_min)\n",
    "df_malicious_spoofing_zero_payload = df_malicious_spoofing_zero_payload.head(len_min)\n",
    "df_malicious_zero_dos = df_malicious_zero_dos.head(len_min)"
   ]
  },
  {
   "cell_type": "code",
   "execution_count": 11,
   "metadata": {},
   "outputs": [],
   "source": [
    "del len_min"
   ]
  },
  {
   "cell_type": "markdown",
   "metadata": {},
   "source": [
    "# Tratando dados"
   ]
  },
  {
   "cell_type": "markdown",
   "metadata": {},
   "source": [
    "## Normalização dos dados"
   ]
  },
  {
   "cell_type": "markdown",
   "metadata": {},
   "source": [
    "Criação e uso do scaler:"
   ]
  },
  {
   "cell_type": "code",
   "execution_count": 12,
   "metadata": {},
   "outputs": [],
   "source": [
    "scaler = MinMaxScaler()\n",
    "\n",
    "scaler.fit(df_benign)\n",
    "\n",
    "df_benign_scaled = pd.DataFrame(scaler.transform(df_benign), columns=df_benign.columns, index=df_benign.index)\n",
    "df_malicious_random_dos_scaled = pd.DataFrame(scaler.transform(df_malicious_random_dos), columns=df_malicious_random_dos.columns, index=df_malicious_random_dos.index)\n",
    "df_malicious_spoofing_zero_payload_scaled = pd.DataFrame(scaler.transform(df_malicious_spoofing_zero_payload), columns=df_malicious_spoofing_zero_payload.columns, index=df_malicious_spoofing_zero_payload.index)\n",
    "df_malicious_zero_dos_scaled = pd.DataFrame(scaler.transform(df_malicious_zero_dos), columns=df_malicious_zero_dos.columns, index=df_malicious_zero_dos.index)"
   ]
  },
  {
   "cell_type": "code",
   "execution_count": 13,
   "metadata": {},
   "outputs": [],
   "source": [
    "del df_benign\n",
    "del df_malicious_random_dos\n",
    "del df_malicious_spoofing_zero_payload\n",
    "del df_malicious_zero_dos"
   ]
  },
  {
   "cell_type": "code",
   "execution_count": 14,
   "metadata": {},
   "outputs": [
    {
     "data": {
      "text/html": [
       "<div>\n",
       "<style scoped>\n",
       "    .dataframe tbody tr th:only-of-type {\n",
       "        vertical-align: middle;\n",
       "    }\n",
       "\n",
       "    .dataframe tbody tr th {\n",
       "        vertical-align: top;\n",
       "    }\n",
       "\n",
       "    .dataframe thead th {\n",
       "        text-align: right;\n",
       "    }\n",
       "</style>\n",
       "<table border=\"1\" class=\"dataframe\">\n",
       "  <thead>\n",
       "    <tr style=\"text-align: right;\">\n",
       "      <th></th>\n",
       "      <th>Timestamp</th>\n",
       "      <th>DLC</th>\n",
       "      <th>Arb ID</th>\n",
       "      <th>Byte 0</th>\n",
       "      <th>Byte 1</th>\n",
       "      <th>Byte 2</th>\n",
       "      <th>Byte 3</th>\n",
       "    </tr>\n",
       "  </thead>\n",
       "  <tbody>\n",
       "    <tr>\n",
       "      <th>0</th>\n",
       "      <td>0.00000000000000000000</td>\n",
       "      <td>0.66666666666666674068</td>\n",
       "      <td>0.97058823529411775155</td>\n",
       "      <td>0.00000000000000000000</td>\n",
       "      <td>0.00740740740740740769</td>\n",
       "      <td>0.25000000000000000000</td>\n",
       "      <td>0.00000000000000000000</td>\n",
       "    </tr>\n",
       "    <tr>\n",
       "      <th>1</th>\n",
       "      <td>0.00199053487834934852</td>\n",
       "      <td>0.66666666666666674068</td>\n",
       "      <td>0.97058823529411775155</td>\n",
       "      <td>0.00000000000000000000</td>\n",
       "      <td>0.00740740740740740769</td>\n",
       "      <td>0.25000000000000000000</td>\n",
       "      <td>0.00000000000000000000</td>\n",
       "    </tr>\n",
       "    <tr>\n",
       "      <th>2</th>\n",
       "      <td>0.00239010817805544078</td>\n",
       "      <td>0.66666666666666674068</td>\n",
       "      <td>0.97058823529411775155</td>\n",
       "      <td>0.00000000000000000000</td>\n",
       "      <td>0.00740740740740740769</td>\n",
       "      <td>0.25000000000000000000</td>\n",
       "      <td>0.00000000000000000000</td>\n",
       "    </tr>\n",
       "    <tr>\n",
       "      <th>3</th>\n",
       "      <td>0.00240110560832249628</td>\n",
       "      <td>0.66666666666666674068</td>\n",
       "      <td>0.97058823529411775155</td>\n",
       "      <td>0.00000000000000000000</td>\n",
       "      <td>0.00740740740740740769</td>\n",
       "      <td>0.25000000000000000000</td>\n",
       "      <td>0.00000000000000000000</td>\n",
       "    </tr>\n",
       "    <tr>\n",
       "      <th>4</th>\n",
       "      <td>0.00203085878932855214</td>\n",
       "      <td>0.33333333333333331483</td>\n",
       "      <td>1.00000000000000000000</td>\n",
       "      <td>0.09917355371900826722</td>\n",
       "      <td>0.00740740740740740769</td>\n",
       "      <td>0.00000000000000000000</td>\n",
       "      <td>0.00000000000000000000</td>\n",
       "    </tr>\n",
       "    <tr>\n",
       "      <th>...</th>\n",
       "      <td>...</td>\n",
       "      <td>...</td>\n",
       "      <td>...</td>\n",
       "      <td>...</td>\n",
       "      <td>...</td>\n",
       "      <td>...</td>\n",
       "      <td>...</td>\n",
       "    </tr>\n",
       "    <tr>\n",
       "      <th>17095</th>\n",
       "      <td>0.00177425208309571914</td>\n",
       "      <td>0.00000000000000000000</td>\n",
       "      <td>0.14705882352941124225</td>\n",
       "      <td>0.09504132231404958941</td>\n",
       "      <td>0.00000000000000000000</td>\n",
       "      <td>0.00000000000000000000</td>\n",
       "      <td>0.00000000000000000000</td>\n",
       "    </tr>\n",
       "    <tr>\n",
       "      <th>17096</th>\n",
       "      <td>0.00199053487834934852</td>\n",
       "      <td>0.33333333333333331483</td>\n",
       "      <td>1.00000000000000000000</td>\n",
       "      <td>0.14876033057851240082</td>\n",
       "      <td>0.00740740740740740769</td>\n",
       "      <td>0.00000000000000000000</td>\n",
       "      <td>0.00000000000000000000</td>\n",
       "    </tr>\n",
       "    <tr>\n",
       "      <th>17097</th>\n",
       "      <td>0.00202719297923953379</td>\n",
       "      <td>0.33333333333333331483</td>\n",
       "      <td>1.00000000000000000000</td>\n",
       "      <td>0.14876033057851240082</td>\n",
       "      <td>0.00740740740740740769</td>\n",
       "      <td>0.00000000000000000000</td>\n",
       "      <td>0.00000000000000000000</td>\n",
       "    </tr>\n",
       "    <tr>\n",
       "      <th>17098</th>\n",
       "      <td>0.00255873544215029242</td>\n",
       "      <td>1.00000000000000000000</td>\n",
       "      <td>0.94117647058823461492</td>\n",
       "      <td>0.57438016528925617266</td>\n",
       "      <td>1.00000000000000000000</td>\n",
       "      <td>0.50000000000000000000</td>\n",
       "      <td>0.99009900990099009022</td>\n",
       "    </tr>\n",
       "    <tr>\n",
       "      <th>17099</th>\n",
       "      <td>0.00256240125223931078</td>\n",
       "      <td>1.00000000000000000000</td>\n",
       "      <td>0.94117647058823461492</td>\n",
       "      <td>0.57438016528925617266</td>\n",
       "      <td>1.00000000000000000000</td>\n",
       "      <td>0.50000000000000000000</td>\n",
       "      <td>0.99009900990099009022</td>\n",
       "    </tr>\n",
       "  </tbody>\n",
       "</table>\n",
       "<p>17100 rows × 7 columns</p>\n",
       "</div>"
      ],
      "text/plain": [
       "                   Timestamp                    DLC                 Arb ID  \\\n",
       "0     0.00000000000000000000 0.66666666666666674068 0.97058823529411775155   \n",
       "1     0.00199053487834934852 0.66666666666666674068 0.97058823529411775155   \n",
       "2     0.00239010817805544078 0.66666666666666674068 0.97058823529411775155   \n",
       "3     0.00240110560832249628 0.66666666666666674068 0.97058823529411775155   \n",
       "4     0.00203085878932855214 0.33333333333333331483 1.00000000000000000000   \n",
       "...                      ...                    ...                    ...   \n",
       "17095 0.00177425208309571914 0.00000000000000000000 0.14705882352941124225   \n",
       "17096 0.00199053487834934852 0.33333333333333331483 1.00000000000000000000   \n",
       "17097 0.00202719297923953379 0.33333333333333331483 1.00000000000000000000   \n",
       "17098 0.00255873544215029242 1.00000000000000000000 0.94117647058823461492   \n",
       "17099 0.00256240125223931078 1.00000000000000000000 0.94117647058823461492   \n",
       "\n",
       "                      Byte 0                 Byte 1                 Byte 2  \\\n",
       "0     0.00000000000000000000 0.00740740740740740769 0.25000000000000000000   \n",
       "1     0.00000000000000000000 0.00740740740740740769 0.25000000000000000000   \n",
       "2     0.00000000000000000000 0.00740740740740740769 0.25000000000000000000   \n",
       "3     0.00000000000000000000 0.00740740740740740769 0.25000000000000000000   \n",
       "4     0.09917355371900826722 0.00740740740740740769 0.00000000000000000000   \n",
       "...                      ...                    ...                    ...   \n",
       "17095 0.09504132231404958941 0.00000000000000000000 0.00000000000000000000   \n",
       "17096 0.14876033057851240082 0.00740740740740740769 0.00000000000000000000   \n",
       "17097 0.14876033057851240082 0.00740740740740740769 0.00000000000000000000   \n",
       "17098 0.57438016528925617266 1.00000000000000000000 0.50000000000000000000   \n",
       "17099 0.57438016528925617266 1.00000000000000000000 0.50000000000000000000   \n",
       "\n",
       "                      Byte 3  \n",
       "0     0.00000000000000000000  \n",
       "1     0.00000000000000000000  \n",
       "2     0.00000000000000000000  \n",
       "3     0.00000000000000000000  \n",
       "4     0.00000000000000000000  \n",
       "...                      ...  \n",
       "17095 0.00000000000000000000  \n",
       "17096 0.00000000000000000000  \n",
       "17097 0.00000000000000000000  \n",
       "17098 0.99009900990099009022  \n",
       "17099 0.99009900990099009022  \n",
       "\n",
       "[17100 rows x 7 columns]"
      ]
     },
     "execution_count": 14,
     "metadata": {},
     "output_type": "execute_result"
    }
   ],
   "source": [
    "df_benign_scaled"
   ]
  },
  {
   "cell_type": "markdown",
   "metadata": {},
   "source": [
    "## Criação de Labels"
   ]
  },
  {
   "cell_type": "code",
   "execution_count": 15,
   "metadata": {},
   "outputs": [],
   "source": [
    "list_labels_benign = [1] * len(df_benign_scaled)\n",
    "list_labels_random_dos = [-1] * len(df_malicious_random_dos_scaled)\n",
    "list_labels_spoofing_zero_payload = [-1] * len(df_malicious_spoofing_zero_payload_scaled)\n",
    "list_labels_zero_dos = [-1] * len(df_malicious_zero_dos_scaled)\n",
    "\n",
    "classifier_type = \"bc\""
   ]
  },
  {
   "cell_type": "markdown",
   "metadata": {},
   "source": [
    "## Criação de Janelas Temporais"
   ]
  },
  {
   "cell_type": "markdown",
   "metadata": {},
   "source": [
    "### Criação de Janelas Deslizantes"
   ]
  },
  {
   "cell_type": "markdown",
   "metadata": {},
   "source": [
    "Criação da função de divisão dos dados em janelas:"
   ]
  },
  {
   "cell_type": "code",
   "execution_count": 16,
   "metadata": {},
   "outputs": [],
   "source": [
    "def create_slicing_windows(data, labels, time_step=1):\n",
    "    X, Y = [], []\n",
    "    for i in range(len(data) - time_step):\n",
    "        a = data[i:(i + time_step)]\n",
    "        X.append(a)\n",
    "        Y.append(labels[i + time_step])\n",
    "    return np.array(X), np.array(Y)"
   ]
  },
  {
   "cell_type": "markdown",
   "metadata": {},
   "source": [
    "Definição do tamanho da janela:"
   ]
  },
  {
   "cell_type": "code",
   "execution_count": 17,
   "metadata": {},
   "outputs": [],
   "source": [
    "WINDOW_SIZE = 150"
   ]
  },
  {
   "cell_type": "markdown",
   "metadata": {},
   "source": [
    "Criação das janelas deslizantes:"
   ]
  },
  {
   "cell_type": "code",
   "execution_count": 18,
   "metadata": {},
   "outputs": [],
   "source": [
    "benign_windows, benign_labels = create_slicing_windows(df_benign_scaled, list_labels_benign, WINDOW_SIZE)\n",
    "del df_benign_scaled, list_labels_benign\n",
    "\n",
    "malicious_random_dos_windows, malicious_random_dos_labels = create_slicing_windows(df_malicious_random_dos_scaled, list_labels_random_dos, WINDOW_SIZE)\n",
    "del df_malicious_random_dos_scaled, list_labels_random_dos\n",
    "\n",
    "malicious_spoofing_zero_payload_windows, malicious_spoofing_zero_payload_labels = create_slicing_windows(df_malicious_spoofing_zero_payload_scaled, list_labels_spoofing_zero_payload, WINDOW_SIZE)\n",
    "del df_malicious_spoofing_zero_payload_scaled, list_labels_spoofing_zero_payload\n",
    "\n",
    "malicious_zero_dos_windows, malicious_zero_dos_labels = create_slicing_windows(df_malicious_zero_dos_scaled, list_labels_zero_dos, WINDOW_SIZE)\n",
    "del df_malicious_zero_dos_scaled, list_labels_zero_dos"
   ]
  },
  {
   "cell_type": "code",
   "execution_count": 19,
   "metadata": {},
   "outputs": [
    {
     "data": {
      "text/plain": [
       "(16950, 150)"
      ]
     },
     "execution_count": 19,
     "metadata": {},
     "output_type": "execute_result"
    }
   ],
   "source": [
    "len(benign_windows), len(benign_windows[0])"
   ]
  },
  {
   "cell_type": "code",
   "execution_count": 20,
   "metadata": {},
   "outputs": [
    {
     "data": {
      "text/plain": [
       "array([[[0.        , 0.66666667, 0.97058824, ..., 0.00740741,\n",
       "         0.25      , 0.        ],\n",
       "        [0.00199053, 0.66666667, 0.97058824, ..., 0.00740741,\n",
       "         0.25      , 0.        ],\n",
       "        [0.00239011, 0.66666667, 0.97058824, ..., 0.00740741,\n",
       "         0.25      , 0.        ],\n",
       "        ...,\n",
       "        [0.00236811, 0.66666667, 0.97058824, ..., 0.00740741,\n",
       "         0.25      , 0.        ],\n",
       "        [0.00239377, 0.66666667, 0.97058824, ..., 0.00740741,\n",
       "         0.25      , 0.        ],\n",
       "        [0.00204919, 0.33333333, 1.        , ..., 0.00740741,\n",
       "         0.        , 0.        ]],\n",
       "\n",
       "       [[0.00199053, 0.66666667, 0.97058824, ..., 0.00740741,\n",
       "         0.25      , 0.        ],\n",
       "        [0.00239011, 0.66666667, 0.97058824, ..., 0.00740741,\n",
       "         0.25      , 0.        ],\n",
       "        [0.00240111, 0.66666667, 0.97058824, ..., 0.00740741,\n",
       "         0.25      , 0.        ],\n",
       "        ...,\n",
       "        [0.00239377, 0.66666667, 0.97058824, ..., 0.00740741,\n",
       "         0.25      , 0.        ],\n",
       "        [0.00204919, 0.33333333, 1.        , ..., 0.00740741,\n",
       "         0.        , 0.        ],\n",
       "        [0.00203819, 0.33333333, 1.        , ..., 0.00740741,\n",
       "         0.        , 0.        ]],\n",
       "\n",
       "       [[0.00239011, 0.66666667, 0.97058824, ..., 0.00740741,\n",
       "         0.25      , 0.        ],\n",
       "        [0.00240111, 0.66666667, 0.97058824, ..., 0.00740741,\n",
       "         0.25      , 0.        ],\n",
       "        [0.00203086, 0.33333333, 1.        , ..., 0.00740741,\n",
       "         0.        , 0.        ],\n",
       "        ...,\n",
       "        [0.00204919, 0.33333333, 1.        , ..., 0.00740741,\n",
       "         0.        , 0.        ],\n",
       "        [0.00203819, 0.33333333, 1.        , ..., 0.00740741,\n",
       "         0.        , 0.        ],\n",
       "        [0.00202719, 0.33333333, 1.        , ..., 0.00740741,\n",
       "         0.        , 0.        ]],\n",
       "\n",
       "       ...,\n",
       "\n",
       "       [[0.01001133, 0.66666667, 0.97058824, ..., 0.03703704,\n",
       "         1.        , 0.        ],\n",
       "        [0.0017156 , 0.        , 0.14705882, ..., 0.        ,\n",
       "         0.        , 0.        ],\n",
       "        [0.00179991, 0.        , 0.14705882, ..., 0.        ,\n",
       "         0.        , 0.        ],\n",
       "        ...,\n",
       "        [0.00203086, 0.33333333, 1.        , ..., 0.00740741,\n",
       "         0.        , 0.        ],\n",
       "        [0.00177425, 0.        , 0.14705882, ..., 0.        ,\n",
       "         0.        , 0.        ],\n",
       "        [0.00199053, 0.33333333, 1.        , ..., 0.00740741,\n",
       "         0.        , 0.        ]],\n",
       "\n",
       "       [[0.0017156 , 0.        , 0.14705882, ..., 0.        ,\n",
       "         0.        , 0.        ],\n",
       "        [0.00179991, 0.        , 0.14705882, ..., 0.        ,\n",
       "         0.        , 0.        ],\n",
       "        [0.00228013, 0.66666667, 0.97058824, ..., 0.03703704,\n",
       "         1.        , 0.        ],\n",
       "        ...,\n",
       "        [0.00177425, 0.        , 0.14705882, ..., 0.        ,\n",
       "         0.        , 0.        ],\n",
       "        [0.00199053, 0.33333333, 1.        , ..., 0.00740741,\n",
       "         0.        , 0.        ],\n",
       "        [0.00202719, 0.33333333, 1.        , ..., 0.00740741,\n",
       "         0.        , 0.        ]],\n",
       "\n",
       "       [[0.00179991, 0.        , 0.14705882, ..., 0.        ,\n",
       "         0.        , 0.        ],\n",
       "        [0.00228013, 0.66666667, 0.97058824, ..., 0.03703704,\n",
       "         1.        , 0.        ],\n",
       "        [0.00234612, 0.66666667, 0.97058824, ..., 0.03703704,\n",
       "         1.        , 0.        ],\n",
       "        ...,\n",
       "        [0.00199053, 0.33333333, 1.        , ..., 0.00740741,\n",
       "         0.        , 0.        ],\n",
       "        [0.00202719, 0.33333333, 1.        , ..., 0.00740741,\n",
       "         0.        , 0.        ],\n",
       "        [0.00255874, 1.        , 0.94117647, ..., 1.        ,\n",
       "         0.5       , 0.99009901]]])"
      ]
     },
     "execution_count": 20,
     "metadata": {},
     "output_type": "execute_result"
    }
   ],
   "source": [
    "benign_windows"
   ]
  },
  {
   "cell_type": "markdown",
   "metadata": {},
   "source": [
    "## Dividindo dados em Treino, Validação e Teste"
   ]
  },
  {
   "cell_type": "markdown",
   "metadata": {},
   "source": [
    "Quantidade de dados benignos dividido pelo total:"
   ]
  },
  {
   "cell_type": "code",
   "execution_count": 21,
   "metadata": {},
   "outputs": [
    {
     "data": {
      "text/plain": [
       "0.5044642857142857"
      ]
     },
     "execution_count": 21,
     "metadata": {},
     "output_type": "execute_result"
    }
   ],
   "source": [
    "len(benign_windows) / (len(benign_windows) + len(malicious_random_dos_windows) + len(malicious_spoofing_zero_payload_windows) + len(malicious_zero_dos_windows))"
   ]
  },
  {
   "cell_type": "markdown",
   "metadata": {},
   "source": [
    "Concatenação das janelas, em ordem:"
   ]
  },
  {
   "cell_type": "code",
   "execution_count": 22,
   "metadata": {},
   "outputs": [],
   "source": [
    "data = np.vstack((benign_windows, malicious_random_dos_windows, malicious_spoofing_zero_payload_windows, malicious_zero_dos_windows))"
   ]
  },
  {
   "cell_type": "code",
   "execution_count": 23,
   "metadata": {},
   "outputs": [],
   "source": [
    "data_malicious = np.vstack((malicious_random_dos_windows, malicious_spoofing_zero_payload_windows, malicious_zero_dos_windows))"
   ]
  },
  {
   "cell_type": "code",
   "execution_count": 24,
   "metadata": {},
   "outputs": [],
   "source": [
    "data_labels = np.hstack((benign_labels, malicious_random_dos_labels, malicious_spoofing_zero_payload_labels, malicious_zero_dos_labels))"
   ]
  },
  {
   "cell_type": "code",
   "execution_count": 25,
   "metadata": {},
   "outputs": [],
   "source": [
    "data_malicious_labels = np.hstack((malicious_random_dos_labels, malicious_spoofing_zero_payload_labels, malicious_zero_dos_labels))"
   ]
  },
  {
   "cell_type": "code",
   "execution_count": 26,
   "metadata": {},
   "outputs": [],
   "source": [
    "del malicious_random_dos_windows\n",
    "del malicious_spoofing_zero_payload_windows\n",
    "del malicious_zero_dos_windows\n",
    "\n",
    "del benign_labels\n",
    "del malicious_random_dos_labels\n",
    "del malicious_spoofing_zero_payload_labels\n",
    "del malicious_zero_dos_labels"
   ]
  },
  {
   "cell_type": "markdown",
   "metadata": {},
   "source": [
    "### Divisão em treino, validação e teste."
   ]
  },
  {
   "cell_type": "markdown",
   "metadata": {},
   "source": [
    "Abordagem supervisionada:"
   ]
  },
  {
   "cell_type": "code",
   "execution_count": 27,
   "metadata": {},
   "outputs": [],
   "source": [
    "train_data, val_test_data, train_labels, val_test_labels = train_test_split(data, data_labels, test_size=0.25, random_state=RANDOM_SEED)"
   ]
  },
  {
   "cell_type": "code",
   "execution_count": 28,
   "metadata": {},
   "outputs": [],
   "source": [
    "val_data, test_data, val_labels, test_labels = train_test_split(val_test_data, val_test_labels, test_size=0.5, random_state=RANDOM_SEED)"
   ]
  },
  {
   "cell_type": "code",
   "execution_count": 29,
   "metadata": {},
   "outputs": [],
   "source": [
    "del data, data_labels\n",
    "del val_test_data, val_test_labels"
   ]
  },
  {
   "cell_type": "markdown",
   "metadata": {},
   "source": [
    "Abordagem não-supervisionada:"
   ]
  },
  {
   "cell_type": "code",
   "execution_count": 30,
   "metadata": {},
   "outputs": [],
   "source": [
    "train_data_2 = benign_windows[:(len(benign_windows) // 2)]\n",
    "\n",
    "test_data_2 = np.vstack((data_malicious, benign_windows[(len(benign_windows) // 2):]))\n",
    "\n",
    "malicious_proportion = len(data_malicious) / (len(data_malicious) + len(benign_windows[(len(benign_windows) // 2):]))"
   ]
  },
  {
   "cell_type": "code",
   "execution_count": 31,
   "metadata": {},
   "outputs": [],
   "source": [
    "#benign_labels = [1] * (len(benign_windows) // 2)\n",
    "\n",
    "#test_data_2_labels = np.hstack(( data_malicious_labels, benign_labels))"
   ]
  },
  {
   "cell_type": "code",
   "execution_count": 32,
   "metadata": {},
   "outputs": [],
   "source": [
    "del data_malicious\n",
    "del benign_windows\n",
    "del benign_labels"
   ]
  },
  {
   "cell_type": "markdown",
   "metadata": {},
   "source": [
    "Shape dos dados de treino:"
   ]
  },
  {
   "cell_type": "code",
   "execution_count": 33,
   "metadata": {},
   "outputs": [
    {
     "data": {
      "text/plain": [
       "(25200, 150, 7)"
      ]
     },
     "execution_count": 33,
     "metadata": {},
     "output_type": "execute_result"
    }
   ],
   "source": [
    "train_data.shape"
   ]
  },
  {
   "cell_type": "markdown",
   "metadata": {},
   "source": [
    "# IAs"
   ]
  },
  {
   "cell_type": "markdown",
   "metadata": {},
   "source": [
    "## LSTM (supervisionado)"
   ]
  },
  {
   "cell_type": "markdown",
   "metadata": {},
   "source": [
    "Variável que define se é supervisionado ou não-supervisionado:"
   ]
  },
  {
   "cell_type": "code",
   "execution_count": 34,
   "metadata": {},
   "outputs": [],
   "source": [
    "s_OR_ns = \"s\""
   ]
  },
  {
   "cell_type": "markdown",
   "metadata": {},
   "source": [
    "Quantidade de features, para o modelo lidar com as entradas:"
   ]
  },
  {
   "cell_type": "code",
   "execution_count": 35,
   "metadata": {},
   "outputs": [],
   "source": [
    "FEATURES_COUNT = train_data.shape[2] # Número de features dos dados"
   ]
  },
  {
   "cell_type": "markdown",
   "metadata": {},
   "source": [
    "Construção do modelo LSTM:"
   ]
  },
  {
   "cell_type": "code",
   "execution_count": 36,
   "metadata": {},
   "outputs": [],
   "source": [
    "# Construindo o modelo LSTM\n",
    "model = Sequential()\n",
    "model.add(LSTM(50, activation='tanh', input_shape=(WINDOW_SIZE, FEATURES_COUNT)))\n",
    "model.add(Dropout(0.1))\n",
    "model.add(BatchNormalization())\n",
    "model.add(Dense(1, kernel_regularizer=l2(0.0000001)))\n",
    "\n",
    "# Compilando o modelo\n",
    "model.compile(optimizer=Adam(learning_rate=0.004), loss='mse')\n",
    "#model.compile(optimizer=\"adam\", loss='mse')"
   ]
  },
  {
   "cell_type": "markdown",
   "metadata": {},
   "source": [
    "Definição da paciência:"
   ]
  },
  {
   "cell_type": "code",
   "execution_count": 37,
   "metadata": {},
   "outputs": [],
   "source": [
    "PATIENCE = 4"
   ]
  },
  {
   "cell_type": "markdown",
   "metadata": {},
   "source": [
    "Configuração do early stop:"
   ]
  },
  {
   "cell_type": "code",
   "execution_count": 38,
   "metadata": {},
   "outputs": [],
   "source": [
    "early_stopping = EarlyStopping(monitor='val_loss', patience=PATIENCE, restore_best_weights=True)"
   ]
  },
  {
   "cell_type": "markdown",
   "metadata": {},
   "source": [
    "Definição da quantidade de épocas e da quantidade de batchs:"
   ]
  },
  {
   "cell_type": "code",
   "execution_count": 39,
   "metadata": {},
   "outputs": [],
   "source": [
    "EPOCHS = 50\n",
    "BATCH_SIZE = 32 #padrão: batch_size=32"
   ]
  },
  {
   "cell_type": "markdown",
   "metadata": {},
   "source": [
    "**TREINAMENTO DO MODELO:**"
   ]
  },
  {
   "cell_type": "code",
   "execution_count": 40,
   "metadata": {},
   "outputs": [
    {
     "name": "stdout",
     "output_type": "stream",
     "text": [
      "Epoch 1/50\n",
      "788/788 [==============================] - 19s 23ms/step - loss: 0.1014 - val_loss: 0.0091\n",
      "Epoch 2/50\n",
      "788/788 [==============================] - 18s 22ms/step - loss: 0.0396 - val_loss: 0.0041\n",
      "Epoch 3/50\n",
      "788/788 [==============================] - 18s 22ms/step - loss: 0.0356 - val_loss: 0.0025\n",
      "Epoch 4/50\n",
      "788/788 [==============================] - 18s 22ms/step - loss: 0.0499 - val_loss: 0.0027\n",
      "Epoch 5/50\n",
      "788/788 [==============================] - 18s 23ms/step - loss: 0.0361 - val_loss: 0.0019\n",
      "Epoch 6/50\n",
      "788/788 [==============================] - 19s 24ms/step - loss: 0.0354 - val_loss: 0.0017\n",
      "Epoch 7/50\n",
      "788/788 [==============================] - 19s 24ms/step - loss: 0.0388 - val_loss: 0.0025\n",
      "Epoch 8/50\n",
      "788/788 [==============================] - 21s 26ms/step - loss: 0.0345 - val_loss: 0.0017\n",
      "Epoch 9/50\n",
      "788/788 [==============================] - 20s 25ms/step - loss: 0.0347 - val_loss: 5.2155e-04\n",
      "Epoch 10/50\n",
      "788/788 [==============================] - 19s 25ms/step - loss: 0.0345 - val_loss: 0.0040\n",
      "Epoch 11/50\n",
      "788/788 [==============================] - 20s 25ms/step - loss: 0.0369 - val_loss: 0.0041\n",
      "Epoch 12/50\n",
      "788/788 [==============================] - 20s 25ms/step - loss: 0.0368 - val_loss: 0.0038\n",
      "Epoch 13/50\n",
      "788/788 [==============================] - 18s 23ms/step - loss: 0.0375 - val_loss: 7.0041e-04\n"
     ]
    }
   ],
   "source": [
    "# Treinando o modelo\n",
    "history = model.fit(train_data, train_labels, epochs=EPOCHS, batch_size=BATCH_SIZE, validation_data=(val_data, val_labels), callbacks=[early_stopping])"
   ]
  },
  {
   "cell_type": "code",
   "execution_count": 41,
   "metadata": {},
   "outputs": [],
   "source": [
    "del train_data, train_labels\n",
    "del val_data, val_labels"
   ]
  },
  {
   "cell_type": "code",
   "execution_count": 42,
   "metadata": {},
   "outputs": [
    {
     "name": "stdout",
     "output_type": "stream",
     "text": [
      "132/132 [==============================] - 1s 11ms/step - loss: 4.9748e-04\n",
      "Test Loss: 0.0004974754410795867\n"
     ]
    }
   ],
   "source": [
    "# Avaliando o modelo no conjunto de teste\n",
    "loss = model.evaluate(test_data, test_labels)\n",
    "print(\"Test Loss:\", loss)"
   ]
  },
  {
   "cell_type": "code",
   "execution_count": 43,
   "metadata": {},
   "outputs": [
    {
     "name": "stdout",
     "output_type": "stream",
     "text": [
      "132/132 [==============================] - 2s 10ms/step\n"
     ]
    }
   ],
   "source": [
    "predicts = model.predict(test_data)"
   ]
  },
  {
   "cell_type": "code",
   "execution_count": 44,
   "metadata": {},
   "outputs": [
    {
     "data": {
      "text/plain": [
       "array([[ 1.00628  ],\n",
       "       [ 1.020525 ],\n",
       "       [-1.0359256],\n",
       "       ...,\n",
       "       [ 1.0047059],\n",
       "       [ 1.0053558],\n",
       "       [ 1.0159817]], dtype=float32)"
      ]
     },
     "execution_count": 44,
     "metadata": {},
     "output_type": "execute_result"
    }
   ],
   "source": [
    "predicts"
   ]
  },
  {
   "cell_type": "markdown",
   "metadata": {},
   "source": [
    "Transformando as predições em uma numpy array unidimensional:"
   ]
  },
  {
   "cell_type": "code",
   "execution_count": 45,
   "metadata": {},
   "outputs": [
    {
     "data": {
      "text/plain": [
       "array([ 1.00628  ,  1.020525 , -1.0359256, ...,  1.0047059,  1.0053558,\n",
       "        1.0159817], dtype=float32)"
      ]
     },
     "execution_count": 45,
     "metadata": {},
     "output_type": "execute_result"
    }
   ],
   "source": [
    "predicts_1d = np.array([predict[0] for predict in predicts])\n",
    "predicts_1d"
   ]
  },
  {
   "cell_type": "code",
   "execution_count": 46,
   "metadata": {},
   "outputs": [],
   "source": [
    "def plot_precision_recall_curve(y_true, y_score):\n",
    "    precision, recall, _ = precision_recall_curve(y_true, y_score)\n",
    "    plt.plot(recall, precision, marker='.')\n",
    "    plt.xlabel('Recall')\n",
    "    plt.ylabel('Precision')\n",
    "    plt.title('Precision-Recall Curve')\n",
    "    plt.show()"
   ]
  },
  {
   "cell_type": "code",
   "execution_count": 47,
   "metadata": {},
   "outputs": [
    {
     "data": {
      "image/png": "[encoded data removed]",
      "text/plain": [
       "<Figure size 640x480 with 1 Axes>"
      ]
     },
     "metadata": {},
     "output_type": "display_data"
    }
   ],
   "source": [
    "plot_precision_recall_curve(test_labels, predicts_1d)"
   ]
  },
  {
   "cell_type": "code",
   "execution_count": 48,
   "metadata": {},
   "outputs": [],
   "source": [
    "def plot_roc_curve(y_true, y_score, max_fpr=1.0):\n",
    "  fpr, tpr, thresholds = roc_curve(y_true, y_score)\n",
    "  aucroc = roc_auc_score(y_true, y_score)\n",
    "  plt.plot(100*fpr[fpr < max_fpr], 100*tpr[fpr < max_fpr], label=f'ROC Curve (AUC = {aucroc:.4f})')\n",
    "  plt.xlim(-2,102)\n",
    "  plt.xlabel('FPR (%)')\n",
    "  plt.ylabel('TPR (%)')\n",
    "  plt.legend()\n",
    "  plt.title('ROC Curve and AUCROC')"
   ]
  },
  {
   "cell_type": "code",
   "execution_count": 49,
   "metadata": {},
   "outputs": [
    {
     "data": {
      "image/png": "[encoded data removed]",
      "text/plain": [
       "<Figure size 640x480 with 1 Axes>"
      ]
     },
     "metadata": {},
     "output_type": "display_data"
    }
   ],
   "source": [
    "plot_roc_curve(test_labels, predicts_1d)"
   ]
  },
  {
   "cell_type": "markdown",
   "metadata": {},
   "source": [
    "Transformando todos os valores de predições acima de 0 em 1, enquanto os outros recebem a função round(), ou seja, serão arredondados pro número inteiro mais próximo. Após isso, os números que forem iguais a 0, serão transformados em -1. É como se todo mundo igual ou menor que 0, fosse malicioso, mas 0 não é um valor malicioso de label, é mais como se fosse um threshold, então nada deve ser igual a 0. Esse problema é minimizado em classificações binárias."
   ]
  },
  {
   "cell_type": "code",
   "execution_count": 50,
   "metadata": {},
   "outputs": [
    {
     "data": {
      "text/plain": [
       "array([ 1.,  1., -1., ...,  1.,  1.,  1.], dtype=float32)"
      ]
     },
     "execution_count": 50,
     "metadata": {},
     "output_type": "execute_result"
    }
   ],
   "source": [
    "predicts_1d = np.where(predicts_1d > 0, 1, np.round(predicts_1d))\n",
    "predicts_1d = np.where(predicts_1d == 0, -1, predicts_1d)\n",
    "predicts_1d"
   ]
  },
  {
   "cell_type": "code",
   "execution_count": 51,
   "metadata": {},
   "outputs": [],
   "source": [
    "def plot_confusion_matrix(y_true, y_pred):\n",
    "  cm = confusion_matrix(y_true, y_pred)\n",
    "  group_counts = [f'{value:.0f}' for value in confusion_matrix(y_true, y_pred).ravel()]\n",
    "  group_percentages = [f'{value*100:.2f}%' for value in confusion_matrix(y_true, y_pred).ravel()/np.sum(cm)]\n",
    "  labels = [f'{v1}\\n{v2}' for v1, v2 in zip(group_counts, group_percentages)]\n",
    "  labels = np.array(labels).reshape(2,2)\n",
    "  sns.heatmap(cm, annot=labels, cmap='Oranges', xticklabels=['Predicted Benign', 'Predicted Malicious'], yticklabels=['Actual Benign', 'Actual Malicious'], fmt='')\n",
    "  return"
   ]
  },
  {
   "cell_type": "code",
   "execution_count": 52,
   "metadata": {},
   "outputs": [
    {
     "data": {
      "image/png": "[encoded data removed]",
      "text/plain": [
       "<Figure size 640x480 with 2 Axes>"
      ]
     },
     "metadata": {},
     "output_type": "display_data"
    }
   ],
   "source": [
    "plot_confusion_matrix(test_labels, predicts_1d)"
   ]
  },
  {
   "cell_type": "code",
   "execution_count": 53,
   "metadata": {},
   "outputs": [],
   "source": [
    "def get_overall_metrics(y_true, y_pred):\n",
    "  tn, fp, fn, tp = confusion_matrix(y_true, y_pred).ravel()\n",
    "  acc = (tp+tn)/(tp+tn+fp+fn)\n",
    "  tpr = tp/(tp+fn)\n",
    "  fpr = fp/(fp+tn)\n",
    "  precision = tp/(tp+fp)\n",
    "  f1 = (2*tpr*precision)/(tpr+precision)\n",
    "  return {'acc':acc,'tpr':tpr,'fpr':fpr,'precision':precision,'f1-score':f1}"
   ]
  },
  {
   "cell_type": "code",
   "execution_count": 54,
   "metadata": {},
   "outputs": [
    {
     "data": {
      "text/plain": [
       "{'acc': 1.0, 'tpr': 1.0, 'fpr': 0.0, 'precision': 1.0, 'f1-score': 1.0}"
      ]
     },
     "execution_count": 54,
     "metadata": {},
     "output_type": "execute_result"
    }
   ],
   "source": [
    "get_overall_metrics(test_labels, predicts_1d)"
   ]
  },
  {
   "cell_type": "code",
   "execution_count": 55,
   "metadata": {},
   "outputs": [],
   "source": [
    "del test_data, test_labels"
   ]
  },
  {
   "cell_type": "code",
   "execution_count": 56,
   "metadata": {},
   "outputs": [],
   "source": [
    "#model.save(f'models/model_LSTM_{s_OR_ns}_{classifier_type}_ws{WINDOW_SIZE}.keras')"
   ]
  },
  {
   "cell_type": "code",
   "execution_count": 57,
   "metadata": {},
   "outputs": [],
   "source": [
    "#dump(scaler, f\"models/scalers/scaler_model_LSTM_{s_OR_ns}_{classifier_type}_ws{WINDOW_SIZE}\")"
   ]
  },
  {
   "cell_type": "code",
   "execution_count": 58,
   "metadata": {},
   "outputs": [],
   "source": [
    "del history\n",
    "del loss\n",
    "del predicts\n",
    "del predicts_1d"
   ]
  },
  {
   "cell_type": "markdown",
   "metadata": {},
   "source": [
    "## LSTM (não-supervisionado) (NÃO TERMINADO!!!)"
   ]
  },
  {
   "cell_type": "code",
   "execution_count": 59,
   "metadata": {},
   "outputs": [],
   "source": [
    "s_OR_ns = \"ns\"\n",
    "classifier_type = \"bc\""
   ]
  },
  {
   "cell_type": "code",
   "execution_count": 60,
   "metadata": {},
   "outputs": [],
   "source": [
    "FEATURES_COUNT = train_data_2.shape[2]"
   ]
  },
  {
   "cell_type": "code",
   "execution_count": 61,
   "metadata": {},
   "outputs": [],
   "source": [
    "# Construindo o modelo Autoencoder LSTM\n",
    "inputs = Input(shape=(WINDOW_SIZE, FEATURES_COUNT))\n",
    "encoded = LSTM(50, activation='tanh', return_sequences=False)(inputs)  # Codificador\n",
    "decoded = RepeatVector(WINDOW_SIZE)(encoded)  # Decodificador\n",
    "decoded = LSTM(FEATURES_COUNT, return_sequences=True)(decoded)\n",
    "\n",
    "# Adicionando Dropout e Normalização em Batch\n",
    "decoded = Dropout(0.1)(decoded)\n",
    "decoded = BatchNormalization()(decoded)\n",
    "\n",
    "# Camada de saída\n",
    "outputs = Dense(FEATURES_COUNT, kernel_regularizer=l2(0.0000001))(decoded)\n",
    "\n",
    "# Compilando o modelo\n",
    "model = Model(inputs, outputs)\n",
    "model.compile(optimizer=Adam(learning_rate=0.004), loss='mse')"
   ]
  },
  {
   "cell_type": "code",
   "execution_count": 62,
   "metadata": {},
   "outputs": [],
   "source": [
    "PATIENCE = 4"
   ]
  },
  {
   "cell_type": "code",
   "execution_count": 63,
   "metadata": {},
   "outputs": [],
   "source": [
    "early_stopping = EarlyStopping(monitor='val_loss', patience=PATIENCE, restore_best_weights=True)"
   ]
  },
  {
   "cell_type": "code",
   "execution_count": 64,
   "metadata": {},
   "outputs": [],
   "source": [
    "EPOCHS = 50\n",
    "BATCH_SIZE = 32 #padrão: batch_size=32"
   ]
  },
  {
   "cell_type": "code",
   "execution_count": 65,
   "metadata": {},
   "outputs": [
    {
     "name": "stdout",
     "output_type": "stream",
     "text": [
      "Epoch 1/50\n",
      "212/212 [==============================] - 12s 47ms/step - loss: 0.1470 - val_loss: 0.1427\n",
      "Epoch 2/50\n",
      "212/212 [==============================] - 9s 43ms/step - loss: 0.0990 - val_loss: 0.1333\n",
      "Epoch 3/50\n",
      "212/212 [==============================] - 9s 43ms/step - loss: 0.0988 - val_loss: 0.1162\n",
      "Epoch 4/50\n",
      "212/212 [==============================] - 9s 41ms/step - loss: 0.0985 - val_loss: 0.1098\n",
      "Epoch 5/50\n",
      "212/212 [==============================] - 9s 43ms/step - loss: 0.0984 - val_loss: 0.1118\n",
      "Epoch 6/50\n",
      "212/212 [==============================] - 9s 45ms/step - loss: 0.0982 - val_loss: 0.1103\n",
      "Epoch 7/50\n",
      "212/212 [==============================] - 9s 44ms/step - loss: 0.0982 - val_loss: 0.1147\n",
      "Epoch 8/50\n",
      "212/212 [==============================] - 9s 41ms/step - loss: 0.0982 - val_loss: 0.1095\n",
      "Epoch 9/50\n",
      "212/212 [==============================] - 9s 43ms/step - loss: 0.0981 - val_loss: 0.1090\n",
      "Epoch 10/50\n",
      "212/212 [==============================] - 9s 41ms/step - loss: 0.0982 - val_loss: 0.1111\n",
      "Epoch 11/50\n",
      "212/212 [==============================] - 9s 41ms/step - loss: 0.0981 - val_loss: 0.1100\n",
      "Epoch 12/50\n",
      "212/212 [==============================] - 9s 41ms/step - loss: 0.0981 - val_loss: 0.1096\n",
      "Epoch 13/50\n",
      "212/212 [==============================] - 9s 41ms/step - loss: 0.0980 - val_loss: 0.1092\n"
     ]
    }
   ],
   "source": [
    "history = model.fit(train_data_2, train_data_2, epochs=EPOCHS, batch_size=BATCH_SIZE, validation_split=0.2, callbacks=[early_stopping])"
   ]
  },
  {
   "cell_type": "code",
   "execution_count": 66,
   "metadata": {},
   "outputs": [
    {
     "name": "stdout",
     "output_type": "stream",
     "text": [
      "786/786 [==============================] - 12s 14ms/step\n"
     ]
    }
   ],
   "source": [
    "predicts = model.predict(test_data_2)"
   ]
  },
  {
   "cell_type": "code",
   "execution_count": 67,
   "metadata": {},
   "outputs": [
    {
     "data": {
      "text/plain": [
       "array([[[2.29821559e-02, 6.06517434e-01, 9.09691930e-01, ...,\n",
       "         3.07983786e-01, 3.02119642e-01, 3.08251947e-01],\n",
       "        [2.63870042e-02, 6.02649689e-01, 9.10320163e-01, ...,\n",
       "         3.05351079e-01, 3.15804482e-01, 3.09749663e-01],\n",
       "        [2.77741645e-02, 6.01440072e-01, 9.10914421e-01, ...,\n",
       "         3.04267138e-01, 3.22329044e-01, 3.10774386e-01],\n",
       "        ...,\n",
       "        [2.87136454e-02, 6.01336002e-01, 9.11996841e-01, ...,\n",
       "         3.03570390e-01, 3.28138083e-01, 3.12165052e-01],\n",
       "        [2.87136454e-02, 6.01336002e-01, 9.11996841e-01, ...,\n",
       "         3.03570390e-01, 3.28138083e-01, 3.12165052e-01],\n",
       "        [2.87136454e-02, 6.01336002e-01, 9.11996841e-01, ...,\n",
       "         3.03570390e-01, 3.28138083e-01, 3.12165052e-01]],\n",
       "\n",
       "       [[2.26068776e-02, 6.08795643e-01, 9.10269022e-01, ...,\n",
       "         3.09359908e-01, 3.04114163e-01, 3.09873879e-01],\n",
       "        [2.58648191e-02, 6.06169462e-01, 9.11449671e-01, ...,\n",
       "         3.07426572e-01, 3.18721354e-01, 3.12206447e-01],\n",
       "        [2.71960218e-02, 6.05615020e-01, 9.12421584e-01, ...,\n",
       "         3.06693852e-01, 3.25662285e-01, 3.13651443e-01],\n",
       "        ...,\n",
       "        [2.81057637e-02, 6.06185615e-01, 9.13995028e-01, ...,\n",
       "         3.06338936e-01, 3.31790447e-01, 3.15444350e-01],\n",
       "        [2.81057637e-02, 6.06185615e-01, 9.13995028e-01, ...,\n",
       "         3.06338936e-01, 3.31790447e-01, 3.15444350e-01],\n",
       "        [2.81057637e-02, 6.06185615e-01, 9.13995028e-01, ...,\n",
       "         3.06338936e-01, 3.31790447e-01, 3.15444350e-01]],\n",
       "\n",
       "       [[2.22952273e-02, 6.10001326e-01, 9.10638452e-01, ...,\n",
       "         3.10547113e-01, 3.06314677e-01, 3.10975194e-01],\n",
       "        [2.54233386e-02, 6.08077645e-01, 9.12203789e-01, ...,\n",
       "         3.09199870e-01, 3.21935296e-01, 3.13889295e-01],\n",
       "        [2.67001782e-02, 6.07909083e-01, 9.13443208e-01, ...,\n",
       "         3.08754981e-01, 3.29333842e-01, 3.15631807e-01],\n",
       "        ...,\n",
       "        [2.75699478e-02, 6.08891368e-01, 9.15362835e-01, ...,\n",
       "         3.08672547e-01, 3.35818708e-01, 3.17713708e-01],\n",
       "        [2.75699478e-02, 6.08891368e-01, 9.15362835e-01, ...,\n",
       "         3.08672547e-01, 3.35818708e-01, 3.17713708e-01],\n",
       "        [2.75699478e-02, 6.08891368e-01, 9.15362835e-01, ...,\n",
       "         3.08672547e-01, 3.35818708e-01, 3.17713708e-01]],\n",
       "\n",
       "       ...,\n",
       "\n",
       "       [[1.48323085e-02, 4.86286491e-01, 7.46076584e-01, ...,\n",
       "         2.37546101e-01, 2.44186953e-01, 2.39681512e-01],\n",
       "        [1.31563451e-02, 4.05491948e-01, 6.46660566e-01, ...,\n",
       "         1.94850415e-01, 2.30903119e-01, 1.99875712e-01],\n",
       "        [1.12298895e-02, 3.55990767e-01, 5.86358547e-01, ...,\n",
       "         1.70940593e-01, 2.25902930e-01, 1.76394820e-01],\n",
       "        ...,\n",
       "        [6.69117831e-03, 2.80954421e-01, 4.95764017e-01, ...,\n",
       "         1.39386579e-01, 2.31382698e-01, 1.44188732e-01],\n",
       "        [6.69117831e-03, 2.80954421e-01, 4.95764017e-01, ...,\n",
       "         1.39386579e-01, 2.31382698e-01, 1.44188732e-01],\n",
       "        [6.69117831e-03, 2.80954421e-01, 4.95764017e-01, ...,\n",
       "         1.39386579e-01, 2.31382698e-01, 1.44188732e-01]],\n",
       "\n",
       "       [[1.71747822e-02, 4.86465871e-01, 7.47442484e-01, ...,\n",
       "         2.36854225e-01, 2.42624193e-01, 2.38076121e-01],\n",
       "        [1.70616563e-02, 4.06042695e-01, 6.49300814e-01, ...,\n",
       "         1.93836391e-01, 2.28416204e-01, 1.97379827e-01],\n",
       "        [1.61532853e-02, 3.56921762e-01, 5.90024352e-01, ...,\n",
       "         1.69779330e-01, 2.22832233e-01, 1.73408389e-01],\n",
       "        ...,\n",
       "        [1.32544469e-02, 2.82928348e-01, 5.01769245e-01, ...,\n",
       "         1.38171241e-01, 2.26997003e-01, 1.40604526e-01],\n",
       "        [1.32544469e-02, 2.82928348e-01, 5.01769245e-01, ...,\n",
       "         1.38171241e-01, 2.26997003e-01, 1.40604526e-01],\n",
       "        [1.32544469e-02, 2.82928348e-01, 5.01769245e-01, ...,\n",
       "         1.38171241e-01, 2.26997003e-01, 1.40604526e-01]],\n",
       "\n",
       "       [[1.13056768e-02, 4.81367588e-01, 7.38227665e-01, ...,\n",
       "         2.37860441e-01, 2.45450810e-01, 2.38639414e-01],\n",
       "        [7.99276493e-03, 3.99269462e-01, 6.36518300e-01, ...,\n",
       "         1.95923671e-01, 2.33211190e-01, 1.98820114e-01],\n",
       "        [5.34175150e-03, 3.49968225e-01, 5.76248467e-01, ...,\n",
       "         1.72792718e-01, 2.28835747e-01, 1.75674736e-01],\n",
       "        ...,\n",
       "        [1.75224617e-04, 2.78470278e-01, 4.90457863e-01, ...,\n",
       "         1.43735498e-01, 2.33871356e-01, 1.45011693e-01],\n",
       "        [1.75224617e-04, 2.78470278e-01, 4.90457863e-01, ...,\n",
       "         1.43735498e-01, 2.33871356e-01, 1.45011693e-01],\n",
       "        [1.75224617e-04, 2.78470278e-01, 4.90457863e-01, ...,\n",
       "         1.43735498e-01, 2.33871356e-01, 1.45011693e-01]]], dtype=float32)"
      ]
     },
     "execution_count": 67,
     "metadata": {},
     "output_type": "execute_result"
    }
   ],
   "source": [
    "predicts"
   ]
  },
  {
   "cell_type": "code",
   "execution_count": 68,
   "metadata": {},
   "outputs": [],
   "source": [
    "def mean_square_error(original_data, predicted_data, threshold):\n",
    "    \"\"\"\n",
    "    Função para classificar as amostras como benignas (1) ou malignas (-1) com base no erro de reconstrução.\n",
    "\n",
    "    Parâmetros:\n",
    "        original_data (numpy.array): Os dados originais.\n",
    "        predicted_data (numpy.array): As previsões geradas pelo modelo autoencoder.\n",
    "        threshold (float): O limiar de decisão para classificar as amostras.\n",
    "\n",
    "    Retorna:\n",
    "        numpy.array: Um array de classificação binária para cada amostra.\n",
    "    \"\"\"\n",
    "    # Calcula o erro de reconstrução (MSE) para cada amostra\n",
    "    reconstruction_errors = np.mean(np.square(original_data - predicted_data), axis=(1, 2))\n",
    "\n",
    "    # Classifica as amostras com base no limiar\n",
    "    classifications = np.where(reconstruction_errors < threshold, 1, -1)\n",
    "\n",
    "    return classifications"
   ]
  },
  {
   "cell_type": "code",
   "execution_count": 69,
   "metadata": {},
   "outputs": [],
   "source": [
    "def mean_absolute_error(original_data, reconstructed_data, threshold=0.5):\n",
    "    \n",
    "    \"\"\"\n",
    "    Calcula o Erro Absoluto Médio (MAE) entre os dados originais e reconstruídos.\n",
    "\n",
    "    Args:\n",
    "    - original_data: array NumPy contendo os dados originais.\n",
    "    - reconstructed_data: array NumPy contendo os dados reconstruídos pelo modelo.\n",
    "\n",
    "    Returns:\n",
    "    - mae: o Erro Absoluto Médio entre os dados originais e reconstruídos.\n",
    "    \"\"\"\n",
    "\n",
    "\n",
    "    # Calcula a diferença absoluta entre os dados originais e reconstruídos\n",
    "    # Calcula o MAE como a média da diferença absoluta\n",
    "    mae = np.mean((np.abs(original_data - reconstructed_data)), axis=(1, 2))\n",
    "\n",
    "    classifications = np.where(mae < threshold, 1, -1)\n",
    "\n",
    "    return classifications"
   ]
  },
  {
   "cell_type": "code",
   "execution_count": 70,
   "metadata": {},
   "outputs": [],
   "source": [
    "def find_best_threshold_mse(original_data, predicted_data, proportion, threshold=0.5):\n",
    "    \n",
    "    print(threshold)\n",
    "\n",
    "    reconstruction_errors = np.mean(np.square(original_data - predicted_data), axis=(1, 2))\n",
    "\n",
    "    classifications = np.where(reconstruction_errors < threshold, 1, -1)\n",
    "\n",
    "    if len(classifications[classifications == -1]) / len(classifications) < proportion:\n",
    "        return find_best_threshold(original_data, predicted_data, proportion, 0.5*threshold)\n",
    "    elif len(classifications[classifications == -1]) / len(classifications) > proportion:\n",
    "        return find_best_threshold(original_data, predicted_data, proportion, 1.5*threshold)\n",
    "    else:\n",
    "        return threshold\n",
    "    \n",
    "    #if abs(anomaly_proportion - proportion) < 0.01:\n",
    "    #    break"
   ]
  },
  {
   "cell_type": "code",
   "execution_count": 71,
   "metadata": {},
   "outputs": [
    {
     "name": "stdout",
     "output_type": "stream",
     "text": [
      "0.5\n"
     ]
    }
   ],
   "source": [
    "THRESHOLD = find_best_threshold_mse(test_data_2, predicts, malicious_proportion, 0.5)"
   ]
  },
  {
   "cell_type": "code",
   "execution_count": 72,
   "metadata": {},
   "outputs": [],
   "source": [
    "classifications_mse = mean_square_error(test_data_2, predicts, THRESHOLD)"
   ]
  },
  {
   "cell_type": "code",
   "execution_count": 73,
   "metadata": {},
   "outputs": [
    {
     "data": {
      "text/plain": [
       "0.6626865671641791"
      ]
     },
     "execution_count": 73,
     "metadata": {},
     "output_type": "execute_result"
    }
   ],
   "source": [
    "len(classifications_mse[classifications_mse == -1]) / len(classifications_mse)\n",
    "malicious_proportion"
   ]
  },
  {
   "cell_type": "code",
   "execution_count": 74,
   "metadata": {},
   "outputs": [],
   "source": [
    "#model.save(f'models/model_LSTM_{s_OR_ns}_{classifier_type}_ws{WINDOW_SIZE}_t{THRESHOLD}.keras')"
   ]
  },
  {
   "cell_type": "code",
   "execution_count": 75,
   "metadata": {},
   "outputs": [],
   "source": [
    "#THRESHOLD = str(THRESHOLD).replace(\".\",\",\")"
   ]
  },
  {
   "cell_type": "code",
   "execution_count": 76,
   "metadata": {},
   "outputs": [],
   "source": [
    "#dump(scaler, f\"models/scalers/scaler_model_LSTM_{s_OR_ns}_{classifier_type}_ws{WINDOW_SIZE}_t{THRESHOLD}\")"
   ]
  }
 ],
 "metadata": {
  "kernelspec": {
   "display_name": "Python 3",
   "language": "python",
   "name": "python3"
  },
  "language_info": {
   "codemirror_mode": {
    "name": "ipython",
    "version": 3
   },
   "file_extension": ".py",
   "mimetype": "text/x-python",
   "name": "python",
   "nbconvert_exporter": "python",
   "pygments_lexer": "ipython3",
   "version": "3.11.5"
  }
 },
 "nbformat": 4,
 "nbformat_minor": 2
}
