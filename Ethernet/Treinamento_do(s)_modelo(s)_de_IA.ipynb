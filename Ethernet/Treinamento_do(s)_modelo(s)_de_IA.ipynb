{
 "cells": [
  {
   "cell_type": "code",
   "execution_count": 1,
   "metadata": {},
   "outputs": [],
   "source": [
    "import numpy as np\n",
    "\n",
    "import pandas as pd\n",
    "\n",
    "from tqdm import tqdm\n",
    "\n",
    "import seaborn as sns\n",
    "\n",
    "from joblib import dump#, load\n",
    "\n",
    "import pickle\n",
    "\n",
    "import matplotlib.pyplot as plt\n",
    "\n",
    "from sklearn.metrics import confusion_matrix, roc_auc_score, roc_curve, precision_recall_curve\n",
    "from sklearn.preprocessing import MinMaxScaler#, StandardScaler\n",
    "from sklearn.model_selection import train_test_split\n",
    "\n",
    "from keras.callbacks import EarlyStopping\n",
    "from keras.models import Model, Sequential#, load_model\n",
    "from keras.layers import Input, LSTM, RepeatVector, Dense, Dropout, BatchNormalization\n",
    "from keras.regularizers import l2\n",
    "from keras.optimizers import Adam"
   ]
  },
  {
   "cell_type": "markdown",
   "metadata": {},
   "source": [
    "Definindo o tema do seaborn:"
   ]
  },
  {
   "cell_type": "code",
   "execution_count": 2,
   "metadata": {},
   "outputs": [],
   "source": [
    "sns.set_theme()"
   ]
  },
  {
   "cell_type": "markdown",
   "metadata": {},
   "source": [
    "Definição da SEED:"
   ]
  },
  {
   "cell_type": "code",
   "execution_count": 3,
   "metadata": {},
   "outputs": [],
   "source": [
    "RANDOM_SEED = 42\n",
    "\n",
    "np.random.seed(RANDOM_SEED) # Numpy"
   ]
  },
  {
   "cell_type": "markdown",
   "metadata": {},
   "source": [
    "# Carregando os dados"
   ]
  },
  {
   "cell_type": "markdown",
   "metadata": {},
   "source": [
    "Os valores são números muito pequenos com muitas casas decimais, por isso é bom que o dataframe consiga representar isso também."
   ]
  },
  {
   "cell_type": "code",
   "execution_count": 4,
   "metadata": {},
   "outputs": [],
   "source": [
    "pd.set_option('display.float_format', '{:.20f}'.format)"
   ]
  },
  {
   "cell_type": "markdown",
   "metadata": {},
   "source": [
    "Carregando os dados:"
   ]
  },
  {
   "cell_type": "code",
   "execution_count": 5,
   "metadata": {},
   "outputs": [
    {
     "name": "stderr",
     "output_type": "stream",
     "text": [
      "<>:1: SyntaxWarning: invalid escape sequence '\\D'\n",
      "<>:1: SyntaxWarning: invalid escape sequence '\\D'\n",
      "C:\\Users\\henri\\AppData\\Local\\Temp\\ipykernel_104404\\519012802.py:1: SyntaxWarning: invalid escape sequence '\\D'\n",
      "  df_benign = pd.read_csv(\"data\\Dados Benignos\\Dados Benignos 2024_6_26-18h_06m_17s\\Dados Benignos.csv\")\n"
     ]
    }
   ],
   "source": [
    "df_benign = pd.read_csv(\"data\\Dados Benignos\\Dados Benignos 2024_6_26-18h_06m_17s\\Dados Benignos.csv\")"
   ]
  },
  {
   "cell_type": "code",
   "execution_count": 6,
   "metadata": {},
   "outputs": [
    {
     "name": "stderr",
     "output_type": "stream",
     "text": [
      "<>:1: SyntaxWarning: invalid escape sequence '\\A'\n",
      "<>:2: SyntaxWarning: invalid escape sequence '\\A'\n",
      "<>:3: SyntaxWarning: invalid escape sequence '\\A'\n",
      "<>:4: SyntaxWarning: invalid escape sequence '\\A'\n",
      "<>:1: SyntaxWarning: invalid escape sequence '\\A'\n",
      "<>:2: SyntaxWarning: invalid escape sequence '\\A'\n",
      "<>:3: SyntaxWarning: invalid escape sequence '\\A'\n",
      "<>:4: SyntaxWarning: invalid escape sequence '\\A'\n",
      "C:\\Users\\henri\\AppData\\Local\\Temp\\ipykernel_104404\\604311421.py:1: SyntaxWarning: invalid escape sequence '\\A'\n",
      "  df_drop_packets = pd.read_csv(\"data\\Ataques\\Drop Packets 2024_7_1-18h_57m_17s\\Drop Packets.csv\")\n",
      "C:\\Users\\henri\\AppData\\Local\\Temp\\ipykernel_104404\\604311421.py:2: SyntaxWarning: invalid escape sequence '\\A'\n",
      "  df_delay = pd.read_csv(\"data\\Ataques\\Delay 2024_7_1-19h_02m_29s\\Delay.csv\")\n",
      "C:\\Users\\henri\\AppData\\Local\\Temp\\ipykernel_104404\\604311421.py:3: SyntaxWarning: invalid escape sequence '\\A'\n",
      "  df_out_of_sequence = pd.read_csv(\"data\\Ataques\\Out of Sequence 2024_7_1-19h_07m_28s\\Out of Sequence.csv\")\n",
      "C:\\Users\\henri\\AppData\\Local\\Temp\\ipykernel_104404\\604311421.py:4: SyntaxWarning: invalid escape sequence '\\A'\n",
      "  df_transmit_timestamp_jitter = pd.read_csv(\"data\\Ataques\\Transmit Timestamp Jitter 2024_6_26-18h_53m_22s\\Transmit Timestamp Jitter.csv\")\n"
     ]
    }
   ],
   "source": [
    "df_drop_packets = pd.read_csv(\"data\\Ataques\\Drop Packets 2024_7_1-18h_57m_17s\\Drop Packets.csv\")\n",
    "df_delay = pd.read_csv(\"data\\Ataques\\Delay 2024_7_1-19h_02m_29s\\Delay.csv\")\n",
    "df_out_of_sequence = pd.read_csv(\"data\\Ataques\\Out of Sequence 2024_7_1-19h_07m_28s\\Out of Sequence.csv\")\n",
    "df_transmit_timestamp_jitter = pd.read_csv(\"data\\Ataques\\Transmit Timestamp Jitter 2024_6_26-18h_53m_22s\\Transmit Timestamp Jitter.csv\")"
   ]
  },
  {
   "cell_type": "code",
   "execution_count": 7,
   "metadata": {},
   "outputs": [
    {
     "data": {
      "text/html": [
       "<div>\n",
       "<style scoped>\n",
       "    .dataframe tbody tr th:only-of-type {\n",
       "        vertical-align: middle;\n",
       "    }\n",
       "\n",
       "    .dataframe tbody tr th {\n",
       "        vertical-align: top;\n",
       "    }\n",
       "\n",
       "    .dataframe thead th {\n",
       "        text-align: right;\n",
       "    }\n",
       "</style>\n",
       "<table border=\"1\" class=\"dataframe\">\n",
       "  <thead>\n",
       "    <tr style=\"text-align: right;\">\n",
       "      <th></th>\n",
       "      <th>Rel Time</th>\n",
       "      <th>Length</th>\n",
       "      <th>Data_1</th>\n",
       "      <th>Data_2</th>\n",
       "      <th>Data_3</th>\n",
       "      <th>Data_4</th>\n",
       "      <th>Data_5</th>\n",
       "      <th>Data_6</th>\n",
       "      <th>Data_7</th>\n",
       "      <th>Data_8</th>\n",
       "      <th>...</th>\n",
       "      <th>Data_44</th>\n",
       "      <th>Data_45</th>\n",
       "      <th>Data_46</th>\n",
       "      <th>Data_47</th>\n",
       "      <th>Data_48</th>\n",
       "      <th>Data_49</th>\n",
       "      <th>Data_50</th>\n",
       "      <th>Data_51</th>\n",
       "      <th>Data_52</th>\n",
       "      <th>Data_53</th>\n",
       "    </tr>\n",
       "  </thead>\n",
       "  <tbody>\n",
       "    <tr>\n",
       "      <th>0</th>\n",
       "      <td>0.00000000000000000000</td>\n",
       "      <td>170</td>\n",
       "      <td>37159</td>\n",
       "      <td>37159</td>\n",
       "      <td>36947</td>\n",
       "      <td>35264</td>\n",
       "      <td>36740</td>\n",
       "      <td>33886</td>\n",
       "      <td>36538</td>\n",
       "      <td>33050</td>\n",
       "      <td>...</td>\n",
       "      <td>19947</td>\n",
       "      <td>33675</td>\n",
       "      <td>23169</td>\n",
       "      <td>33577</td>\n",
       "      <td>25995</td>\n",
       "      <td>33486</td>\n",
       "      <td>28377</td>\n",
       "      <td>33399</td>\n",
       "      <td>30272</td>\n",
       "      <td>33318</td>\n",
       "    </tr>\n",
       "    <tr>\n",
       "      <th>1</th>\n",
       "      <td>0.00066600000000000003</td>\n",
       "      <td>170</td>\n",
       "      <td>32949</td>\n",
       "      <td>28377</td>\n",
       "      <td>32907</td>\n",
       "      <td>25995</td>\n",
       "      <td>32871</td>\n",
       "      <td>23169</td>\n",
       "      <td>32840</td>\n",
       "      <td>19947</td>\n",
       "      <td>...</td>\n",
       "      <td>33050</td>\n",
       "      <td>33318</td>\n",
       "      <td>33886</td>\n",
       "      <td>33399</td>\n",
       "      <td>35264</td>\n",
       "      <td>33486</td>\n",
       "      <td>37159</td>\n",
       "      <td>33577</td>\n",
       "      <td>39541</td>\n",
       "      <td>33675</td>\n",
       "    </tr>\n",
       "    <tr>\n",
       "      <th>2</th>\n",
       "      <td>0.00066699999999999995</td>\n",
       "      <td>170</td>\n",
       "      <td>34373</td>\n",
       "      <td>0</td>\n",
       "      <td>34508</td>\n",
       "      <td>4276</td>\n",
       "      <td>34649</td>\n",
       "      <td>8480</td>\n",
       "      <td>34795</td>\n",
       "      <td>12539</td>\n",
       "      <td>...</td>\n",
       "      <td>12539</td>\n",
       "      <td>38532</td>\n",
       "      <td>8480</td>\n",
       "      <td>38778</td>\n",
       "      <td>4276</td>\n",
       "      <td>39027</td>\n",
       "      <td>0</td>\n",
       "      <td>39282</td>\n",
       "      <td>61260</td>\n",
       "      <td>39541</td>\n",
       "    </tr>\n",
       "    <tr>\n",
       "      <th>3</th>\n",
       "      <td>0.00066699999999999995</td>\n",
       "      <td>170</td>\n",
       "      <td>41186</td>\n",
       "      <td>37159</td>\n",
       "      <td>41475</td>\n",
       "      <td>35264</td>\n",
       "      <td>41768</td>\n",
       "      <td>33886</td>\n",
       "      <td>42065</td>\n",
       "      <td>33050</td>\n",
       "      <td>...</td>\n",
       "      <td>19947</td>\n",
       "      <td>48416</td>\n",
       "      <td>23169</td>\n",
       "      <td>48783</td>\n",
       "      <td>25995</td>\n",
       "      <td>49153</td>\n",
       "      <td>28377</td>\n",
       "      <td>49526</td>\n",
       "      <td>30272</td>\n",
       "      <td>49901</td>\n",
       "    </tr>\n",
       "    <tr>\n",
       "      <th>4</th>\n",
       "      <td>0.00066600000000000003</td>\n",
       "      <td>170</td>\n",
       "      <td>52209</td>\n",
       "      <td>28377</td>\n",
       "      <td>52602</td>\n",
       "      <td>25995</td>\n",
       "      <td>52997</td>\n",
       "      <td>23169</td>\n",
       "      <td>53394</td>\n",
       "      <td>19947</td>\n",
       "      <td>...</td>\n",
       "      <td>33050</td>\n",
       "      <td>61260</td>\n",
       "      <td>33886</td>\n",
       "      <td>61685</td>\n",
       "      <td>35264</td>\n",
       "      <td>62111</td>\n",
       "      <td>37159</td>\n",
       "      <td>62538</td>\n",
       "      <td>39541</td>\n",
       "      <td>62966</td>\n",
       "    </tr>\n",
       "    <tr>\n",
       "      <th>...</th>\n",
       "      <td>...</td>\n",
       "      <td>...</td>\n",
       "      <td>...</td>\n",
       "      <td>...</td>\n",
       "      <td>...</td>\n",
       "      <td>...</td>\n",
       "      <td>...</td>\n",
       "      <td>...</td>\n",
       "      <td>...</td>\n",
       "      <td>...</td>\n",
       "      <td>...</td>\n",
       "      <td>...</td>\n",
       "      <td>...</td>\n",
       "      <td>...</td>\n",
       "      <td>...</td>\n",
       "      <td>...</td>\n",
       "      <td>...</td>\n",
       "      <td>...</td>\n",
       "      <td>...</td>\n",
       "      <td>...</td>\n",
       "      <td>...</td>\n",
       "    </tr>\n",
       "    <tr>\n",
       "      <th>899836</th>\n",
       "      <td>0.00066600000000000003</td>\n",
       "      <td>170</td>\n",
       "      <td>32949</td>\n",
       "      <td>28377</td>\n",
       "      <td>32907</td>\n",
       "      <td>25995</td>\n",
       "      <td>32871</td>\n",
       "      <td>23169</td>\n",
       "      <td>32840</td>\n",
       "      <td>19947</td>\n",
       "      <td>...</td>\n",
       "      <td>33050</td>\n",
       "      <td>33318</td>\n",
       "      <td>33886</td>\n",
       "      <td>33399</td>\n",
       "      <td>35264</td>\n",
       "      <td>33486</td>\n",
       "      <td>37159</td>\n",
       "      <td>33577</td>\n",
       "      <td>39541</td>\n",
       "      <td>33675</td>\n",
       "    </tr>\n",
       "    <tr>\n",
       "      <th>899837</th>\n",
       "      <td>0.00066699999999999995</td>\n",
       "      <td>170</td>\n",
       "      <td>34373</td>\n",
       "      <td>0</td>\n",
       "      <td>34508</td>\n",
       "      <td>4276</td>\n",
       "      <td>34649</td>\n",
       "      <td>8480</td>\n",
       "      <td>34795</td>\n",
       "      <td>12539</td>\n",
       "      <td>...</td>\n",
       "      <td>12539</td>\n",
       "      <td>38532</td>\n",
       "      <td>8480</td>\n",
       "      <td>38778</td>\n",
       "      <td>4276</td>\n",
       "      <td>39027</td>\n",
       "      <td>0</td>\n",
       "      <td>39282</td>\n",
       "      <td>61260</td>\n",
       "      <td>39541</td>\n",
       "    </tr>\n",
       "    <tr>\n",
       "      <th>899838</th>\n",
       "      <td>0.00066699999999999995</td>\n",
       "      <td>170</td>\n",
       "      <td>41186</td>\n",
       "      <td>37159</td>\n",
       "      <td>41475</td>\n",
       "      <td>35264</td>\n",
       "      <td>41768</td>\n",
       "      <td>33886</td>\n",
       "      <td>42065</td>\n",
       "      <td>33050</td>\n",
       "      <td>...</td>\n",
       "      <td>19947</td>\n",
       "      <td>48416</td>\n",
       "      <td>23169</td>\n",
       "      <td>48783</td>\n",
       "      <td>25995</td>\n",
       "      <td>49153</td>\n",
       "      <td>28377</td>\n",
       "      <td>49526</td>\n",
       "      <td>30272</td>\n",
       "      <td>49901</td>\n",
       "    </tr>\n",
       "    <tr>\n",
       "      <th>899839</th>\n",
       "      <td>0.00066699999999999995</td>\n",
       "      <td>170</td>\n",
       "      <td>52209</td>\n",
       "      <td>28377</td>\n",
       "      <td>52602</td>\n",
       "      <td>25995</td>\n",
       "      <td>52997</td>\n",
       "      <td>23169</td>\n",
       "      <td>53394</td>\n",
       "      <td>19947</td>\n",
       "      <td>...</td>\n",
       "      <td>33050</td>\n",
       "      <td>61260</td>\n",
       "      <td>33886</td>\n",
       "      <td>61685</td>\n",
       "      <td>35264</td>\n",
       "      <td>62111</td>\n",
       "      <td>37159</td>\n",
       "      <td>62538</td>\n",
       "      <td>39541</td>\n",
       "      <td>62966</td>\n",
       "    </tr>\n",
       "    <tr>\n",
       "      <th>899840</th>\n",
       "      <td>0.00066600000000000003</td>\n",
       "      <td>170</td>\n",
       "      <td>0</td>\n",
       "      <td>0</td>\n",
       "      <td>428</td>\n",
       "      <td>4276</td>\n",
       "      <td>857</td>\n",
       "      <td>8480</td>\n",
       "      <td>1286</td>\n",
       "      <td>12539</td>\n",
       "      <td>...</td>\n",
       "      <td>12539</td>\n",
       "      <td>9306</td>\n",
       "      <td>8480</td>\n",
       "      <td>9716</td>\n",
       "      <td>4276</td>\n",
       "      <td>10125</td>\n",
       "      <td>0</td>\n",
       "      <td>10532</td>\n",
       "      <td>61260</td>\n",
       "      <td>10937</td>\n",
       "    </tr>\n",
       "  </tbody>\n",
       "</table>\n",
       "<p>899841 rows × 55 columns</p>\n",
       "</div>"
      ],
      "text/plain": [
       "                     Rel Time  Length  Data_1  Data_2  Data_3  Data_4  Data_5  \\\n",
       "0      0.00000000000000000000     170   37159   37159   36947   35264   36740   \n",
       "1      0.00066600000000000003     170   32949   28377   32907   25995   32871   \n",
       "2      0.00066699999999999995     170   34373       0   34508    4276   34649   \n",
       "3      0.00066699999999999995     170   41186   37159   41475   35264   41768   \n",
       "4      0.00066600000000000003     170   52209   28377   52602   25995   52997   \n",
       "...                       ...     ...     ...     ...     ...     ...     ...   \n",
       "899836 0.00066600000000000003     170   32949   28377   32907   25995   32871   \n",
       "899837 0.00066699999999999995     170   34373       0   34508    4276   34649   \n",
       "899838 0.00066699999999999995     170   41186   37159   41475   35264   41768   \n",
       "899839 0.00066699999999999995     170   52209   28377   52602   25995   52997   \n",
       "899840 0.00066600000000000003     170       0       0     428    4276     857   \n",
       "\n",
       "        Data_6  Data_7  Data_8  ...  Data_44  Data_45  Data_46  Data_47  \\\n",
       "0        33886   36538   33050  ...    19947    33675    23169    33577   \n",
       "1        23169   32840   19947  ...    33050    33318    33886    33399   \n",
       "2         8480   34795   12539  ...    12539    38532     8480    38778   \n",
       "3        33886   42065   33050  ...    19947    48416    23169    48783   \n",
       "4        23169   53394   19947  ...    33050    61260    33886    61685   \n",
       "...        ...     ...     ...  ...      ...      ...      ...      ...   \n",
       "899836   23169   32840   19947  ...    33050    33318    33886    33399   \n",
       "899837    8480   34795   12539  ...    12539    38532     8480    38778   \n",
       "899838   33886   42065   33050  ...    19947    48416    23169    48783   \n",
       "899839   23169   53394   19947  ...    33050    61260    33886    61685   \n",
       "899840    8480    1286   12539  ...    12539     9306     8480     9716   \n",
       "\n",
       "        Data_48  Data_49  Data_50  Data_51  Data_52  Data_53  \n",
       "0         25995    33486    28377    33399    30272    33318  \n",
       "1         35264    33486    37159    33577    39541    33675  \n",
       "2          4276    39027        0    39282    61260    39541  \n",
       "3         25995    49153    28377    49526    30272    49901  \n",
       "4         35264    62111    37159    62538    39541    62966  \n",
       "...         ...      ...      ...      ...      ...      ...  \n",
       "899836    35264    33486    37159    33577    39541    33675  \n",
       "899837     4276    39027        0    39282    61260    39541  \n",
       "899838    25995    49153    28377    49526    30272    49901  \n",
       "899839    35264    62111    37159    62538    39541    62966  \n",
       "899840     4276    10125        0    10532    61260    10937  \n",
       "\n",
       "[899841 rows x 55 columns]"
      ]
     },
     "execution_count": 7,
     "metadata": {},
     "output_type": "execute_result"
    }
   ],
   "source": [
    "df_benign"
   ]
  },
  {
   "cell_type": "code",
   "execution_count": 8,
   "metadata": {},
   "outputs": [],
   "source": [
    "df_benign = df_benign[[df_benign.columns[0]]]\n",
    "df_drop_packets = df_drop_packets[[df_drop_packets.columns[0]]]\n",
    "df_delay = df_delay[[df_delay.columns[0]]]\n",
    "df_out_of_sequence = df_out_of_sequence[[df_out_of_sequence.columns[0]]]\n",
    "df_transmit_timestamp_jitter = df_transmit_timestamp_jitter[[df_transmit_timestamp_jitter.columns[0]]] "
   ]
  },
  {
   "cell_type": "code",
   "execution_count": 9,
   "metadata": {},
   "outputs": [
    {
     "data": {
      "text/html": [
       "<div>\n",
       "<style scoped>\n",
       "    .dataframe tbody tr th:only-of-type {\n",
       "        vertical-align: middle;\n",
       "    }\n",
       "\n",
       "    .dataframe tbody tr th {\n",
       "        vertical-align: top;\n",
       "    }\n",
       "\n",
       "    .dataframe thead th {\n",
       "        text-align: right;\n",
       "    }\n",
       "</style>\n",
       "<table border=\"1\" class=\"dataframe\">\n",
       "  <thead>\n",
       "    <tr style=\"text-align: right;\">\n",
       "      <th></th>\n",
       "      <th>Rel Time</th>\n",
       "    </tr>\n",
       "  </thead>\n",
       "  <tbody>\n",
       "    <tr>\n",
       "      <th>0</th>\n",
       "      <td>0.00000000000000000000</td>\n",
       "    </tr>\n",
       "    <tr>\n",
       "      <th>1</th>\n",
       "      <td>0.00066600000000000003</td>\n",
       "    </tr>\n",
       "    <tr>\n",
       "      <th>2</th>\n",
       "      <td>0.00066699999999999995</td>\n",
       "    </tr>\n",
       "    <tr>\n",
       "      <th>3</th>\n",
       "      <td>0.00066699999999999995</td>\n",
       "    </tr>\n",
       "    <tr>\n",
       "      <th>4</th>\n",
       "      <td>0.00066600000000000003</td>\n",
       "    </tr>\n",
       "    <tr>\n",
       "      <th>...</th>\n",
       "      <td>...</td>\n",
       "    </tr>\n",
       "    <tr>\n",
       "      <th>899836</th>\n",
       "      <td>0.00066600000000000003</td>\n",
       "    </tr>\n",
       "    <tr>\n",
       "      <th>899837</th>\n",
       "      <td>0.00066699999999999995</td>\n",
       "    </tr>\n",
       "    <tr>\n",
       "      <th>899838</th>\n",
       "      <td>0.00066699999999999995</td>\n",
       "    </tr>\n",
       "    <tr>\n",
       "      <th>899839</th>\n",
       "      <td>0.00066699999999999995</td>\n",
       "    </tr>\n",
       "    <tr>\n",
       "      <th>899840</th>\n",
       "      <td>0.00066600000000000003</td>\n",
       "    </tr>\n",
       "  </tbody>\n",
       "</table>\n",
       "<p>899841 rows × 1 columns</p>\n",
       "</div>"
      ],
      "text/plain": [
       "                     Rel Time\n",
       "0      0.00000000000000000000\n",
       "1      0.00066600000000000003\n",
       "2      0.00066699999999999995\n",
       "3      0.00066699999999999995\n",
       "4      0.00066600000000000003\n",
       "...                       ...\n",
       "899836 0.00066600000000000003\n",
       "899837 0.00066699999999999995\n",
       "899838 0.00066699999999999995\n",
       "899839 0.00066699999999999995\n",
       "899840 0.00066600000000000003\n",
       "\n",
       "[899841 rows x 1 columns]"
      ]
     },
     "execution_count": 9,
     "metadata": {},
     "output_type": "execute_result"
    }
   ],
   "source": [
    "df_benign"
   ]
  },
  {
   "cell_type": "code",
   "execution_count": 10,
   "metadata": {},
   "outputs": [
    {
     "data": {
      "text/html": [
       "<div>\n",
       "<style scoped>\n",
       "    .dataframe tbody tr th:only-of-type {\n",
       "        vertical-align: middle;\n",
       "    }\n",
       "\n",
       "    .dataframe tbody tr th {\n",
       "        vertical-align: top;\n",
       "    }\n",
       "\n",
       "    .dataframe thead th {\n",
       "        text-align: right;\n",
       "    }\n",
       "</style>\n",
       "<table border=\"1\" class=\"dataframe\">\n",
       "  <thead>\n",
       "    <tr style=\"text-align: right;\">\n",
       "      <th></th>\n",
       "      <th>Rel Time</th>\n",
       "    </tr>\n",
       "  </thead>\n",
       "  <tbody>\n",
       "    <tr>\n",
       "      <th>0</th>\n",
       "      <td>0.00000000000000000000</td>\n",
       "    </tr>\n",
       "    <tr>\n",
       "      <th>1</th>\n",
       "      <td>0.00066600000000000003</td>\n",
       "    </tr>\n",
       "    <tr>\n",
       "      <th>2</th>\n",
       "      <td>0.00066699999999999995</td>\n",
       "    </tr>\n",
       "    <tr>\n",
       "      <th>3</th>\n",
       "      <td>0.00066699999999999995</td>\n",
       "    </tr>\n",
       "    <tr>\n",
       "      <th>4</th>\n",
       "      <td>0.00066600000000000003</td>\n",
       "    </tr>\n",
       "    <tr>\n",
       "      <th>...</th>\n",
       "      <td>...</td>\n",
       "    </tr>\n",
       "    <tr>\n",
       "      <th>183184</th>\n",
       "      <td>0.00133299999999999998</td>\n",
       "    </tr>\n",
       "    <tr>\n",
       "      <th>183185</th>\n",
       "      <td>0.00133399999999999990</td>\n",
       "    </tr>\n",
       "    <tr>\n",
       "      <th>183186</th>\n",
       "      <td>0.00133299999999999998</td>\n",
       "    </tr>\n",
       "    <tr>\n",
       "      <th>183187</th>\n",
       "      <td>0.00133299999999999998</td>\n",
       "    </tr>\n",
       "    <tr>\n",
       "      <th>183188</th>\n",
       "      <td>0.00133399999999999990</td>\n",
       "    </tr>\n",
       "  </tbody>\n",
       "</table>\n",
       "<p>183189 rows × 1 columns</p>\n",
       "</div>"
      ],
      "text/plain": [
       "                     Rel Time\n",
       "0      0.00000000000000000000\n",
       "1      0.00066600000000000003\n",
       "2      0.00066699999999999995\n",
       "3      0.00066699999999999995\n",
       "4      0.00066600000000000003\n",
       "...                       ...\n",
       "183184 0.00133299999999999998\n",
       "183185 0.00133399999999999990\n",
       "183186 0.00133299999999999998\n",
       "183187 0.00133299999999999998\n",
       "183188 0.00133399999999999990\n",
       "\n",
       "[183189 rows x 1 columns]"
      ]
     },
     "execution_count": 10,
     "metadata": {},
     "output_type": "execute_result"
    }
   ],
   "source": [
    "df_drop_packets"
   ]
  },
  {
   "cell_type": "code",
   "execution_count": 11,
   "metadata": {},
   "outputs": [],
   "source": [
    "#ocorrencias = (df_drop_packets['Rel Time'] > 0.000668).sum()\n",
    "\n",
    "#print(ocorrencias)\n",
    "\n",
    "#indices = df_drop_packets.index[df_drop_packets['Rel Time'] > 0.000668].tolist()\n",
    "\n",
    "#print(indices)\n",
    "\n",
    "#maior_diferenca = float('-inf')\n",
    "\n",
    "# Itera pela indices, calculando a diferença entre elementos consecutivos\n",
    "#for i in range(len(indices) - 1):\n",
    "#    diferenca = abs(indices[i + 1] - indices[i])\n",
    "#    if diferenca > maior_diferenca:\n",
    "#        maior_diferenca = diferenca\n",
    "\n",
    "# Exibe a maior diferença\n",
    "#print(f\"A maior diferença entre elementos consecutivos é: {maior_diferenca}\")"
   ]
  },
  {
   "cell_type": "markdown",
   "metadata": {},
   "source": [
    "Manipualação da quantidade/proporção dos dados:"
   ]
  },
  {
   "cell_type": "code",
   "execution_count": 12,
   "metadata": {},
   "outputs": [],
   "source": [
    "# OPCIONAL!!!\n",
    "len_min = min(len(df_benign),len(df_drop_packets),len(df_delay),len(df_out_of_sequence), len(df_transmit_timestamp_jitter))\n",
    "NUM_OF_ATTACKS = 4\n",
    "\n",
    "#len_min = int(len_min / 10)\n",
    "\n",
    "df_benign = df_benign.head(len_min * NUM_OF_ATTACKS)\n",
    "df_drop_packets = df_drop_packets.head(len_min)\n",
    "df_delay = df_delay.head(len_min)\n",
    "df_out_of_sequence = df_out_of_sequence.head(len_min)\n",
    "df_transmit_timestamp_jitter = df_transmit_timestamp_jitter.head(len_min)"
   ]
  },
  {
   "cell_type": "code",
   "execution_count": 13,
   "metadata": {},
   "outputs": [],
   "source": [
    "del len_min"
   ]
  },
  {
   "cell_type": "markdown",
   "metadata": {},
   "source": [
    "# Tratando dados"
   ]
  },
  {
   "cell_type": "markdown",
   "metadata": {},
   "source": [
    "## Normalização dos dados"
   ]
  },
  {
   "cell_type": "markdown",
   "metadata": {},
   "source": [
    "Criação e uso do scaler:"
   ]
  },
  {
   "cell_type": "code",
   "execution_count": 14,
   "metadata": {},
   "outputs": [],
   "source": [
    "scaler = MinMaxScaler()\n",
    "\n",
    "scaler.fit(df_benign)\n",
    "\n",
    "df_benign_scaled = pd.DataFrame(scaler.transform(df_benign), columns=df_benign.columns, index=df_benign.index)\n",
    "df_drop_packets_scaled = pd.DataFrame(scaler.transform(df_drop_packets), columns=df_drop_packets.columns, index=df_drop_packets.index)\n",
    "df_delay_scaled = pd.DataFrame(scaler.transform(df_delay), columns=df_delay.columns, index=df_delay.index)\n",
    "df_out_of_sequence_scaled = pd.DataFrame(scaler.transform(df_out_of_sequence), columns=df_out_of_sequence.columns, index=df_out_of_sequence.index)\n",
    "df_transmit_timestamp_jitter_scaled = pd.DataFrame(scaler.transform(df_transmit_timestamp_jitter), columns=df_transmit_timestamp_jitter.columns, index=df_transmit_timestamp_jitter.index)"
   ]
  },
  {
   "cell_type": "code",
   "execution_count": 15,
   "metadata": {},
   "outputs": [],
   "source": [
    "del df_benign\n",
    "del df_drop_packets\n",
    "del df_delay\n",
    "del df_out_of_sequence\n",
    "del df_transmit_timestamp_jitter"
   ]
  },
  {
   "cell_type": "code",
   "execution_count": 16,
   "metadata": {},
   "outputs": [
    {
     "data": {
      "text/html": [
       "<div>\n",
       "<style scoped>\n",
       "    .dataframe tbody tr th:only-of-type {\n",
       "        vertical-align: middle;\n",
       "    }\n",
       "\n",
       "    .dataframe tbody tr th {\n",
       "        vertical-align: top;\n",
       "    }\n",
       "\n",
       "    .dataframe thead th {\n",
       "        text-align: right;\n",
       "    }\n",
       "</style>\n",
       "<table border=\"1\" class=\"dataframe\">\n",
       "  <thead>\n",
       "    <tr style=\"text-align: right;\">\n",
       "      <th></th>\n",
       "      <th>Rel Time</th>\n",
       "    </tr>\n",
       "  </thead>\n",
       "  <tbody>\n",
       "    <tr>\n",
       "      <th>0</th>\n",
       "      <td>0.00000000000000000000</td>\n",
       "    </tr>\n",
       "    <tr>\n",
       "      <th>1</th>\n",
       "      <td>0.99850074962518764465</td>\n",
       "    </tr>\n",
       "    <tr>\n",
       "      <th>2</th>\n",
       "      <td>1.00000000000000000000</td>\n",
       "    </tr>\n",
       "    <tr>\n",
       "      <th>3</th>\n",
       "      <td>1.00000000000000000000</td>\n",
       "    </tr>\n",
       "    <tr>\n",
       "      <th>4</th>\n",
       "      <td>0.99850074962518764465</td>\n",
       "    </tr>\n",
       "    <tr>\n",
       "      <th>...</th>\n",
       "      <td>...</td>\n",
       "    </tr>\n",
       "    <tr>\n",
       "      <th>732751</th>\n",
       "      <td>0.99850074962518764465</td>\n",
       "    </tr>\n",
       "    <tr>\n",
       "      <th>732752</th>\n",
       "      <td>1.00000000000000000000</td>\n",
       "    </tr>\n",
       "    <tr>\n",
       "      <th>732753</th>\n",
       "      <td>1.00000000000000000000</td>\n",
       "    </tr>\n",
       "    <tr>\n",
       "      <th>732754</th>\n",
       "      <td>0.99850074962518764465</td>\n",
       "    </tr>\n",
       "    <tr>\n",
       "      <th>732755</th>\n",
       "      <td>1.00000000000000000000</td>\n",
       "    </tr>\n",
       "  </tbody>\n",
       "</table>\n",
       "<p>732756 rows × 1 columns</p>\n",
       "</div>"
      ],
      "text/plain": [
       "                     Rel Time\n",
       "0      0.00000000000000000000\n",
       "1      0.99850074962518764465\n",
       "2      1.00000000000000000000\n",
       "3      1.00000000000000000000\n",
       "4      0.99850074962518764465\n",
       "...                       ...\n",
       "732751 0.99850074962518764465\n",
       "732752 1.00000000000000000000\n",
       "732753 1.00000000000000000000\n",
       "732754 0.99850074962518764465\n",
       "732755 1.00000000000000000000\n",
       "\n",
       "[732756 rows x 1 columns]"
      ]
     },
     "execution_count": 16,
     "metadata": {},
     "output_type": "execute_result"
    }
   ],
   "source": [
    "df_benign_scaled"
   ]
  },
  {
   "cell_type": "markdown",
   "metadata": {},
   "source": [
    "## Criação de Labels"
   ]
  },
  {
   "cell_type": "code",
   "execution_count": 17,
   "metadata": {},
   "outputs": [],
   "source": [
    "list_labels_benign = [1] * len(df_benign_scaled)\n",
    "list_labels_drop_packets = [-1] * len(df_drop_packets_scaled)\n",
    "list_labels_delay = [-1] * len(df_delay_scaled)\n",
    "list_labels_out_of_sequence = [-1] * len(df_out_of_sequence_scaled)\n",
    "list_labels_transmit_timestamp_jitter = [-1] * len(df_transmit_timestamp_jitter_scaled)\n",
    "\n",
    "classifier_type = \"bc\""
   ]
  },
  {
   "cell_type": "markdown",
   "metadata": {},
   "source": [
    "## Criação de Janelas Temporais"
   ]
  },
  {
   "cell_type": "markdown",
   "metadata": {},
   "source": [
    "### Criação de Janelas Deslizantes"
   ]
  },
  {
   "cell_type": "markdown",
   "metadata": {},
   "source": [
    "Criação da função de divisão dos dados em janelas:"
   ]
  },
  {
   "cell_type": "code",
   "execution_count": 18,
   "metadata": {},
   "outputs": [],
   "source": [
    "def create_slicing_windows(data, labels, time_step=1):\n",
    "    X, Y = [], []\n",
    "    for i in range(len(data) - time_step):\n",
    "        a = data[i:(i + time_step)]\n",
    "        X.append(a)\n",
    "        Y.append(labels[i + time_step])\n",
    "    return np.array(X), np.array(Y)"
   ]
  },
  {
   "cell_type": "markdown",
   "metadata": {},
   "source": [
    "Definição do tamanho da janela:"
   ]
  },
  {
   "cell_type": "code",
   "execution_count": 19,
   "metadata": {},
   "outputs": [],
   "source": [
    "WINDOW_SIZE = 100"
   ]
  },
  {
   "cell_type": "markdown",
   "metadata": {},
   "source": [
    "Criação das janelas deslizantes:"
   ]
  },
  {
   "cell_type": "code",
   "execution_count": 20,
   "metadata": {},
   "outputs": [],
   "source": [
    "benign_windows, benign_labels = create_slicing_windows(df_benign_scaled, list_labels_benign, WINDOW_SIZE)\n",
    "del df_benign_scaled, list_labels_benign\n",
    "\n",
    "drop_packets_windows, drop_packets_labels = create_slicing_windows(df_drop_packets_scaled, list_labels_drop_packets, WINDOW_SIZE)\n",
    "del df_drop_packets_scaled, list_labels_drop_packets\n",
    "\n",
    "delay_windows, delay_labels = create_slicing_windows(df_delay_scaled, list_labels_delay, WINDOW_SIZE)\n",
    "del df_delay_scaled, list_labels_delay\n",
    "\n",
    "out_of_sequence_windows, out_of_sequence_labels = create_slicing_windows(df_out_of_sequence_scaled, list_labels_out_of_sequence, WINDOW_SIZE)\n",
    "del df_out_of_sequence_scaled, list_labels_out_of_sequence\n",
    "\n",
    "transmit_timestamp_jitter_windows, transmit_timestamp_jitter_labels = create_slicing_windows(df_transmit_timestamp_jitter_scaled, list_labels_transmit_timestamp_jitter, WINDOW_SIZE)\n",
    "del df_transmit_timestamp_jitter_scaled, list_labels_transmit_timestamp_jitter"
   ]
  },
  {
   "cell_type": "code",
   "execution_count": 21,
   "metadata": {},
   "outputs": [
    {
     "data": {
      "text/plain": [
       "(732656, 100)"
      ]
     },
     "execution_count": 21,
     "metadata": {},
     "output_type": "execute_result"
    }
   ],
   "source": [
    "len(benign_windows), len(benign_windows[0])"
   ]
  },
  {
   "cell_type": "code",
   "execution_count": 22,
   "metadata": {},
   "outputs": [
    {
     "data": {
      "text/plain": [
       "array([[[0.        ],\n",
       "        [0.99850075],\n",
       "        [1.        ],\n",
       "        ...,\n",
       "        [0.99850075],\n",
       "        [1.        ],\n",
       "        [1.        ]],\n",
       "\n",
       "       [[0.99850075],\n",
       "        [1.        ],\n",
       "        [1.        ],\n",
       "        ...,\n",
       "        [1.        ],\n",
       "        [1.        ],\n",
       "        [0.99850075]],\n",
       "\n",
       "       [[1.        ],\n",
       "        [1.        ],\n",
       "        [0.99850075],\n",
       "        ...,\n",
       "        [1.        ],\n",
       "        [0.99850075],\n",
       "        [1.        ]],\n",
       "\n",
       "       ...,\n",
       "\n",
       "       [[1.        ],\n",
       "        [1.        ],\n",
       "        [0.99850075],\n",
       "        ...,\n",
       "        [1.        ],\n",
       "        [0.99850075],\n",
       "        [1.        ]],\n",
       "\n",
       "       [[1.        ],\n",
       "        [0.99850075],\n",
       "        [1.        ],\n",
       "        ...,\n",
       "        [0.99850075],\n",
       "        [1.        ],\n",
       "        [1.        ]],\n",
       "\n",
       "       [[0.99850075],\n",
       "        [1.        ],\n",
       "        [1.        ],\n",
       "        ...,\n",
       "        [1.        ],\n",
       "        [1.        ],\n",
       "        [0.99850075]]])"
      ]
     },
     "execution_count": 22,
     "metadata": {},
     "output_type": "execute_result"
    }
   ],
   "source": [
    "benign_windows"
   ]
  },
  {
   "cell_type": "markdown",
   "metadata": {},
   "source": [
    "## Dividindo dados em Treino, Validação e Teste"
   ]
  },
  {
   "cell_type": "markdown",
   "metadata": {},
   "source": [
    "Quantidade de dados benignos dividido pelo total:"
   ]
  },
  {
   "cell_type": "code",
   "execution_count": 23,
   "metadata": {},
   "outputs": [],
   "source": [
    "#len(benign_windows) / (len(benign_windows) + len(malicious_random_dos_windows) + len(malicious_spoofing_zero_payload_windows) + len(malicious_zero_dos_windows))"
   ]
  },
  {
   "cell_type": "markdown",
   "metadata": {},
   "source": [
    "Concatenação das janelas, em ordem:"
   ]
  },
  {
   "cell_type": "code",
   "execution_count": 24,
   "metadata": {},
   "outputs": [],
   "source": [
    "data = np.vstack((benign_windows, drop_packets_windows, delay_windows, out_of_sequence_windows, transmit_timestamp_jitter_windows))"
   ]
  },
  {
   "cell_type": "code",
   "execution_count": 25,
   "metadata": {},
   "outputs": [],
   "source": [
    "data_malicious = np.vstack((drop_packets_windows, delay_windows, out_of_sequence_windows, transmit_timestamp_jitter_windows))"
   ]
  },
  {
   "cell_type": "code",
   "execution_count": 26,
   "metadata": {},
   "outputs": [],
   "source": [
    "data_labels = np.hstack((benign_labels, drop_packets_labels, delay_labels, out_of_sequence_labels, transmit_timestamp_jitter_labels))"
   ]
  },
  {
   "cell_type": "code",
   "execution_count": 27,
   "metadata": {},
   "outputs": [],
   "source": [
    "data_malicious_labels = np.hstack((drop_packets_labels, delay_labels, out_of_sequence_labels, transmit_timestamp_jitter_labels))"
   ]
  },
  {
   "cell_type": "code",
   "execution_count": 28,
   "metadata": {},
   "outputs": [],
   "source": [
    "del drop_packets_windows\n",
    "del drop_packets_labels\n",
    "del delay_windows\n",
    "del delay_labels\n",
    "del out_of_sequence_windows\n",
    "del out_of_sequence_labels\n",
    "del transmit_timestamp_jitter_windows\n",
    "del transmit_timestamp_jitter_labels\n",
    "del benign_labels"
   ]
  },
  {
   "cell_type": "markdown",
   "metadata": {},
   "source": [
    "### Divisão em treino, validação e teste."
   ]
  },
  {
   "cell_type": "markdown",
   "metadata": {},
   "source": [
    "#### Abordagem supervisionada:"
   ]
  },
  {
   "cell_type": "code",
   "execution_count": 29,
   "metadata": {},
   "outputs": [],
   "source": [
    "train_data, val_test_data, train_labels, val_test_labels = train_test_split(data, data_labels, test_size=0.25, random_state=RANDOM_SEED)"
   ]
  },
  {
   "cell_type": "code",
   "execution_count": 30,
   "metadata": {},
   "outputs": [],
   "source": [
    "val_data, test_data, val_labels, test_labels = train_test_split(val_test_data, val_test_labels, test_size=0.5, random_state=RANDOM_SEED)"
   ]
  },
  {
   "cell_type": "code",
   "execution_count": 31,
   "metadata": {},
   "outputs": [],
   "source": [
    "del data, data_labels\n",
    "del val_test_data, val_test_labels"
   ]
  },
  {
   "cell_type": "markdown",
   "metadata": {},
   "source": [
    "#### Abordagem não-supervisionada:"
   ]
  },
  {
   "cell_type": "code",
   "execution_count": 32,
   "metadata": {},
   "outputs": [],
   "source": [
    "train_data_2 = benign_windows[:int((len(benign_windows) // 1.05))]"
   ]
  },
  {
   "cell_type": "code",
   "execution_count": 33,
   "metadata": {},
   "outputs": [],
   "source": [
    "test_data_2 = np.vstack((data_malicious, benign_windows[int((len(benign_windows) // 1.05)):]))"
   ]
  },
  {
   "cell_type": "code",
   "execution_count": 34,
   "metadata": {},
   "outputs": [
    {
     "data": {
      "text/plain": [
       "0.9545269112213178"
      ]
     },
     "execution_count": 34,
     "metadata": {},
     "output_type": "execute_result"
    }
   ],
   "source": [
    "malicious_proportion = len(data_malicious) / (len(data_malicious) + len(benign_windows[int((len(benign_windows) // 1.05)):]))\n",
    "malicious_proportion"
   ]
  },
  {
   "cell_type": "code",
   "execution_count": 35,
   "metadata": {},
   "outputs": [],
   "source": [
    "benign_labels = [1] * int(len(benign_windows) - (len(benign_windows) // 1.05))\n",
    "\n",
    "test_data_2_labels = np.hstack((data_malicious_labels, benign_labels))"
   ]
  },
  {
   "cell_type": "code",
   "execution_count": 36,
   "metadata": {},
   "outputs": [],
   "source": [
    "del data_malicious\n",
    "del benign_windows\n",
    "del benign_labels\n",
    "del data_malicious_labels"
   ]
  },
  {
   "cell_type": "markdown",
   "metadata": {},
   "source": [
    "### Shape dos dados de treino:"
   ]
  },
  {
   "cell_type": "code",
   "execution_count": 37,
   "metadata": {},
   "outputs": [
    {
     "data": {
      "text/plain": [
       "(1098759, 100, 1)"
      ]
     },
     "execution_count": 37,
     "metadata": {},
     "output_type": "execute_result"
    }
   ],
   "source": [
    "train_data.shape"
   ]
  },
  {
   "cell_type": "code",
   "execution_count": 38,
   "metadata": {},
   "outputs": [
    {
     "data": {
      "text/plain": [
       "(697767, 100, 1)"
      ]
     },
     "execution_count": 38,
     "metadata": {},
     "output_type": "execute_result"
    }
   ],
   "source": [
    "train_data_2.shape"
   ]
  },
  {
   "cell_type": "markdown",
   "metadata": {},
   "source": [
    "# IAs"
   ]
  },
  {
   "cell_type": "markdown",
   "metadata": {},
   "source": [
    "## LSTM (supervisionado)"
   ]
  },
  {
   "cell_type": "markdown",
   "metadata": {},
   "source": [
    "### Treinamento do modelo"
   ]
  },
  {
   "cell_type": "markdown",
   "metadata": {},
   "source": [
    "Variável que define se é supervisionado ou não-supervisionado:"
   ]
  },
  {
   "cell_type": "code",
   "execution_count": 39,
   "metadata": {},
   "outputs": [],
   "source": [
    "s_OR_ns = \"s\""
   ]
  },
  {
   "cell_type": "markdown",
   "metadata": {},
   "source": [
    "Quantidade de features, para o modelo lidar com as entradas:"
   ]
  },
  {
   "cell_type": "code",
   "execution_count": 40,
   "metadata": {},
   "outputs": [],
   "source": [
    "FEATURES_COUNT = train_data.shape[2] # Número de features dos dados"
   ]
  },
  {
   "cell_type": "markdown",
   "metadata": {},
   "source": [
    "Construção do modelo LSTM:"
   ]
  },
  {
   "cell_type": "code",
   "execution_count": 41,
   "metadata": {},
   "outputs": [
    {
     "name": "stderr",
     "output_type": "stream",
     "text": [
      "c:\\Users\\henri\\OneDrive\\Área de Trabalho\\Programação\\Projetos e Atividades\\Graduação BSI\\PETs\\IDS para redes veiculares\\myenv\\Lib\\site-packages\\keras\\src\\layers\\rnn\\rnn.py:204: UserWarning: Do not pass an `input_shape`/`input_dim` argument to a layer. When using Sequential models, prefer using an `Input(shape)` object as the first layer in the model instead.\n",
      "  super().__init__(**kwargs)\n"
     ]
    }
   ],
   "source": [
    "# Construindo o modelo LSTM\n",
    "model = Sequential()\n",
    "model.add(LSTM(50, activation='tanh', input_shape=(WINDOW_SIZE, FEATURES_COUNT)))\n",
    "model.add(Dropout(0.1))\n",
    "model.add(BatchNormalization())\n",
    "model.add(Dense(1, kernel_regularizer=l2(0.0000001)))\n",
    "\n",
    "# Compilando o modelo\n",
    "model.compile(optimizer=Adam(learning_rate=0.004), loss='mse')\n",
    "#model.compile(optimizer=\"adam\", loss='mse')"
   ]
  },
  {
   "cell_type": "markdown",
   "metadata": {},
   "source": [
    "Definição da paciência:"
   ]
  },
  {
   "cell_type": "code",
   "execution_count": 42,
   "metadata": {},
   "outputs": [],
   "source": [
    "PATIENCE = 4"
   ]
  },
  {
   "cell_type": "markdown",
   "metadata": {},
   "source": [
    "Configuração do early stop:"
   ]
  },
  {
   "cell_type": "code",
   "execution_count": 43,
   "metadata": {},
   "outputs": [],
   "source": [
    "early_stopping = EarlyStopping(monitor='val_loss', patience=PATIENCE, restore_best_weights=True)"
   ]
  },
  {
   "cell_type": "markdown",
   "metadata": {},
   "source": [
    "Definição da quantidade de épocas e o tamanho do Batch:"
   ]
  },
  {
   "cell_type": "code",
   "execution_count": 44,
   "metadata": {},
   "outputs": [],
   "source": [
    "EPOCHS = 50\n",
    "BATCH_SIZE = 32 #padrão: batch_size=32"
   ]
  },
  {
   "cell_type": "markdown",
   "metadata": {},
   "source": [
    "**TREINAMENTO DO MODELO:**"
   ]
  },
  {
   "cell_type": "code",
   "execution_count": 45,
   "metadata": {},
   "outputs": [
    {
     "name": "stdout",
     "output_type": "stream",
     "text": [
      "Epoch 1/50\n",
      "\u001b[1m34337/34337\u001b[0m \u001b[32m━━━━━━━━━━━━━━━━━━━━\u001b[0m\u001b[37m\u001b[0m \u001b[1m446s\u001b[0m 13ms/step - loss: 0.2319 - val_loss: 0.0934\n",
      "Epoch 2/50\n",
      "\u001b[1m34337/34337\u001b[0m \u001b[32m━━━━━━━━━━━━━━━━━━━━\u001b[0m\u001b[37m\u001b[0m \u001b[1m441s\u001b[0m 13ms/step - loss: 0.1650 - val_loss: 0.0980\n",
      "Epoch 3/50\n",
      "\u001b[1m34337/34337\u001b[0m \u001b[32m━━━━━━━━━━━━━━━━━━━━\u001b[0m\u001b[37m\u001b[0m \u001b[1m388s\u001b[0m 11ms/step - loss: 0.1674 - val_loss: 0.0156\n",
      "Epoch 4/50\n",
      "\u001b[1m34337/34337\u001b[0m \u001b[32m━━━━━━━━━━━━━━━━━━━━\u001b[0m\u001b[37m\u001b[0m \u001b[1m381s\u001b[0m 11ms/step - loss: 0.1073 - val_loss: 0.0160\n",
      "Epoch 5/50\n",
      "\u001b[1m34337/34337\u001b[0m \u001b[32m━━━━━━━━━━━━━━━━━━━━\u001b[0m\u001b[37m\u001b[0m \u001b[1m409s\u001b[0m 12ms/step - loss: 0.1251 - val_loss: 0.1196\n",
      "Epoch 6/50\n",
      "\u001b[1m34337/34337\u001b[0m \u001b[32m━━━━━━━━━━━━━━━━━━━━\u001b[0m\u001b[37m\u001b[0m \u001b[1m447s\u001b[0m 13ms/step - loss: 0.2346 - val_loss: 0.4474\n",
      "Epoch 7/50\n",
      "\u001b[1m34337/34337\u001b[0m \u001b[32m━━━━━━━━━━━━━━━━━━━━\u001b[0m\u001b[37m\u001b[0m \u001b[1m460s\u001b[0m 13ms/step - loss: 0.1321 - val_loss: 0.1062\n"
     ]
    }
   ],
   "source": [
    "# Treinando o modelo\n",
    "history = model.fit(train_data, train_labels, epochs=EPOCHS, batch_size=BATCH_SIZE, validation_data=(val_data, val_labels), callbacks=[early_stopping])"
   ]
  },
  {
   "cell_type": "code",
   "execution_count": 46,
   "metadata": {},
   "outputs": [],
   "source": [
    "del train_data, train_labels\n",
    "del val_data, val_labels"
   ]
  },
  {
   "cell_type": "code",
   "execution_count": 47,
   "metadata": {},
   "outputs": [
    {
     "name": "stdout",
     "output_type": "stream",
     "text": [
      "\u001b[1m5723/5723\u001b[0m \u001b[32m━━━━━━━━━━━━━━━━━━━━\u001b[0m\u001b[37m\u001b[0m \u001b[1m26s\u001b[0m 4ms/step - loss: 0.0155\n",
      "Test Loss: 0.015619675628840923\n"
     ]
    }
   ],
   "source": [
    "# Avaliando o modelo no conjunto de teste\n",
    "loss = model.evaluate(test_data, test_labels)\n",
    "print(\"Test Loss:\", loss)"
   ]
  },
  {
   "cell_type": "code",
   "execution_count": 48,
   "metadata": {},
   "outputs": [
    {
     "name": "stdout",
     "output_type": "stream",
     "text": [
      "\u001b[1m5723/5723\u001b[0m \u001b[32m━━━━━━━━━━━━━━━━━━━━\u001b[0m\u001b[37m\u001b[0m \u001b[1m24s\u001b[0m 4ms/step\n"
     ]
    },
    {
     "data": {
      "text/plain": [
       "array([[-0.94935834],\n",
       "       [ 1.1694362 ],\n",
       "       [ 1.1703    ],\n",
       "       ...,\n",
       "       [-0.94714504],\n",
       "       [ 1.170512  ],\n",
       "       [-0.9531326 ]], dtype=float32)"
      ]
     },
     "execution_count": 48,
     "metadata": {},
     "output_type": "execute_result"
    }
   ],
   "source": [
    "predicts = model.predict(test_data)\n",
    "predicts"
   ]
  },
  {
   "cell_type": "code",
   "execution_count": 49,
   "metadata": {},
   "outputs": [],
   "source": [
    "if classifier_type == \"mc\":\n",
    "\n",
    "    intervalos = [(-4, -3), (-3, -2), (-2, -1), (-1, 0), (0, 1)]\n",
    "\n",
    "    # Função para contar os elementos em cada intervalo\n",
    "    def contar_elementos(array, intervalos):\n",
    "        contagem = {}\n",
    "        for inicio, fim in intervalos:\n",
    "            contagem[f'{inicio} a {fim}'] = np.sum((array >= inicio) & (array < fim))\n",
    "        return contagem\n",
    "\n",
    "    # Contando os elementos em cada intervalo\n",
    "    contagem = contar_elementos(predicts, intervalos)\n",
    "\n",
    "    # Imprimindo o resultado\n",
    "    for intervalo, quantidade in contagem.items():\n",
    "        print(f'Elementos no intervalo {intervalo}: {quantidade}')"
   ]
  },
  {
   "cell_type": "markdown",
   "metadata": {},
   "source": [
    "### Avaliações"
   ]
  },
  {
   "cell_type": "markdown",
   "metadata": {},
   "source": [
    "Transformando as predições em uma numpy array unidimensional:"
   ]
  },
  {
   "cell_type": "code",
   "execution_count": 50,
   "metadata": {},
   "outputs": [
    {
     "data": {
      "text/plain": [
       "array([-0.94935834,  1.1694362 ,  1.1703    , ..., -0.94714504,\n",
       "        1.170512  , -0.9531326 ], dtype=float32)"
      ]
     },
     "execution_count": 50,
     "metadata": {},
     "output_type": "execute_result"
    }
   ],
   "source": [
    "predicts_1d = np.array([predict[0] for predict in predicts])\n",
    "predicts_1d"
   ]
  },
  {
   "cell_type": "code",
   "execution_count": 51,
   "metadata": {},
   "outputs": [],
   "source": [
    "def plot_precision_recall_curve(y_true, y_score):\n",
    "    precision, recall, _ = precision_recall_curve(y_true, y_score)\n",
    "    plt.plot(recall, precision, marker='.')\n",
    "    plt.xlabel('Recall')\n",
    "    plt.ylabel('Precision')\n",
    "    plt.title('Precision-Recall Curve')\n",
    "    plt.show()"
   ]
  },
  {
   "cell_type": "markdown",
   "metadata": {},
   "source": [
    "Curva Recall:"
   ]
  },
  {
   "cell_type": "code",
   "execution_count": 52,
   "metadata": {},
   "outputs": [
    {
     "data": {
      "image/png": "[encoded data removed]",
      "text/plain": [
       "<Figure size 640x480 with 1 Axes>"
      ]
     },
     "metadata": {},
     "output_type": "display_data"
    }
   ],
   "source": [
    "if classifier_type == \"bc\":\n",
    "    plot_precision_recall_curve(test_labels, predicts_1d)"
   ]
  },
  {
   "cell_type": "code",
   "execution_count": 53,
   "metadata": {},
   "outputs": [],
   "source": [
    "def plot_roc_curve(y_true, y_score, max_fpr=1.0):\n",
    "  fpr, tpr, thresholds = roc_curve(y_true, y_score)\n",
    "  aucroc = roc_auc_score(y_true, y_score)\n",
    "  plt.plot(100*fpr[fpr < max_fpr], 100*tpr[fpr < max_fpr], label=f'ROC Curve (AUC = {aucroc:.4f})')\n",
    "  plt.xlim(-2,102)\n",
    "  plt.xlabel('FPR (%)')\n",
    "  plt.ylabel('TPR (%)')\n",
    "  plt.legend()\n",
    "  plt.title('ROC Curve and AUCROC')"
   ]
  },
  {
   "cell_type": "markdown",
   "metadata": {},
   "source": [
    "Curva ROC:"
   ]
  },
  {
   "cell_type": "code",
   "execution_count": 54,
   "metadata": {},
   "outputs": [
    {
     "data": {
      "image/png": "[encoded data removed]",
      "text/plain": [
       "<Figure size 640x480 with 1 Axes>"
      ]
     },
     "metadata": {},
     "output_type": "display_data"
    }
   ],
   "source": [
    "if classifier_type == \"bc\":\n",
    "    plot_roc_curve(test_labels, predicts_1d)"
   ]
  },
  {
   "cell_type": "markdown",
   "metadata": {},
   "source": [
    "Transformando todos os valores de predições acima de 0 em 1, enquanto os outros recebem a função round(), ou seja, serão arredondados pro número inteiro mais próximo. Após isso, os números que forem iguais a 0, serão transformados em -1. É como se todo mundo igual ou menor que 0, fosse malicioso, mas 0 não é um valor malicioso de label, é mais como se fosse um threshold, então nada deve ser igual a 0. Esse problema é minimizado em classificações binárias."
   ]
  },
  {
   "cell_type": "code",
   "execution_count": 55,
   "metadata": {},
   "outputs": [
    {
     "data": {
      "text/plain": [
       "array([-1.,  1.,  1., ..., -1.,  1., -1.], dtype=float32)"
      ]
     },
     "execution_count": 55,
     "metadata": {},
     "output_type": "execute_result"
    }
   ],
   "source": [
    "predicts_1d = np.where(predicts_1d > 0, 1, np.round(predicts_1d))\n",
    "predicts_1d = np.where(predicts_1d == 0, -1, predicts_1d)\n",
    "predicts_1d"
   ]
  },
  {
   "cell_type": "code",
   "execution_count": 56,
   "metadata": {},
   "outputs": [],
   "source": [
    "def plot_confusion_matrix(y_true, y_pred):\n",
    "  cm = confusion_matrix(y_true, y_pred)\n",
    "  group_counts = [f'{value:.0f}' for value in confusion_matrix(y_true, y_pred).ravel()]\n",
    "  group_percentages = [f'{value*100:.2f}%' for value in confusion_matrix(y_true, y_pred).ravel()/np.sum(cm)]\n",
    "  labels = [f'{v1}\\n{v2}' for v1, v2 in zip(group_counts, group_percentages)]\n",
    "  labels = np.array(labels).reshape(2,2)\n",
    "  sns.heatmap(cm, annot=labels, cmap='Oranges', xticklabels=['Predicted Benign', 'Predicted Malicious'], yticklabels=['Actual Benign', 'Actual Malicious'], fmt='')\n",
    "  return"
   ]
  },
  {
   "cell_type": "markdown",
   "metadata": {},
   "source": [
    "Matriz de Confusão:"
   ]
  },
  {
   "cell_type": "code",
   "execution_count": 57,
   "metadata": {},
   "outputs": [
    {
     "data": {
      "image/png": "[encoded data removed]",
      "text/plain": [
       "<Figure size 640x480 with 2 Axes>"
      ]
     },
     "metadata": {},
     "output_type": "display_data"
    }
   ],
   "source": [
    "plot_confusion_matrix(test_labels, predicts_1d)"
   ]
  },
  {
   "cell_type": "code",
   "execution_count": 58,
   "metadata": {},
   "outputs": [],
   "source": [
    "def get_overall_metrics(y_true, y_pred):\n",
    "  tn, fp, fn, tp = confusion_matrix(y_true, y_pred).ravel()\n",
    "  acc = (tp+tn)/(tp+tn+fp+fn)\n",
    "  tpr = tp/(tp+fn)\n",
    "  fpr = fp/(fp+tn)\n",
    "  precision = tp/(tp+fp)\n",
    "  f1 = (2*tpr*precision)/(tpr+precision)\n",
    "  return {'acc':acc,'tpr':tpr,'fpr':fpr,'precision':precision,'f1-score':f1}"
   ]
  },
  {
   "cell_type": "markdown",
   "metadata": {},
   "source": [
    "Métricas Gerais:"
   ]
  },
  {
   "cell_type": "code",
   "execution_count": 59,
   "metadata": {},
   "outputs": [
    {
     "data": {
      "text/plain": [
       "{'acc': 0.999868943410857,\n",
       " 'tpr': 1.0,\n",
       " 'fpr': 0.0002617629736273804,\n",
       " 'precision': 0.9997376045481878,\n",
       " 'f1-score': 0.999868785058992}"
      ]
     },
     "execution_count": 59,
     "metadata": {},
     "output_type": "execute_result"
    }
   ],
   "source": [
    "get_overall_metrics(test_labels, predicts_1d)"
   ]
  },
  {
   "cell_type": "code",
   "execution_count": 60,
   "metadata": {},
   "outputs": [],
   "source": [
    "del test_data, test_labels"
   ]
  },
  {
   "cell_type": "markdown",
   "metadata": {},
   "source": [
    "### Salvando o modelo:"
   ]
  },
  {
   "cell_type": "markdown",
   "metadata": {},
   "source": [
    "Salvando modelo com diferentes bibliotecas:"
   ]
  },
  {
   "cell_type": "code",
   "execution_count": 61,
   "metadata": {},
   "outputs": [],
   "source": [
    "model.save(f'models/model_LSTM_{s_OR_ns}_{classifier_type}_ws{WINDOW_SIZE}.keras')"
   ]
  },
  {
   "cell_type": "code",
   "execution_count": 62,
   "metadata": {},
   "outputs": [],
   "source": [
    "with open(f'models/model_LSTM_{s_OR_ns}_{classifier_type}_ws{WINDOW_SIZE}.pkl', 'wb') as arquivo:\n",
    "    pickle.dump(model, arquivo)"
   ]
  },
  {
   "cell_type": "code",
   "execution_count": 63,
   "metadata": {},
   "outputs": [
    {
     "data": {
      "text/plain": [
       "['models/model_LSTM_s_bc_ws100.joblib']"
      ]
     },
     "execution_count": 63,
     "metadata": {},
     "output_type": "execute_result"
    }
   ],
   "source": [
    "dump(model, f\"models/model_LSTM_{s_OR_ns}_{classifier_type}_ws{WINDOW_SIZE}.joblib\")"
   ]
  },
  {
   "cell_type": "code",
   "execution_count": 64,
   "metadata": {},
   "outputs": [
    {
     "data": {
      "text/plain": [
       "['models/scalers/scaler_model_LSTM_s_bc_ws100']"
      ]
     },
     "execution_count": 64,
     "metadata": {},
     "output_type": "execute_result"
    }
   ],
   "source": [
    "dump(scaler, f\"models/scalers/scaler_model_LSTM_{s_OR_ns}_{classifier_type}_ws{WINDOW_SIZE}\")"
   ]
  },
  {
   "cell_type": "code",
   "execution_count": 65,
   "metadata": {},
   "outputs": [],
   "source": [
    "del loss\n",
    "del predicts\n",
    "del predicts_1d\n",
    "del history"
   ]
  },
  {
   "cell_type": "markdown",
   "metadata": {},
   "source": [
    "## LSTM (não-supervisionado)"
   ]
  },
  {
   "cell_type": "markdown",
   "metadata": {},
   "source": [
    "### Treinamento do modelo"
   ]
  },
  {
   "cell_type": "markdown",
   "metadata": {},
   "source": [
    "Definindo que é não-supervisionado(ns) e classificador binário(bc):"
   ]
  },
  {
   "cell_type": "code",
   "execution_count": 66,
   "metadata": {},
   "outputs": [],
   "source": [
    "s_OR_ns = \"ns\"\n",
    "classifier_type = \"bc\""
   ]
  },
  {
   "cell_type": "markdown",
   "metadata": {},
   "source": [
    "Coletando a quantidade de features:"
   ]
  },
  {
   "cell_type": "code",
   "execution_count": 67,
   "metadata": {},
   "outputs": [],
   "source": [
    "FEATURES_COUNT = train_data_2.shape[2]"
   ]
  },
  {
   "cell_type": "markdown",
   "metadata": {},
   "source": [
    "Construção do modelo LSTM:"
   ]
  },
  {
   "cell_type": "code",
   "execution_count": 68,
   "metadata": {},
   "outputs": [],
   "source": [
    "# Construindo o modelo Autoencoder LSTM\n",
    "inputs = Input(shape=(WINDOW_SIZE, FEATURES_COUNT))\n",
    "encoded = LSTM(50, activation='tanh', return_sequences=False)(inputs)  # Codificador\n",
    "decoded = RepeatVector(WINDOW_SIZE)(encoded)  # Decodificador\n",
    "decoded = LSTM(FEATURES_COUNT, return_sequences=True)(decoded)\n",
    "\n",
    "# Adicionando Dropout e Normalização em Batch\n",
    "decoded = Dropout(0.1)(decoded)\n",
    "decoded = BatchNormalization()(decoded)\n",
    "\n",
    "# Camada de saída\n",
    "outputs = Dense(FEATURES_COUNT, kernel_regularizer=l2(0.0000001))(decoded)\n",
    "\n",
    "# Compilando o modelo\n",
    "model = Model(inputs, outputs)\n",
    "model.compile(optimizer=Adam(learning_rate=0.004), loss='mse')"
   ]
  },
  {
   "cell_type": "markdown",
   "metadata": {},
   "source": [
    "Definindo a paciência:"
   ]
  },
  {
   "cell_type": "code",
   "execution_count": 69,
   "metadata": {},
   "outputs": [],
   "source": [
    "PATIENCE = 4"
   ]
  },
  {
   "cell_type": "markdown",
   "metadata": {},
   "source": [
    "Configurando o early stopping:"
   ]
  },
  {
   "cell_type": "code",
   "execution_count": 70,
   "metadata": {},
   "outputs": [],
   "source": [
    "early_stopping = EarlyStopping(monitor='val_loss', patience=PATIENCE, restore_best_weights=True)"
   ]
  },
  {
   "cell_type": "markdown",
   "metadata": {},
   "source": [
    "Definindo a quantidade de épocas e o tamanho do Batch:"
   ]
  },
  {
   "cell_type": "code",
   "execution_count": 71,
   "metadata": {},
   "outputs": [],
   "source": [
    "EPOCHS = 50\n",
    "BATCH_SIZE = 32 #padrão: batch_size=32"
   ]
  },
  {
   "cell_type": "markdown",
   "metadata": {},
   "source": [
    "**TREINAMENTO DO MODELO:**"
   ]
  },
  {
   "cell_type": "code",
   "execution_count": 72,
   "metadata": {},
   "outputs": [
    {
     "name": "stdout",
     "output_type": "stream",
     "text": [
      "Epoch 1/50\n",
      "\u001b[1m17445/17445\u001b[0m \u001b[32m━━━━━━━━━━━━━━━━━━━━\u001b[0m\u001b[37m\u001b[0m \u001b[1m363s\u001b[0m 21ms/step - loss: 0.0185 - val_loss: 7.2799e-07\n",
      "Epoch 2/50\n",
      "\u001b[1m17445/17445\u001b[0m \u001b[32m━━━━━━━━━━━━━━━━━━━━\u001b[0m\u001b[37m\u001b[0m \u001b[1m383s\u001b[0m 22ms/step - loss: 8.5188e-07 - val_loss: 7.5991e-07\n",
      "Epoch 3/50\n",
      "\u001b[1m17445/17445\u001b[0m \u001b[32m━━━━━━━━━━━━━━━━━━━━\u001b[0m\u001b[37m\u001b[0m \u001b[1m377s\u001b[0m 22ms/step - loss: 7.9974e-07 - val_loss: 9.0079e-07\n",
      "Epoch 4/50\n",
      "\u001b[1m17445/17445\u001b[0m \u001b[32m━━━━━━━━━━━━━━━━━━━━\u001b[0m\u001b[37m\u001b[0m \u001b[1m357s\u001b[0m 20ms/step - loss: 8.0294e-07 - val_loss: 6.8200e-07\n",
      "Epoch 5/50\n",
      "\u001b[1m17445/17445\u001b[0m \u001b[32m━━━━━━━━━━━━━━━━━━━━\u001b[0m\u001b[37m\u001b[0m \u001b[1m340s\u001b[0m 19ms/step - loss: 7.8373e-07 - val_loss: 6.4999e-07\n",
      "Epoch 6/50\n",
      "\u001b[1m17445/17445\u001b[0m \u001b[32m━━━━━━━━━━━━━━━━━━━━\u001b[0m\u001b[37m\u001b[0m \u001b[1m336s\u001b[0m 19ms/step - loss: 7.3292e-07 - val_loss: 1.2642e-06\n",
      "Epoch 7/50\n",
      "\u001b[1m17445/17445\u001b[0m \u001b[32m━━━━━━━━━━━━━━━━━━━━\u001b[0m\u001b[37m\u001b[0m \u001b[1m341s\u001b[0m 20ms/step - loss: 7.0700e-07 - val_loss: 6.1691e-07\n",
      "Epoch 8/50\n",
      "\u001b[1m17445/17445\u001b[0m \u001b[32m━━━━━━━━━━━━━━━━━━━━\u001b[0m\u001b[37m\u001b[0m \u001b[1m344s\u001b[0m 20ms/step - loss: 7.0775e-07 - val_loss: 6.0632e-07\n",
      "Epoch 9/50\n",
      "\u001b[1m17445/17445\u001b[0m \u001b[32m━━━━━━━━━━━━━━━━━━━━\u001b[0m\u001b[37m\u001b[0m \u001b[1m347s\u001b[0m 20ms/step - loss: 6.8892e-07 - val_loss: 5.9439e-07\n",
      "Epoch 10/50\n",
      "\u001b[1m17445/17445\u001b[0m \u001b[32m━━━━━━━━━━━━━━━━━━━━\u001b[0m\u001b[37m\u001b[0m \u001b[1m349s\u001b[0m 20ms/step - loss: 7.2004e-07 - val_loss: 6.3260e-07\n",
      "Epoch 11/50\n",
      "\u001b[1m17445/17445\u001b[0m \u001b[32m━━━━━━━━━━━━━━━━━━━━\u001b[0m\u001b[37m\u001b[0m \u001b[1m348s\u001b[0m 20ms/step - loss: 6.5516e-07 - val_loss: 5.7712e-07\n",
      "Epoch 12/50\n",
      "\u001b[1m17445/17445\u001b[0m \u001b[32m━━━━━━━━━━━━━━━━━━━━\u001b[0m\u001b[37m\u001b[0m \u001b[1m349s\u001b[0m 20ms/step - loss: 6.4824e-07 - val_loss: 5.7387e-07\n",
      "Epoch 13/50\n",
      "\u001b[1m17445/17445\u001b[0m \u001b[32m━━━━━━━━━━━━━━━━━━━━\u001b[0m\u001b[37m\u001b[0m \u001b[1m345s\u001b[0m 20ms/step - loss: 6.6347e-07 - val_loss: 5.6853e-07\n",
      "Epoch 14/50\n",
      "\u001b[1m17445/17445\u001b[0m \u001b[32m━━━━━━━━━━━━━━━━━━━━\u001b[0m\u001b[37m\u001b[0m \u001b[1m351s\u001b[0m 20ms/step - loss: 6.3389e-07 - val_loss: 5.5569e-07\n",
      "Epoch 15/50\n",
      "\u001b[1m17445/17445\u001b[0m \u001b[32m━━━━━━━━━━━━━━━━━━━━\u001b[0m\u001b[37m\u001b[0m \u001b[1m387s\u001b[0m 22ms/step - loss: 6.3362e-07 - val_loss: 5.8307e-07\n",
      "Epoch 16/50\n",
      "\u001b[1m17445/17445\u001b[0m \u001b[32m━━━━━━━━━━━━━━━━━━━━\u001b[0m\u001b[37m\u001b[0m \u001b[1m400s\u001b[0m 23ms/step - loss: 6.1912e-07 - val_loss: 5.4749e-07\n",
      "Epoch 17/50\n",
      "\u001b[1m17445/17445\u001b[0m \u001b[32m━━━━━━━━━━━━━━━━━━━━\u001b[0m\u001b[37m\u001b[0m \u001b[1m396s\u001b[0m 23ms/step - loss: 6.4723e-07 - val_loss: 5.4110e-07\n",
      "Epoch 18/50\n",
      "\u001b[1m17445/17445\u001b[0m \u001b[32m━━━━━━━━━━━━━━━━━━━━\u001b[0m\u001b[37m\u001b[0m \u001b[1m402s\u001b[0m 23ms/step - loss: 6.6427e-07 - val_loss: 5.5831e-07\n",
      "Epoch 19/50\n",
      "\u001b[1m17445/17445\u001b[0m \u001b[32m━━━━━━━━━━━━━━━━━━━━\u001b[0m\u001b[37m\u001b[0m \u001b[1m401s\u001b[0m 23ms/step - loss: 5.9363e-07 - val_loss: 5.3238e-07\n",
      "Epoch 20/50\n",
      "\u001b[1m17445/17445\u001b[0m \u001b[32m━━━━━━━━━━━━━━━━━━━━\u001b[0m\u001b[37m\u001b[0m \u001b[1m411s\u001b[0m 24ms/step - loss: 5.9248e-07 - val_loss: 5.4052e-07\n",
      "Epoch 21/50\n",
      "\u001b[1m17445/17445\u001b[0m \u001b[32m━━━━━━━━━━━━━━━━━━━━\u001b[0m\u001b[37m\u001b[0m \u001b[1m407s\u001b[0m 23ms/step - loss: 5.9573e-07 - val_loss: 5.3227e-07\n",
      "Epoch 22/50\n",
      "\u001b[1m17445/17445\u001b[0m \u001b[32m━━━━━━━━━━━━━━━━━━━━\u001b[0m\u001b[37m\u001b[0m \u001b[1m403s\u001b[0m 23ms/step - loss: 6.2441e-07 - val_loss: 5.3298e-07\n",
      "Epoch 23/50\n",
      "\u001b[1m17445/17445\u001b[0m \u001b[32m━━━━━━━━━━━━━━━━━━━━\u001b[0m\u001b[37m\u001b[0m \u001b[1m442s\u001b[0m 25ms/step - loss: 5.9045e-07 - val_loss: 5.2955e-07\n",
      "Epoch 24/50\n",
      "\u001b[1m17445/17445\u001b[0m \u001b[32m━━━━━━━━━━━━━━━━━━━━\u001b[0m\u001b[37m\u001b[0m \u001b[1m503s\u001b[0m 29ms/step - loss: 5.7612e-07 - val_loss: 5.1891e-07\n",
      "Epoch 25/50\n",
      "\u001b[1m17445/17445\u001b[0m \u001b[32m━━━━━━━━━━━━━━━━━━━━\u001b[0m\u001b[37m\u001b[0m \u001b[1m466s\u001b[0m 27ms/step - loss: 5.7426e-07 - val_loss: 5.1770e-07\n",
      "Epoch 26/50\n",
      "\u001b[1m13520/17445\u001b[0m \u001b[32m━━━━━━━━━━━━━━━\u001b[0m\u001b[37m━━━━━\u001b[0m \u001b[1m1:44\u001b[0m 27ms/step - loss: 6.2648e-07"
     ]
    },
    {
     "ename": "KeyboardInterrupt",
     "evalue": "",
     "output_type": "error",
     "traceback": [
      "\u001b[1;31m---------------------------------------------------------------------------\u001b[0m",
      "\u001b[1;31mKeyboardInterrupt\u001b[0m                         Traceback (most recent call last)",
      "Cell \u001b[1;32mIn[72], line 1\u001b[0m\n\u001b[1;32m----> 1\u001b[0m history \u001b[38;5;241m=\u001b[39m \u001b[43mmodel\u001b[49m\u001b[38;5;241;43m.\u001b[39;49m\u001b[43mfit\u001b[49m\u001b[43m(\u001b[49m\u001b[43mtrain_data_2\u001b[49m\u001b[43m,\u001b[49m\u001b[43m \u001b[49m\u001b[43mtrain_data_2\u001b[49m\u001b[43m,\u001b[49m\u001b[43m \u001b[49m\u001b[43mepochs\u001b[49m\u001b[38;5;241;43m=\u001b[39;49m\u001b[43mEPOCHS\u001b[49m\u001b[43m,\u001b[49m\u001b[43m \u001b[49m\u001b[43mbatch_size\u001b[49m\u001b[38;5;241;43m=\u001b[39;49m\u001b[43mBATCH_SIZE\u001b[49m\u001b[43m,\u001b[49m\u001b[43m \u001b[49m\u001b[43mvalidation_split\u001b[49m\u001b[38;5;241;43m=\u001b[39;49m\u001b[38;5;241;43m0.2\u001b[39;49m\u001b[43m,\u001b[49m\u001b[43m \u001b[49m\u001b[43mcallbacks\u001b[49m\u001b[38;5;241;43m=\u001b[39;49m\u001b[43m[\u001b[49m\u001b[43mearly_stopping\u001b[49m\u001b[43m]\u001b[49m\u001b[43m)\u001b[49m\n",
      "File \u001b[1;32mc:\\Users\\henri\\OneDrive\\Área de Trabalho\\Programação\\Projetos e Atividades\\Graduação BSI\\PETs\\IDS para redes veiculares\\myenv\\Lib\\site-packages\\keras\\src\\utils\\traceback_utils.py:117\u001b[0m, in \u001b[0;36mfilter_traceback.<locals>.error_handler\u001b[1;34m(*args, **kwargs)\u001b[0m\n\u001b[0;32m    115\u001b[0m filtered_tb \u001b[38;5;241m=\u001b[39m \u001b[38;5;28;01mNone\u001b[39;00m\n\u001b[0;32m    116\u001b[0m \u001b[38;5;28;01mtry\u001b[39;00m:\n\u001b[1;32m--> 117\u001b[0m     \u001b[38;5;28;01mreturn\u001b[39;00m \u001b[43mfn\u001b[49m\u001b[43m(\u001b[49m\u001b[38;5;241;43m*\u001b[39;49m\u001b[43margs\u001b[49m\u001b[43m,\u001b[49m\u001b[43m \u001b[49m\u001b[38;5;241;43m*\u001b[39;49m\u001b[38;5;241;43m*\u001b[39;49m\u001b[43mkwargs\u001b[49m\u001b[43m)\u001b[49m\n\u001b[0;32m    118\u001b[0m \u001b[38;5;28;01mexcept\u001b[39;00m \u001b[38;5;167;01mException\u001b[39;00m \u001b[38;5;28;01mas\u001b[39;00m e:\n\u001b[0;32m    119\u001b[0m     filtered_tb \u001b[38;5;241m=\u001b[39m _process_traceback_frames(e\u001b[38;5;241m.\u001b[39m__traceback__)\n",
      "File \u001b[1;32mc:\\Users\\henri\\OneDrive\\Área de Trabalho\\Programação\\Projetos e Atividades\\Graduação BSI\\PETs\\IDS para redes veiculares\\myenv\\Lib\\site-packages\\keras\\src\\backend\\tensorflow\\trainer.py:318\u001b[0m, in \u001b[0;36mTensorFlowTrainer.fit\u001b[1;34m(self, x, y, batch_size, epochs, verbose, callbacks, validation_split, validation_data, shuffle, class_weight, sample_weight, initial_epoch, steps_per_epoch, validation_steps, validation_batch_size, validation_freq)\u001b[0m\n\u001b[0;32m    316\u001b[0m \u001b[38;5;28;01mfor\u001b[39;00m step, iterator \u001b[38;5;129;01min\u001b[39;00m epoch_iterator\u001b[38;5;241m.\u001b[39menumerate_epoch():\n\u001b[0;32m    317\u001b[0m     callbacks\u001b[38;5;241m.\u001b[39mon_train_batch_begin(step)\n\u001b[1;32m--> 318\u001b[0m     logs \u001b[38;5;241m=\u001b[39m \u001b[38;5;28;43mself\u001b[39;49m\u001b[38;5;241;43m.\u001b[39;49m\u001b[43mtrain_function\u001b[49m\u001b[43m(\u001b[49m\u001b[43miterator\u001b[49m\u001b[43m)\u001b[49m\n\u001b[0;32m    319\u001b[0m     logs \u001b[38;5;241m=\u001b[39m \u001b[38;5;28mself\u001b[39m\u001b[38;5;241m.\u001b[39m_pythonify_logs(logs)\n\u001b[0;32m    320\u001b[0m     callbacks\u001b[38;5;241m.\u001b[39mon_train_batch_end(step, logs)\n",
      "File \u001b[1;32mc:\\Users\\henri\\OneDrive\\Área de Trabalho\\Programação\\Projetos e Atividades\\Graduação BSI\\PETs\\IDS para redes veiculares\\myenv\\Lib\\site-packages\\tensorflow\\python\\util\\traceback_utils.py:150\u001b[0m, in \u001b[0;36mfilter_traceback.<locals>.error_handler\u001b[1;34m(*args, **kwargs)\u001b[0m\n\u001b[0;32m    148\u001b[0m filtered_tb \u001b[38;5;241m=\u001b[39m \u001b[38;5;28;01mNone\u001b[39;00m\n\u001b[0;32m    149\u001b[0m \u001b[38;5;28;01mtry\u001b[39;00m:\n\u001b[1;32m--> 150\u001b[0m   \u001b[38;5;28;01mreturn\u001b[39;00m \u001b[43mfn\u001b[49m\u001b[43m(\u001b[49m\u001b[38;5;241;43m*\u001b[39;49m\u001b[43margs\u001b[49m\u001b[43m,\u001b[49m\u001b[43m \u001b[49m\u001b[38;5;241;43m*\u001b[39;49m\u001b[38;5;241;43m*\u001b[39;49m\u001b[43mkwargs\u001b[49m\u001b[43m)\u001b[49m\n\u001b[0;32m    151\u001b[0m \u001b[38;5;28;01mexcept\u001b[39;00m \u001b[38;5;167;01mException\u001b[39;00m \u001b[38;5;28;01mas\u001b[39;00m e:\n\u001b[0;32m    152\u001b[0m   filtered_tb \u001b[38;5;241m=\u001b[39m _process_traceback_frames(e\u001b[38;5;241m.\u001b[39m__traceback__)\n",
      "File \u001b[1;32mc:\\Users\\henri\\OneDrive\\Área de Trabalho\\Programação\\Projetos e Atividades\\Graduação BSI\\PETs\\IDS para redes veiculares\\myenv\\Lib\\site-packages\\tensorflow\\python\\eager\\polymorphic_function\\polymorphic_function.py:833\u001b[0m, in \u001b[0;36mFunction.__call__\u001b[1;34m(self, *args, **kwds)\u001b[0m\n\u001b[0;32m    830\u001b[0m compiler \u001b[38;5;241m=\u001b[39m \u001b[38;5;124m\"\u001b[39m\u001b[38;5;124mxla\u001b[39m\u001b[38;5;124m\"\u001b[39m \u001b[38;5;28;01mif\u001b[39;00m \u001b[38;5;28mself\u001b[39m\u001b[38;5;241m.\u001b[39m_jit_compile \u001b[38;5;28;01melse\u001b[39;00m \u001b[38;5;124m\"\u001b[39m\u001b[38;5;124mnonXla\u001b[39m\u001b[38;5;124m\"\u001b[39m\n\u001b[0;32m    832\u001b[0m \u001b[38;5;28;01mwith\u001b[39;00m OptionalXlaContext(\u001b[38;5;28mself\u001b[39m\u001b[38;5;241m.\u001b[39m_jit_compile):\n\u001b[1;32m--> 833\u001b[0m   result \u001b[38;5;241m=\u001b[39m \u001b[38;5;28;43mself\u001b[39;49m\u001b[38;5;241;43m.\u001b[39;49m\u001b[43m_call\u001b[49m\u001b[43m(\u001b[49m\u001b[38;5;241;43m*\u001b[39;49m\u001b[43margs\u001b[49m\u001b[43m,\u001b[49m\u001b[43m \u001b[49m\u001b[38;5;241;43m*\u001b[39;49m\u001b[38;5;241;43m*\u001b[39;49m\u001b[43mkwds\u001b[49m\u001b[43m)\u001b[49m\n\u001b[0;32m    835\u001b[0m new_tracing_count \u001b[38;5;241m=\u001b[39m \u001b[38;5;28mself\u001b[39m\u001b[38;5;241m.\u001b[39mexperimental_get_tracing_count()\n\u001b[0;32m    836\u001b[0m without_tracing \u001b[38;5;241m=\u001b[39m (tracing_count \u001b[38;5;241m==\u001b[39m new_tracing_count)\n",
      "File \u001b[1;32mc:\\Users\\henri\\OneDrive\\Área de Trabalho\\Programação\\Projetos e Atividades\\Graduação BSI\\PETs\\IDS para redes veiculares\\myenv\\Lib\\site-packages\\tensorflow\\python\\eager\\polymorphic_function\\polymorphic_function.py:878\u001b[0m, in \u001b[0;36mFunction._call\u001b[1;34m(self, *args, **kwds)\u001b[0m\n\u001b[0;32m    875\u001b[0m \u001b[38;5;28mself\u001b[39m\u001b[38;5;241m.\u001b[39m_lock\u001b[38;5;241m.\u001b[39mrelease()\n\u001b[0;32m    876\u001b[0m \u001b[38;5;66;03m# In this case we have not created variables on the first call. So we can\u001b[39;00m\n\u001b[0;32m    877\u001b[0m \u001b[38;5;66;03m# run the first trace but we should fail if variables are created.\u001b[39;00m\n\u001b[1;32m--> 878\u001b[0m results \u001b[38;5;241m=\u001b[39m \u001b[43mtracing_compilation\u001b[49m\u001b[38;5;241;43m.\u001b[39;49m\u001b[43mcall_function\u001b[49m\u001b[43m(\u001b[49m\n\u001b[0;32m    879\u001b[0m \u001b[43m    \u001b[49m\u001b[43margs\u001b[49m\u001b[43m,\u001b[49m\u001b[43m \u001b[49m\u001b[43mkwds\u001b[49m\u001b[43m,\u001b[49m\u001b[43m \u001b[49m\u001b[38;5;28;43mself\u001b[39;49m\u001b[38;5;241;43m.\u001b[39;49m\u001b[43m_variable_creation_config\u001b[49m\n\u001b[0;32m    880\u001b[0m \u001b[43m\u001b[49m\u001b[43m)\u001b[49m\n\u001b[0;32m    881\u001b[0m \u001b[38;5;28;01mif\u001b[39;00m \u001b[38;5;28mself\u001b[39m\u001b[38;5;241m.\u001b[39m_created_variables:\n\u001b[0;32m    882\u001b[0m   \u001b[38;5;28;01mraise\u001b[39;00m \u001b[38;5;167;01mValueError\u001b[39;00m(\u001b[38;5;124m\"\u001b[39m\u001b[38;5;124mCreating variables on a non-first call to a function\u001b[39m\u001b[38;5;124m\"\u001b[39m\n\u001b[0;32m    883\u001b[0m                    \u001b[38;5;124m\"\u001b[39m\u001b[38;5;124m decorated with tf.function.\u001b[39m\u001b[38;5;124m\"\u001b[39m)\n",
      "File \u001b[1;32mc:\\Users\\henri\\OneDrive\\Área de Trabalho\\Programação\\Projetos e Atividades\\Graduação BSI\\PETs\\IDS para redes veiculares\\myenv\\Lib\\site-packages\\tensorflow\\python\\eager\\polymorphic_function\\tracing_compilation.py:139\u001b[0m, in \u001b[0;36mcall_function\u001b[1;34m(args, kwargs, tracing_options)\u001b[0m\n\u001b[0;32m    137\u001b[0m bound_args \u001b[38;5;241m=\u001b[39m function\u001b[38;5;241m.\u001b[39mfunction_type\u001b[38;5;241m.\u001b[39mbind(\u001b[38;5;241m*\u001b[39margs, \u001b[38;5;241m*\u001b[39m\u001b[38;5;241m*\u001b[39mkwargs)\n\u001b[0;32m    138\u001b[0m flat_inputs \u001b[38;5;241m=\u001b[39m function\u001b[38;5;241m.\u001b[39mfunction_type\u001b[38;5;241m.\u001b[39munpack_inputs(bound_args)\n\u001b[1;32m--> 139\u001b[0m \u001b[38;5;28;01mreturn\u001b[39;00m \u001b[43mfunction\u001b[49m\u001b[38;5;241;43m.\u001b[39;49m\u001b[43m_call_flat\u001b[49m\u001b[43m(\u001b[49m\u001b[43m  \u001b[49m\u001b[38;5;66;43;03m# pylint: disable=protected-access\u001b[39;49;00m\n\u001b[0;32m    140\u001b[0m \u001b[43m    \u001b[49m\u001b[43mflat_inputs\u001b[49m\u001b[43m,\u001b[49m\u001b[43m \u001b[49m\u001b[43mcaptured_inputs\u001b[49m\u001b[38;5;241;43m=\u001b[39;49m\u001b[43mfunction\u001b[49m\u001b[38;5;241;43m.\u001b[39;49m\u001b[43mcaptured_inputs\u001b[49m\n\u001b[0;32m    141\u001b[0m \u001b[43m\u001b[49m\u001b[43m)\u001b[49m\n",
      "File \u001b[1;32mc:\\Users\\henri\\OneDrive\\Área de Trabalho\\Programação\\Projetos e Atividades\\Graduação BSI\\PETs\\IDS para redes veiculares\\myenv\\Lib\\site-packages\\tensorflow\\python\\eager\\polymorphic_function\\concrete_function.py:1322\u001b[0m, in \u001b[0;36mConcreteFunction._call_flat\u001b[1;34m(self, tensor_inputs, captured_inputs)\u001b[0m\n\u001b[0;32m   1318\u001b[0m possible_gradient_type \u001b[38;5;241m=\u001b[39m gradients_util\u001b[38;5;241m.\u001b[39mPossibleTapeGradientTypes(args)\n\u001b[0;32m   1319\u001b[0m \u001b[38;5;28;01mif\u001b[39;00m (possible_gradient_type \u001b[38;5;241m==\u001b[39m gradients_util\u001b[38;5;241m.\u001b[39mPOSSIBLE_GRADIENT_TYPES_NONE\n\u001b[0;32m   1320\u001b[0m     \u001b[38;5;129;01mand\u001b[39;00m executing_eagerly):\n\u001b[0;32m   1321\u001b[0m   \u001b[38;5;66;03m# No tape is watching; skip to running the function.\u001b[39;00m\n\u001b[1;32m-> 1322\u001b[0m   \u001b[38;5;28;01mreturn\u001b[39;00m \u001b[38;5;28;43mself\u001b[39;49m\u001b[38;5;241;43m.\u001b[39;49m\u001b[43m_inference_function\u001b[49m\u001b[38;5;241;43m.\u001b[39;49m\u001b[43mcall_preflattened\u001b[49m\u001b[43m(\u001b[49m\u001b[43margs\u001b[49m\u001b[43m)\u001b[49m\n\u001b[0;32m   1323\u001b[0m forward_backward \u001b[38;5;241m=\u001b[39m \u001b[38;5;28mself\u001b[39m\u001b[38;5;241m.\u001b[39m_select_forward_and_backward_functions(\n\u001b[0;32m   1324\u001b[0m     args,\n\u001b[0;32m   1325\u001b[0m     possible_gradient_type,\n\u001b[0;32m   1326\u001b[0m     executing_eagerly)\n\u001b[0;32m   1327\u001b[0m forward_function, args_with_tangents \u001b[38;5;241m=\u001b[39m forward_backward\u001b[38;5;241m.\u001b[39mforward()\n",
      "File \u001b[1;32mc:\\Users\\henri\\OneDrive\\Área de Trabalho\\Programação\\Projetos e Atividades\\Graduação BSI\\PETs\\IDS para redes veiculares\\myenv\\Lib\\site-packages\\tensorflow\\python\\eager\\polymorphic_function\\atomic_function.py:216\u001b[0m, in \u001b[0;36mAtomicFunction.call_preflattened\u001b[1;34m(self, args)\u001b[0m\n\u001b[0;32m    214\u001b[0m \u001b[38;5;28;01mdef\u001b[39;00m \u001b[38;5;21mcall_preflattened\u001b[39m(\u001b[38;5;28mself\u001b[39m, args: Sequence[core\u001b[38;5;241m.\u001b[39mTensor]) \u001b[38;5;241m-\u001b[39m\u001b[38;5;241m>\u001b[39m Any:\n\u001b[0;32m    215\u001b[0m \u001b[38;5;250m  \u001b[39m\u001b[38;5;124;03m\"\"\"Calls with flattened tensor inputs and returns the structured output.\"\"\"\u001b[39;00m\n\u001b[1;32m--> 216\u001b[0m   flat_outputs \u001b[38;5;241m=\u001b[39m \u001b[38;5;28;43mself\u001b[39;49m\u001b[38;5;241;43m.\u001b[39;49m\u001b[43mcall_flat\u001b[49m\u001b[43m(\u001b[49m\u001b[38;5;241;43m*\u001b[39;49m\u001b[43margs\u001b[49m\u001b[43m)\u001b[49m\n\u001b[0;32m    217\u001b[0m   \u001b[38;5;28;01mreturn\u001b[39;00m \u001b[38;5;28mself\u001b[39m\u001b[38;5;241m.\u001b[39mfunction_type\u001b[38;5;241m.\u001b[39mpack_output(flat_outputs)\n",
      "File \u001b[1;32mc:\\Users\\henri\\OneDrive\\Área de Trabalho\\Programação\\Projetos e Atividades\\Graduação BSI\\PETs\\IDS para redes veiculares\\myenv\\Lib\\site-packages\\tensorflow\\python\\eager\\polymorphic_function\\atomic_function.py:251\u001b[0m, in \u001b[0;36mAtomicFunction.call_flat\u001b[1;34m(self, *args)\u001b[0m\n\u001b[0;32m    249\u001b[0m \u001b[38;5;28;01mwith\u001b[39;00m record\u001b[38;5;241m.\u001b[39mstop_recording():\n\u001b[0;32m    250\u001b[0m   \u001b[38;5;28;01mif\u001b[39;00m \u001b[38;5;28mself\u001b[39m\u001b[38;5;241m.\u001b[39m_bound_context\u001b[38;5;241m.\u001b[39mexecuting_eagerly():\n\u001b[1;32m--> 251\u001b[0m     outputs \u001b[38;5;241m=\u001b[39m \u001b[38;5;28;43mself\u001b[39;49m\u001b[38;5;241;43m.\u001b[39;49m\u001b[43m_bound_context\u001b[49m\u001b[38;5;241;43m.\u001b[39;49m\u001b[43mcall_function\u001b[49m\u001b[43m(\u001b[49m\n\u001b[0;32m    252\u001b[0m \u001b[43m        \u001b[49m\u001b[38;5;28;43mself\u001b[39;49m\u001b[38;5;241;43m.\u001b[39;49m\u001b[43mname\u001b[49m\u001b[43m,\u001b[49m\n\u001b[0;32m    253\u001b[0m \u001b[43m        \u001b[49m\u001b[38;5;28;43mlist\u001b[39;49m\u001b[43m(\u001b[49m\u001b[43margs\u001b[49m\u001b[43m)\u001b[49m\u001b[43m,\u001b[49m\n\u001b[0;32m    254\u001b[0m \u001b[43m        \u001b[49m\u001b[38;5;28;43mlen\u001b[39;49m\u001b[43m(\u001b[49m\u001b[38;5;28;43mself\u001b[39;49m\u001b[38;5;241;43m.\u001b[39;49m\u001b[43mfunction_type\u001b[49m\u001b[38;5;241;43m.\u001b[39;49m\u001b[43mflat_outputs\u001b[49m\u001b[43m)\u001b[49m\u001b[43m,\u001b[49m\n\u001b[0;32m    255\u001b[0m \u001b[43m    \u001b[49m\u001b[43m)\u001b[49m\n\u001b[0;32m    256\u001b[0m   \u001b[38;5;28;01melse\u001b[39;00m:\n\u001b[0;32m    257\u001b[0m     outputs \u001b[38;5;241m=\u001b[39m make_call_op_in_graph(\n\u001b[0;32m    258\u001b[0m         \u001b[38;5;28mself\u001b[39m,\n\u001b[0;32m    259\u001b[0m         \u001b[38;5;28mlist\u001b[39m(args),\n\u001b[0;32m    260\u001b[0m         \u001b[38;5;28mself\u001b[39m\u001b[38;5;241m.\u001b[39m_bound_context\u001b[38;5;241m.\u001b[39mfunction_call_options\u001b[38;5;241m.\u001b[39mas_attrs(),\n\u001b[0;32m    261\u001b[0m     )\n",
      "File \u001b[1;32mc:\\Users\\henri\\OneDrive\\Área de Trabalho\\Programação\\Projetos e Atividades\\Graduação BSI\\PETs\\IDS para redes veiculares\\myenv\\Lib\\site-packages\\tensorflow\\python\\eager\\context.py:1500\u001b[0m, in \u001b[0;36mContext.call_function\u001b[1;34m(self, name, tensor_inputs, num_outputs)\u001b[0m\n\u001b[0;32m   1498\u001b[0m cancellation_context \u001b[38;5;241m=\u001b[39m cancellation\u001b[38;5;241m.\u001b[39mcontext()\n\u001b[0;32m   1499\u001b[0m \u001b[38;5;28;01mif\u001b[39;00m cancellation_context \u001b[38;5;129;01mis\u001b[39;00m \u001b[38;5;28;01mNone\u001b[39;00m:\n\u001b[1;32m-> 1500\u001b[0m   outputs \u001b[38;5;241m=\u001b[39m \u001b[43mexecute\u001b[49m\u001b[38;5;241;43m.\u001b[39;49m\u001b[43mexecute\u001b[49m\u001b[43m(\u001b[49m\n\u001b[0;32m   1501\u001b[0m \u001b[43m      \u001b[49m\u001b[43mname\u001b[49m\u001b[38;5;241;43m.\u001b[39;49m\u001b[43mdecode\u001b[49m\u001b[43m(\u001b[49m\u001b[38;5;124;43m\"\u001b[39;49m\u001b[38;5;124;43mutf-8\u001b[39;49m\u001b[38;5;124;43m\"\u001b[39;49m\u001b[43m)\u001b[49m\u001b[43m,\u001b[49m\n\u001b[0;32m   1502\u001b[0m \u001b[43m      \u001b[49m\u001b[43mnum_outputs\u001b[49m\u001b[38;5;241;43m=\u001b[39;49m\u001b[43mnum_outputs\u001b[49m\u001b[43m,\u001b[49m\n\u001b[0;32m   1503\u001b[0m \u001b[43m      \u001b[49m\u001b[43minputs\u001b[49m\u001b[38;5;241;43m=\u001b[39;49m\u001b[43mtensor_inputs\u001b[49m\u001b[43m,\u001b[49m\n\u001b[0;32m   1504\u001b[0m \u001b[43m      \u001b[49m\u001b[43mattrs\u001b[49m\u001b[38;5;241;43m=\u001b[39;49m\u001b[43mattrs\u001b[49m\u001b[43m,\u001b[49m\n\u001b[0;32m   1505\u001b[0m \u001b[43m      \u001b[49m\u001b[43mctx\u001b[49m\u001b[38;5;241;43m=\u001b[39;49m\u001b[38;5;28;43mself\u001b[39;49m\u001b[43m,\u001b[49m\n\u001b[0;32m   1506\u001b[0m \u001b[43m  \u001b[49m\u001b[43m)\u001b[49m\n\u001b[0;32m   1507\u001b[0m \u001b[38;5;28;01melse\u001b[39;00m:\n\u001b[0;32m   1508\u001b[0m   outputs \u001b[38;5;241m=\u001b[39m execute\u001b[38;5;241m.\u001b[39mexecute_with_cancellation(\n\u001b[0;32m   1509\u001b[0m       name\u001b[38;5;241m.\u001b[39mdecode(\u001b[38;5;124m\"\u001b[39m\u001b[38;5;124mutf-8\u001b[39m\u001b[38;5;124m\"\u001b[39m),\n\u001b[0;32m   1510\u001b[0m       num_outputs\u001b[38;5;241m=\u001b[39mnum_outputs,\n\u001b[1;32m   (...)\u001b[0m\n\u001b[0;32m   1514\u001b[0m       cancellation_manager\u001b[38;5;241m=\u001b[39mcancellation_context,\n\u001b[0;32m   1515\u001b[0m   )\n",
      "File \u001b[1;32mc:\\Users\\henri\\OneDrive\\Área de Trabalho\\Programação\\Projetos e Atividades\\Graduação BSI\\PETs\\IDS para redes veiculares\\myenv\\Lib\\site-packages\\tensorflow\\python\\eager\\execute.py:53\u001b[0m, in \u001b[0;36mquick_execute\u001b[1;34m(op_name, num_outputs, inputs, attrs, ctx, name)\u001b[0m\n\u001b[0;32m     51\u001b[0m \u001b[38;5;28;01mtry\u001b[39;00m:\n\u001b[0;32m     52\u001b[0m   ctx\u001b[38;5;241m.\u001b[39mensure_initialized()\n\u001b[1;32m---> 53\u001b[0m   tensors \u001b[38;5;241m=\u001b[39m \u001b[43mpywrap_tfe\u001b[49m\u001b[38;5;241;43m.\u001b[39;49m\u001b[43mTFE_Py_Execute\u001b[49m\u001b[43m(\u001b[49m\u001b[43mctx\u001b[49m\u001b[38;5;241;43m.\u001b[39;49m\u001b[43m_handle\u001b[49m\u001b[43m,\u001b[49m\u001b[43m \u001b[49m\u001b[43mdevice_name\u001b[49m\u001b[43m,\u001b[49m\u001b[43m \u001b[49m\u001b[43mop_name\u001b[49m\u001b[43m,\u001b[49m\n\u001b[0;32m     54\u001b[0m \u001b[43m                                      \u001b[49m\u001b[43minputs\u001b[49m\u001b[43m,\u001b[49m\u001b[43m \u001b[49m\u001b[43mattrs\u001b[49m\u001b[43m,\u001b[49m\u001b[43m \u001b[49m\u001b[43mnum_outputs\u001b[49m\u001b[43m)\u001b[49m\n\u001b[0;32m     55\u001b[0m \u001b[38;5;28;01mexcept\u001b[39;00m core\u001b[38;5;241m.\u001b[39m_NotOkStatusException \u001b[38;5;28;01mas\u001b[39;00m e:\n\u001b[0;32m     56\u001b[0m   \u001b[38;5;28;01mif\u001b[39;00m name \u001b[38;5;129;01mis\u001b[39;00m \u001b[38;5;129;01mnot\u001b[39;00m \u001b[38;5;28;01mNone\u001b[39;00m:\n",
      "\u001b[1;31mKeyboardInterrupt\u001b[0m: "
     ]
    }
   ],
   "source": [
    "history = model.fit(train_data_2, train_data_2, epochs=EPOCHS, batch_size=BATCH_SIZE, validation_split=0.2, callbacks=[early_stopping])"
   ]
  },
  {
   "cell_type": "code",
   "execution_count": null,
   "metadata": {},
   "outputs": [],
   "source": [
    "del train_data_2"
   ]
  },
  {
   "cell_type": "markdown",
   "metadata": {},
   "source": [
    "### Predições e Classificações"
   ]
  },
  {
   "cell_type": "code",
   "execution_count": 73,
   "metadata": {},
   "outputs": [
    {
     "name": "stdout",
     "output_type": "stream",
     "text": [
      "\u001b[1m23977/23977\u001b[0m \u001b[32m━━━━━━━━━━━━━━━━━━━━\u001b[0m\u001b[37m\u001b[0m \u001b[1m198s\u001b[0m 8ms/step\n"
     ]
    },
    {
     "data": {
      "text/plain": [
       "array([[[0.999601  ],\n",
       "        [0.9996009 ],\n",
       "        [0.9996009 ],\n",
       "        ...,\n",
       "        [0.9996009 ],\n",
       "        [0.9996009 ],\n",
       "        [0.9996009 ]],\n",
       "\n",
       "       [[0.99960107],\n",
       "        [0.99960095],\n",
       "        [0.9996009 ],\n",
       "        ...,\n",
       "        [0.9996009 ],\n",
       "        [0.9996009 ],\n",
       "        [0.9996009 ]],\n",
       "\n",
       "       [[0.99960107],\n",
       "        [0.99960095],\n",
       "        [0.99960095],\n",
       "        ...,\n",
       "        [0.99960095],\n",
       "        [0.99960095],\n",
       "        [0.99960095]],\n",
       "\n",
       "       ...,\n",
       "\n",
       "       [[0.99960107],\n",
       "        [0.99960095],\n",
       "        [0.99960095],\n",
       "        ...,\n",
       "        [0.99960095],\n",
       "        [0.99960095],\n",
       "        [0.99960095]],\n",
       "\n",
       "       [[0.99960107],\n",
       "        [0.99960095],\n",
       "        [0.99960095],\n",
       "        ...,\n",
       "        [0.99960095],\n",
       "        [0.99960095],\n",
       "        [0.99960095]],\n",
       "\n",
       "       [[0.99960107],\n",
       "        [0.99960095],\n",
       "        [0.99960095],\n",
       "        ...,\n",
       "        [0.9996009 ],\n",
       "        [0.9996009 ],\n",
       "        [0.9996009 ]]], dtype=float32)"
      ]
     },
     "execution_count": 73,
     "metadata": {},
     "output_type": "execute_result"
    }
   ],
   "source": [
    "predicts = model.predict(test_data_2)\n",
    "predicts"
   ]
  },
  {
   "cell_type": "code",
   "execution_count": 74,
   "metadata": {},
   "outputs": [],
   "source": [
    "def mean_square_error(original_data, predicted_data, threshold=0.5):\n",
    "    \"\"\"\n",
    "    Função para classificar as amostras como benignas (1) ou malignas (-1) com base no erro de reconstrução.\n",
    "\n",
    "    Parâmetros:\n",
    "        original_data (numpy.array): Os dados originais.\n",
    "        predicted_data (numpy.array): As previsões geradas pelo modelo autoencoder.\n",
    "        threshold (float): O limiar de decisão para classificar as amostras.\n",
    "\n",
    "    Retorna:\n",
    "        numpy.array: Um array de classificação binária para cada amostra.\n",
    "    \"\"\"\n",
    "    # Calcula o erro de reconstrução (MSE) para cada amostra\n",
    "    reconstruction_errors = np.mean(np.square(original_data - predicted_data), axis=(1, 2))\n",
    "\n",
    "    # Classifica as amostras com base no limiar\n",
    "    classifications = np.where(reconstruction_errors < threshold, 1, -1)\n",
    "\n",
    "    #del reconstruction_errors\n",
    "\n",
    "    return classifications, reconstruction_errors"
   ]
  },
  {
   "cell_type": "code",
   "execution_count": 75,
   "metadata": {},
   "outputs": [],
   "source": [
    "def mean_absolute_error(original_data, reconstructed_data, threshold=0.5):\n",
    "    \n",
    "    \"\"\"\n",
    "    Calcula o Erro Absoluto Médio (MAE) entre os dados originais e reconstruídos.\n",
    "\n",
    "    Args:\n",
    "    - original_data: array NumPy contendo os dados originais.\n",
    "    - reconstructed_data: array NumPy contendo os dados reconstruídos pelo modelo.\n",
    "\n",
    "    Returns:\n",
    "    - mae: o Erro Absoluto Médio entre os dados originais e reconstruídos.\n",
    "    \"\"\"\n",
    "\n",
    "\n",
    "    # Calcula a diferença absoluta entre os dados originais e reconstruídos\n",
    "    # Calcula o MAE como a média da diferença absoluta\n",
    "    mae = np.mean((np.abs(original_data - reconstructed_data)), axis=(1, 2))\n",
    "\n",
    "    classifications = np.where(mae < threshold, 1, -1)\n",
    "\n",
    "    del mae\n",
    "\n",
    "    return classifications"
   ]
  },
  {
   "cell_type": "code",
   "execution_count": 76,
   "metadata": {},
   "outputs": [],
   "source": [
    "def find_best_threshold_mse(original_data, predicted_data, proportion, threshold=0.5):\n",
    "\n",
    "    reconstruction_errors = np.mean(np.square(original_data - predicted_data), axis=(1, 2))\n",
    "\n",
    "    classifications = np.where(reconstruction_errors < threshold, 1, -1)\n",
    "\n",
    "    del reconstruction_errors\n",
    "\n",
    "    proportion_predicted = len(classifications[classifications == -1]) / len(classifications)\n",
    "\n",
    "    del classifications\n",
    "\n",
    "    print(f\"Threshold: {threshold}, Proportion_predicted: {proportion_predicted}\")\n",
    "\n",
    "    if proportion_predicted < proportion:\n",
    "        del proportion_predicted\n",
    "        return find_best_threshold_mse(original_data, predicted_data, proportion, 0.9*threshold)\n",
    "    elif proportion_predicted > proportion:\n",
    "        del proportion_predicted\n",
    "        return find_best_threshold_mse(original_data, predicted_data, proportion, 1.1*threshold)\n",
    "    else:\n",
    "        del proportion_predicted\n",
    "        return threshold"
   ]
  },
  {
   "cell_type": "code",
   "execution_count": 77,
   "metadata": {},
   "outputs": [],
   "source": [
    "def find_best_threshold(y_true, y_scores):\n",
    "    \"\"\"\n",
    "    Encontra o melhor threshold baseado na proporção correta entre dados malignos e benignos.\n",
    "\n",
    "    Parameters:\n",
    "    y_true (np.array): Array de valores verdadeiros (-1 para benigno, 1 para maligno)\n",
    "    y_scores (np.array): Array de scores preditos pelo modelo\n",
    "\n",
    "    Returns:\n",
    "    float: Melhor threshold encontrado\n",
    "    \"\"\"\n",
    "    \n",
    "    # Certificar que os inputs são arrays numpy\n",
    "    y_true = np.array(y_true)\n",
    "    y_scores = np.array(y_scores)\n",
    "    \n",
    "    # Ordenar os scores e calcular possíveis thresholds\n",
    "    thresholds = np.sort(y_scores)\n",
    "    \n",
    "    # Inicializar variáveis para acompanhar o melhor threshold e melhor acurácia ponderada\n",
    "    best_threshold = None\n",
    "    best_weighted_accuracy = -np.inf\n",
    "    \n",
    "    # Calcular proporção dos dados malignos e benignos\n",
    "    prop_malignos = np.sum(y_true == 1) / len(y_true)\n",
    "    prop_benignos = np.sum(y_true == -1) / len(y_true)\n",
    "    \n",
    "    for threshold in tqdm(thresholds):\n",
    "        # Calcular predições baseadas no threshold atual\n",
    "        y_pred = np.where(y_scores >= threshold, 1, -1)\n",
    "        \n",
    "        # Calcular acurácia ponderada\n",
    "        accuracy_malignos = np.sum((y_true == 1) & (y_pred > 0)) / np.sum(y_true == 1)\n",
    "        accuracy_benignos = np.sum((y_true == -1) & (y_pred == 0)) / np.sum(y_true == -1)\n",
    "        \n",
    "        weighted_accuracy = prop_malignos * accuracy_malignos + prop_benignos * accuracy_benignos\n",
    "        \n",
    "        # Atualizar melhor threshold se a acurácia ponderada atual for melhor\n",
    "        if weighted_accuracy > best_weighted_accuracy:\n",
    "            best_weighted_accuracy = weighted_accuracy\n",
    "            best_threshold = threshold\n",
    "    \n",
    "    return best_threshold"
   ]
  },
  {
   "cell_type": "markdown",
   "metadata": {},
   "source": [
    "Registrando os erros de reconstrução:"
   ]
  },
  {
   "cell_type": "code",
   "execution_count": 78,
   "metadata": {},
   "outputs": [],
   "source": [
    "classifications_mse, reconstruction_errors = mean_square_error(test_data_2, predicts)"
   ]
  },
  {
   "cell_type": "markdown",
   "metadata": {},
   "source": [
    "Encontrando um bom Threshold:"
   ]
  },
  {
   "cell_type": "code",
   "execution_count": null,
   "metadata": {},
   "outputs": [],
   "source": [
    "THRESHOLD = find_best_threshold_mse(test_data_2_labels, reconstruction_errors, malicious_proportion)"
   ]
  },
  {
   "cell_type": "code",
   "execution_count": 80,
   "metadata": {},
   "outputs": [
    {
     "data": {
      "text/plain": [
       "array([8.00484336e-02, 7.00564134e-02, 7.00563946e-02, ...,\n",
       "       5.06135346e-07, 5.06135346e-07, 5.16637995e-07])"
      ]
     },
     "execution_count": 80,
     "metadata": {},
     "output_type": "execute_result"
    }
   ],
   "source": [
    "reconstruction_errors"
   ]
  },
  {
   "cell_type": "code",
   "execution_count": 110,
   "metadata": {},
   "outputs": [],
   "source": [
    "THRESHOLD"
   ]
  },
  {
   "cell_type": "markdown",
   "metadata": {},
   "source": [
    "Classificando de acordo com o Threshold encontrado:"
   ]
  },
  {
   "cell_type": "code",
   "execution_count": 111,
   "metadata": {},
   "outputs": [],
   "source": [
    "classifications_mse, reconstruction_errors = mean_square_error(test_data_2, predicts, THRESHOLD)"
   ]
  },
  {
   "cell_type": "markdown",
   "metadata": {},
   "source": [
    "### Avaliações"
   ]
  },
  {
   "cell_type": "code",
   "execution_count": 112,
   "metadata": {},
   "outputs": [
    {
     "data": {
      "text/plain": [
       "(0.9545269112213178, 0.9545269112213178)"
      ]
     },
     "execution_count": 112,
     "metadata": {},
     "output_type": "execute_result"
    }
   ],
   "source": [
    "len(classifications_mse[classifications_mse == -1]) / len(classifications_mse), malicious_proportion"
   ]
  },
  {
   "cell_type": "code",
   "execution_count": 113,
   "metadata": {},
   "outputs": [
    {
     "data": {
      "text/plain": [
       "array([-1, -1, -1, ...,  1,  1,  1])"
      ]
     },
     "execution_count": 113,
     "metadata": {},
     "output_type": "execute_result"
    }
   ],
   "source": [
    "reconstruction_errors_rounded = np.where(reconstruction_errors > THRESHOLD, -1, 1)\n",
    "reconstruction_errors_rounded"
   ]
  },
  {
   "cell_type": "code",
   "execution_count": 114,
   "metadata": {},
   "outputs": [],
   "source": [
    "def plot_roc_curve(y_true, y_score, max_fpr=1.0):\n",
    "  fpr, tpr, thresholds = roc_curve(y_true, y_score)\n",
    "  aucroc = roc_auc_score(y_true, y_score)\n",
    "  plt.plot(100*fpr[fpr < max_fpr], 100*tpr[fpr < max_fpr], label=f'ROC Curve (AUC = {aucroc:.4f})')\n",
    "  plt.xlim(-2,102)\n",
    "  plt.xlabel('FPR (%)')\n",
    "  plt.ylabel('TPR (%)')\n",
    "  plt.legend()\n",
    "  plt.title('ROC Curve and AUCROC')"
   ]
  },
  {
   "cell_type": "markdown",
   "metadata": {},
   "source": [
    "Curva ROC:"
   ]
  },
  {
   "cell_type": "code",
   "execution_count": 115,
   "metadata": {},
   "outputs": [
    {
     "data": {
      "image/png": "[encoded data removed]",
      "text/plain": [
       "<Figure size 640x480 with 1 Axes>"
      ]
     },
     "metadata": {},
     "output_type": "display_data"
    }
   ],
   "source": [
    "plot_roc_curve(test_data_2_labels, 1/reconstruction_errors)"
   ]
  },
  {
   "cell_type": "code",
   "execution_count": 116,
   "metadata": {},
   "outputs": [],
   "source": [
    "def plot_precision_recall_curve(y_true, y_score):\n",
    "    precision, recall, _ = precision_recall_curve(y_true, y_score)\n",
    "    plt.plot(recall, precision, marker='.')\n",
    "    plt.xlabel('Recall')\n",
    "    plt.ylabel('Precision')\n",
    "    plt.title('Precision-Recall Curve')\n",
    "    plt.show()"
   ]
  },
  {
   "cell_type": "markdown",
   "metadata": {},
   "source": [
    "Curva Recall:"
   ]
  },
  {
   "cell_type": "code",
   "execution_count": 117,
   "metadata": {},
   "outputs": [
    {
     "data": {
      "image/png": "[encoded data removed]",
      "text/plain": [
       "<Figure size 640x480 with 1 Axes>"
      ]
     },
     "metadata": {},
     "output_type": "display_data"
    }
   ],
   "source": [
    "plot_precision_recall_curve(test_data_2_labels, 1/reconstruction_errors)"
   ]
  },
  {
   "cell_type": "code",
   "execution_count": 118,
   "metadata": {},
   "outputs": [],
   "source": [
    "def plot_confusion_matrix(y_true, y_pred):\n",
    "  cm = confusion_matrix(y_true, y_pred)\n",
    "  group_counts = [f'{value:.0f}' for value in confusion_matrix(y_true, y_pred).ravel()]\n",
    "  group_percentages = [f'{value*100:.2f}%' for value in confusion_matrix(y_true, y_pred).ravel()/np.sum(cm)]\n",
    "  labels = [f'{v1}\\n{v2}' for v1, v2 in zip(group_counts, group_percentages)]\n",
    "  labels = np.array(labels).reshape(2,2)\n",
    "  sns.heatmap(cm, annot=labels, cmap='Oranges', xticklabels=['Predicted Benign', 'Predicted Malicious'], yticklabels=['Actual Benign', 'Actual Malicious'], fmt='')\n",
    "  return"
   ]
  },
  {
   "cell_type": "markdown",
   "metadata": {},
   "source": [
    "Matriz de Confusão:"
   ]
  },
  {
   "cell_type": "code",
   "execution_count": 119,
   "metadata": {},
   "outputs": [
    {
     "data": {
      "image/png": "[encoded data removed]",
      "text/plain": [
       "<Figure size 640x480 with 2 Axes>"
      ]
     },
     "metadata": {},
     "output_type": "display_data"
    }
   ],
   "source": [
    "plot_confusion_matrix(test_data_2_labels, reconstruction_errors_rounded)"
   ]
  },
  {
   "cell_type": "code",
   "execution_count": 120,
   "metadata": {},
   "outputs": [],
   "source": [
    "def get_overall_metrics(y_true, y_pred):\n",
    "  tn, fp, fn, tp = confusion_matrix(y_true, y_pred).ravel()\n",
    "  acc = (tp+tn)/(tp+tn+fp+fn)\n",
    "  tpr = tp/(tp+fn)\n",
    "  fpr = fp/(fp+tn)\n",
    "  precision = tp/(tp+fp)\n",
    "  f1 = (2*tpr*precision)/(tpr+precision)\n",
    "  return {'acc':acc,'tpr':tpr,'fpr':fpr,'precision':precision,'f1-score':f1}"
   ]
  },
  {
   "cell_type": "markdown",
   "metadata": {},
   "source": [
    "Métricas Gerais:"
   ]
  },
  {
   "cell_type": "code",
   "execution_count": 121,
   "metadata": {},
   "outputs": [
    {
     "data": {
      "text/plain": [
       "{'acc': 1.0, 'tpr': 1.0, 'fpr': 0.0, 'precision': 1.0, 'f1-score': 1.0}"
      ]
     },
     "execution_count": 121,
     "metadata": {},
     "output_type": "execute_result"
    }
   ],
   "source": [
    "get_overall_metrics(test_data_2_labels, reconstruction_errors_rounded)"
   ]
  },
  {
   "cell_type": "markdown",
   "metadata": {},
   "source": [
    "### Salvando o modelo:"
   ]
  },
  {
   "cell_type": "markdown",
   "metadata": {},
   "source": [
    "Salvando modelo com diferentes bibliotecas:"
   ]
  },
  {
   "cell_type": "code",
   "execution_count": 122,
   "metadata": {},
   "outputs": [],
   "source": [
    "THRESHOLD = str(THRESHOLD).replace(\".\",\",\")"
   ]
  },
  {
   "cell_type": "code",
   "execution_count": 123,
   "metadata": {},
   "outputs": [],
   "source": [
    "model.save(f'models/model_LSTM_{s_OR_ns}_{classifier_type}_ws{WINDOW_SIZE}_t{THRESHOLD}.keras')"
   ]
  },
  {
   "cell_type": "code",
   "execution_count": 124,
   "metadata": {},
   "outputs": [],
   "source": [
    "with open(f'models/model_LSTM_{s_OR_ns}_{classifier_type}_ws{WINDOW_SIZE}_t{THRESHOLD}.pkl', 'wb') as arquivo:\n",
    "    pickle.dump(model, arquivo)"
   ]
  },
  {
   "cell_type": "code",
   "execution_count": 125,
   "metadata": {},
   "outputs": [
    {
     "data": {
      "text/plain": [
       "['models/model_LSTM_ns_bc_ws100_t1e-06.joblib']"
      ]
     },
     "execution_count": 125,
     "metadata": {},
     "output_type": "execute_result"
    }
   ],
   "source": [
    "dump(model, f\"models/model_LSTM_{s_OR_ns}_{classifier_type}_ws{WINDOW_SIZE}_t{THRESHOLD}.joblib\")"
   ]
  },
  {
   "cell_type": "code",
   "execution_count": 126,
   "metadata": {},
   "outputs": [
    {
     "data": {
      "text/plain": [
       "['models/scalers/scaler_model_LSTM_ns_bc_ws100_t1e-06']"
      ]
     },
     "execution_count": 126,
     "metadata": {},
     "output_type": "execute_result"
    }
   ],
   "source": [
    "dump(scaler, f\"models/scalers/scaler_model_LSTM_{s_OR_ns}_{classifier_type}_ws{WINDOW_SIZE}_t{THRESHOLD}\")"
   ]
  }
 ],
 "metadata": {
  "kernelspec": {
   "display_name": "Python 3",
   "language": "python",
   "name": "python3"
  },
  "language_info": {
   "codemirror_mode": {
    "name": "ipython",
    "version": 3
   },
   "file_extension": ".py",
   "mimetype": "text/x-python",
   "name": "python",
   "nbconvert_exporter": "python",
   "pygments_lexer": "ipython3",
   "version": "3.12.4"
  }
 },
 "nbformat": 4,
 "nbformat_minor": 2
}
