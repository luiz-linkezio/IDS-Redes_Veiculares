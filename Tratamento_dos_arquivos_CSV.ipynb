{
 "cells": [
  {
   "cell_type": "code",
   "execution_count": 1,
   "metadata": {},
   "outputs": [],
   "source": [
    "import csv\n",
    "import os\n",
    "import zipfile"
   ]
  },
  {
   "cell_type": "code",
   "execution_count": 2,
   "metadata": {},
   "outputs": [],
   "source": [
    "# Descompactando\n",
    "with zipfile.ZipFile(\"data/logs completos/Messages_Traffic.zip\", 'r') as zip_ref:\n",
    "    zip_ref.extractall(\"data/logs completos/\")"
   ]
  },
  {
   "cell_type": "markdown",
   "metadata": {},
   "source": [
    "O tratamento consiste em extrair um formato de planilha onde cada linha tem o [id, data] de cada mensagem CAN."
   ]
  },
  {
   "cell_type": "code",
   "execution_count": 4,
   "metadata": {},
   "outputs": [],
   "source": [
    "if not os.path.exists(\"data/logs(id+data)\"):\n",
    "    os.makedirs(\"data/logs(id+data)\")\n",
    "\n",
    "lista_zipada = list()\n",
    "\n",
    "for file in os.listdir(\"data/logs completos\"):\n",
    "\n",
    "    if file == \"Messages_Traffic.zip\":\n",
    "        continue\n",
    "\n",
    "    data_list = list()\n",
    "    id_list = list()\n",
    "    relative_time_list = list()\n",
    "\n",
    "    with open(f\"data/logs completos/{file}\", mode='r', errors=\"ignore\") as arquivo_csv:\n",
    "        leitor_csv = csv.reader(arquivo_csv)\n",
    "        valido = False\n",
    "        for linha in leitor_csv:\n",
    "            if \"DW CAN 01\" in linha:\n",
    "                for coluna in linha[9:10]:\n",
    "                    if len(coluna) == 2:\n",
    "                        id_list.append(coluna)\n",
    "                        valido = True\n",
    "                \n",
    "                if valido == True:\n",
    "                    colunas = int(\"0\", 16)\n",
    "                    for coluna in linha[12:16]:\n",
    "                        if coluna != \"\":\n",
    "                            colunas += int(str(coluna), 16)\n",
    "                        \n",
    "                    data_list.append(colunas)\n",
    "                \n",
    "                    for coluna in linha[2:3]:\n",
    "                        relative_time_list.append(coluna)\n",
    "                    \n",
    "                valido = False\n",
    "\n",
    "    for identification in id_list:\n",
    "        id_list[id_list.index(identification)] = int(identification, 16)\n",
    "\n",
    "    lista_zipada.extend(list(zip(relative_time_list ,id_list, data_list)))\n",
    "\n",
    "with open(f\"data/logs(id+data)/Benign_Traffic(id+data).csv\", mode=\"w\", newline=\"\") as arquivo_csv:\n",
    "    escritor_csv = csv.writer(arquivo_csv)\n",
    "    for elemento in lista_zipada:\n",
    "        escritor_csv.writerow(elemento)"
   ]
  }
 ],
 "metadata": {
  "kernelspec": {
   "display_name": "Python 3",
   "language": "python",
   "name": "python3"
  },
  "language_info": {
   "codemirror_mode": {
    "name": "ipython",
    "version": 3
   },
   "file_extension": ".py",
   "mimetype": "text/x-python",
   "name": "python",
   "nbconvert_exporter": "python",
   "pygments_lexer": "ipython3",
   "version": "3.11.5"
  }
 },
 "nbformat": 4,
 "nbformat_minor": 2
}
